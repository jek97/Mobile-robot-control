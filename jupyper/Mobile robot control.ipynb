{
 "cells": [
  {
   "cell_type": "markdown",
   "id": "847bb782",
   "metadata": {},
   "source": [
    "# User interface Node #\n",
    "This node will create a user interface for the Bug0 robot, in it the user will be able to set a new goal, delete the current one or get infromations about the number of goal reached or deleted."
   ]
  },
  {
   "cell_type": "markdown",
   "id": "0e9163b3",
   "metadata": {},
   "source": [
    "### Libraries and global variables: ###\n",
    "In this first cell a series of libraries needed for the User interface are imported and the global variables are istantiated."
   ]
  },
  {
   "cell_type": "code",
   "execution_count": 1,
   "id": "a6c1f861",
   "metadata": {
    "ExecuteTime": {
     "end_time": "2023-05-30T09:09:10.117669Z",
     "start_time": "2023-05-30T09:09:07.136079Z"
    }
   },
   "outputs": [],
   "source": [
    "#! /usr/bin/env python3\n",
    "\n",
    "%matplotlib widget\n",
    "import rospy\n",
    "import time\n",
    "import sys\n",
    "import select\n",
    "import os\n",
    "import tf\n",
    "import actionlib\n",
    "import actionlib.msg\n",
    "import assignment_2_2022.msg\n",
    "from nav_msgs.msg import Odometry\n",
    "from sensor_msgs.msg import LaserScan\n",
    "from assignment_2_2022.srv import Ngoal\n",
    "import ipywidgets as widgets\n",
    "from ipywidgets import VBox, HBox, Layout\n",
    "import logging\n",
    "from IPython.display import display\n",
    "import jupyros as jr\n",
    "import numpy as np\n",
    "import matplotlib.pyplot as plt\n",
    "from matplotlib.animation import FuncAnimation\n",
    "\n",
    "act_clnt = None # istantiate the action client \n",
    "goal = assignment_2_2022.msg.PlanningGoal() # istantiate the goal message to send \n",
    "goal.target_pose.pose.position.z = 0.0 # set its third component equal to 0\n",
    "info = Ngoal() # istantiate the info request for the service (number of goal reached and deleted)\n",
    "srv_info = None # istantiate the responce\n",
    "gf = 0 # goal flag to increase the number of goal only the first time the state pass to succeeded\n",
    "pr_goalx = [] # array to store the x position of the goal\n",
    "pr_goaly = [] # array to store the y position of the goal\n",
    "x = [] # array to store the last 30 x position of the robot\n",
    "y = [] # array to store the last 30 y position of the robot\n",
    "i = 0 # counter for fulfill the array of the position in odom_cb\n",
    "ax = None # istantiate the graph (robot)\n",
    "count_odom = 0 # counter used to optimize the odom callback\n",
    "count_scan = 0 # counter used to optimize the scan callback"
   ]
  },
  {
   "cell_type": "code",
   "execution_count": 2,
   "id": "2ea1c453",
   "metadata": {
    "ExecuteTime": {
     "end_time": "2023-05-30T09:09:10.140385Z",
     "start_time": "2023-05-30T09:09:10.121002Z"
    }
   },
   "outputs": [],
   "source": [
    "class Visualizer:\n",
    "\n",
    "    def __init__(self):\n",
    "        self.fig, self.ax = plt.subplots()\n",
    "        self.x_data, self.y_data = [], []\n",
    "        self.x_goal, self.y_goal = [], []\n",
    "        self.ln_r, = plt.plot([], [], label = 'robot position', color = 'blue')\n",
    "        self.ln_g, = plt.plot([], [], marker = 'H', label = 'goals', color = 'red')\n",
    "        self.ax.set_title('World Representation')\n",
    "        self.ax.legend()\n",
    "        self.i = 0\n",
    "        \n",
    "    def plot_init(self):\n",
    "        self.ax.set_xlim(-10, 10)\n",
    "        self.ax.set_ylim(-10, 10)\n",
    "        return self.ln_r, self.ln_g\n",
    "    \n",
    "    def odom_cb(self, msg):\n",
    "        if (len(self.x_data) <= 30):\n",
    "            self.x_data.append(round(msg.pose.pose.position.x, 2))\n",
    "            self.y_data.append(round(msg.pose.pose.position.y, 2))\n",
    "        else:\n",
    "            self.x_data[self.i] = round(msg.pose.pose.position.x, 2)\n",
    "            self.y_data[self.i] = round(msg.pose.pose.position.y, 2)\n",
    "            self.i += 1\n",
    "            if (self.i == 30):\n",
    "                self.i = 0\n",
    "            \n",
    "    def goal_update(self, ngoal_x, ngoal_y):\n",
    "        self.x_goal.append(ngoal_x)\n",
    "        self.y_goal.append(ngoal_y)\n",
    "\n",
    "    def refresh_plot(self, frame):\n",
    "        self.ln_r.set_data(self.x_data, self.y_data)\n",
    "        self.ln_g.set_data(self.x_goal, self.y_goal)\n",
    "        return self.ln_r, self.ln_g"
   ]
  },
  {
   "cell_type": "markdown",
   "id": "f7d9809e",
   "metadata": {},
   "source": [
    "### scan_cb function: ###\n",
    "This is the callback of the '/scan' subscriber, each time a new scan detection is acquired this method will be called, in detail one time over fifty the distance to the closer obstacle and the angle to it will be displayed in the relative text box. (note the Lidar of the robot scan the space in front of the robot in 720 partitions, the formula used below move the result in degree between -90 and 90)"
   ]
  },
  {
   "cell_type": "code",
   "execution_count": 3,
   "id": "afd43544",
   "metadata": {
    "ExecuteTime": {
     "end_time": "2023-05-30T09:09:10.258141Z",
     "start_time": "2023-05-30T09:09:10.144312Z"
    }
   },
   "outputs": [],
   "source": [
    "def scan_cb(msg):\n",
    "    global count_scan, gf\n",
    "    \n",
    "    if (count_scan == 50): # one time over fifty\n",
    "        Cod.value = round(min(msg.ranges), 2) # set the distance to the closer obstacle in the text box\n",
    "        Coa.value = ((msg.ranges.index(min(msg.ranges)) + 1) / 4) - 90 # set the angle to it\n",
    "        count_scan = -1 # reset the counter\n",
    "    \n",
    "    count_scan += 1 # increase the counter\n",
    "    \n",
    "    # keep track if the robot reach the goal:\n",
    "    if (act_clnt.get_state() == 3 and gf == 0): # if i've reached the goal\n",
    "        n_goal = rospy.get_param('n_goal') # get the actual number of goal\n",
    "        n_goal = n_goal + 1 # increase it\n",
    "        rospy.set_param('n_goal', n_goal) # load it in the paramserver\n",
    "        gf = 1\n",
    "    elif (act_clnt.get_state() != 3):\n",
    "        gf = 0"
   ]
  },
  {
   "cell_type": "markdown",
   "id": "d4caf1ed",
   "metadata": {},
   "source": [
    "### Node cell: ###\n",
    "This cell will create the actual node, initially it will initialize it, then will create an action client and wait for its existence, done that the node will subscribe to the '/odom' topic, to get the position of the robot, and the 'scan' topic to get the Lidar data.\n",
    "Done that it will connect as service client to the service '/info' which will return the number of goal reached and deleted, wait for its existence and then initialize the parameters of the number of goals reached and deleted to zero."
   ]
  },
  {
   "cell_type": "code",
   "execution_count": 4,
   "id": "9a13ec16",
   "metadata": {
    "ExecuteTime": {
     "end_time": "2023-05-30T09:09:11.198393Z",
     "start_time": "2023-05-30T09:09:10.266408Z"
    }
   },
   "outputs": [
    {
     "data": {
      "application/vnd.jupyter.widget-view+json": {
       "model_id": "582c4c8f1b004b30bb6b9cb3f40c8fdd",
       "version_major": 2,
       "version_minor": 0
      },
      "image/png": "[encoded data removed]",
      "text/html": [
       "\n",
       "            <div style=\"display: inline-block;\">\n",
       "                <div class=\"jupyter-widgets widget-label\" style=\"text-align: center;\">\n",
       "                    Figure\n",
       "                </div>\n",
       "                <img src='data:image/png;base64,iVBORw0KGgoAAAANSUhEUgAAAoAAAAHgCAYAAAA10dzkAAAAOXRFWHRTb2Z0d2FyZQBNYXRwbG90bGliIHZlcnNpb24zLjcuMSwgaHR0cHM6Ly9tYXRwbG90bGliLm9yZy/bCgiHAAAACXBIWXMAAA9hAAAPYQGoP6dpAAA7p0lEQVR4nO3deXxU1f3/8fdkJ0AS1oRACKAUAlLQYEKiFSqpYaugUDCiLFKolc2CFFAkqLW4oYCiSKuCCsqitYoYvwqoCDGsImuKlR2SsJgJaxIy5/eHv0wdE2LArJzX8/GYB51zz7n3cy5T583dxmGMMQIAAIA1vCq7AAAAAFQsAiAAAIBlCIAAAACWIQACAABYhgAIAABgGQIgAACAZQiAAAAAliEAAgAAWIYACAAAYBkCIAAAgGUIgAAAAJYhAAIAAFiGAAgAAGAZAiAAAIBlCIAAAACWIQACAABYhgAIAABgGQIgAACAZQiAAAAAliEAAgAAWIYACAAAYBkCIAAAgGUIgAAAAJYhAAIAAFiGAAgAAGAZAiAAAIBlCIAAAACWIQACAABYhgAIAABgGQIgAACAZQiAAAAAliEAAgAAWIYACAAAYBkCIAAAgGUIgAAuW7NmzTRkyJCf7Td//nw5HA7t27ev3GtC2Zo2bZocDkdllwGgjBEAgWpoyZIlcjgc+te//lVkWfv27eVwOLR69eoiy5o2bar4+PiKKPGyFIaNwpevr6+aNWumMWPGKDs7u7LLq7IWLVqkmTNnXvb4s2fPatq0afrss8/KrCYAVRsBEKiGbrzxRknSl19+6dGek5Oj7du3y8fHR2vXrvVYdvDgQR08eNA9tip76aWX9MYbb+iFF15QTEyMnn/+efXq1auyy6qyyiIAPvLII8UGwClTpujcuXOXXxyAKsmnsgsAcOnCw8PVvHnzIgEwNTVVxhj94Q9/KLKs8P0vDYDGGJ0/f141atT4RespSb9+/VS/fn1J0p/+9CfdcccdWrx4sdavX6+YmJhy2+5PuVwu5eXlKSAgoMK2WdX4+PjIx4evCuBKwxFAoJq68cYbtWXLFo+jM2vXrlXbtm3VvXt3ffXVV3K5XB7LHA6HbrjhBknShQsX9Nhjj+mqq66Sv7+/mjVrpgcffFC5ubke22nWrJl69eqljz/+WB07dlSNGjX08ssvX7SuHTt26Oabb1aNGjXUpEkT/e1vf/Oo43L85je/kST997//9WhPS0tTt27dFBwcrMDAQHXu3LnIkc/C08q7d+9W//79FRQUpHr16mns2LE6f/68R1+Hw6FRo0Zp4cKFatu2rfz9/ZWSkiJJOnz4sO655x6FhobK399fbdu21auvvlqk1ueff15t27ZVYGCg6tSpo44dO2rRokUefUqzrs8++0wOh0NLlizR448/riZNmiggIEBdu3bVt99+6+7XpUsXffjhh9q/f7/71HmzZs0kSXl5eZo6daqio6MVHBysmjVr6je/+Y3H5QH79u1TgwYNJEmPPPKIex3Tpk3z2H8/dqmfnS+//FIxMTEKCAhQixYt9PrrrxfZbwAqFv+sA6qpG2+8UW+88YbS0tLUpUsXST+EvPj4eMXHx8vpdGr79u369a9/7V7WunVr1atXT5L0xz/+UQsWLFC/fv00fvx4paWlafr06dq1a1eRawvT09OVlJSkP/3pTxo+fLhatWpVbE0ZGRn67W9/qwsXLmjSpEmqWbOm5s2b94uPFhbePFKnTh1326pVq9S9e3dFR0crOTlZXl5eeu2113TzzTdrzZo1RY4U9u/fX82aNdP06dP11Vdfafbs2fr++++LhJFVq1ZpyZIlGjVqlOrXr69mzZopMzNTnTp1cgfEBg0a6KOPPtKwYcOUk5Oj+++/X5L0j3/8Q2PGjFG/fv3cAfObb75RWlqa7rzzTkkq9boKPfHEE/Ly8tIDDzwgp9Opp556SgMHDlRaWpok6aGHHpLT6dShQ4f03HPPSZJq1aol6YdLAv75z38qKSlJw4cP16lTp/TKK68oMTFR69evV4cOHdSgQQO99NJL+vOf/6zbbrtNt99+uyS5PzfFuZTPzrfffqt+/fpp2LBhGjx4sF599VUNGTJE0dHRatu27c/91QMoLwZAtbRjxw4jyTz22GPGGGPy8/NNzZo1zYIFC4wxxoSGhpo5c+YYY4zJyckx3t7eZvjw4cYYY77++msjyfzxj3/0WOcDDzxgJJlVq1a52yIjI40kk5KSUqSGyMhIM3jwYPf7+++/30gyaWlp7rasrCwTHBxsJJm9e/eWOKfk5GQjyaSnp5tjx46Zffv2mVdffdXUqFHDNGjQwJw5c8YYY4zL5TItW7Y0iYmJxuVyucefPXvWNG/e3Pzud78rss5bb73VY1v33XefkWS2bt3qbpNkvLy8zI4dOzz6Dhs2zDRq1MgcP37co/2OO+4wwcHB5uzZs8YYY3r37m3atm1b4hxLu67Vq1cbSSYqKsrk5ua6+82aNctIMtu2bXO39ezZ00RGRhbZ1oULFzzGGmPM999/b0JDQ80999zjbjt27JiRZJKTk4uso3D/Fbqcz84XX3zhbsvKyjL+/v5m/Pjxxe0eABWEU8BANRUVFaV69eq5r+3bunWrzpw5477LNz4+3n06NDU1VQUFBe7r/1asWCFJGjdunMc6x48fL0n68MMPPdqbN2+uxMTEn61pxYoV6tSpk8fRtwYNGmjgwIGXNLdWrVqpQYMGatasme655x5dffXV+uijjxQYGChJ+vrrr7Vnzx7deeedOnHihI4fP67jx4/rzJkz6tq1q7744osip51Hjhzp8X706NHumn+sc+fOatOmjfu9MUbvvPOOfv/738sY497W8ePHlZiYKKfTqc2bN0uSQkJCdOjQIW3YsKHYeV3KugoNHTpUfn5+7veFp8O/++67n92P3t7e7rEul0snT57UhQsX1LFjxyLbKa1L/ey0adPGXbP0w+ehVatWpaofQPnhFDBQTTkcDsXHx7vDztq1a9WwYUNdffXVkn4IgC+88IIkuYNgYQDcv3+/vLy83H0LhYWFKSQkRPv37/dob968ealq2r9/v2JjY4u0X+yU8cW88847CgoK0rFjxzR79mzt3bvX4zTynj17JEmDBw++6DqcTqfHKeOWLVt6LL/qqqvk5eVV5NmEP53rsWPHlJ2drXnz5mnevHnFbisrK0uSNHHiRH366aeKiYnR1VdfrVtuuUV33nmn+7rLS1lXoaZNm3q8L5zT999/X+z4n1qwYIFmzJih3bt3Kz8//6LzLK1L/ez8tH7phzmUtn4A5YMACFRjN954oz744ANt27bNff1fofj4eE2YMEGHDx/Wl19+qfDwcLVo0cJjfGkf8Fued/wW56abbnLfBfz73/9e7dq108CBA7Vp0yZ5eXm5j+49/fTT6tChQ7HrKLwO7mIuNvefzrVwW3fddddFA2fh9XJRUVFKT0/X8uXLlZKSonfeeUcvvviipk6dqkceeeSS1lXI29u72H7GmIvM7H/efPNNDRkyRH369NGECRPUsGFDeXt7a/r06UVuqLlUpf3s/JL6AZQfAiBQjf34eYBr1671uIEgOjpa/v7++uyzz5SWlqYePXq4l0VGRsrlcmnPnj2Kiopyt2dmZio7O1uRkZGXVU9kZKT76NyPpaenX9b6pB+CXHJysoYOHaolS5bojjvu0FVXXSVJCgoKUkJCQqnWs2fPHo+jXt9++61cLpf7jtmLadCggWrXrq2CgoJSbatmzZoaMGCABgwYoLy8PN1+++16/PHHNXny5EteV2ldLIwtW7ZMLVq00LvvvuvRJzk5uVTji1Nenx0AFYtrAIFqrGPHjgoICNDChQt1+PBhjyOA/v7+uu666zRnzhydOXPG4/l/hWHwpw8PfvbZZyVJPXv2vKx6evTooa+++krr1693tx07dkwLFy68rPUVGjhwoJo0aaInn3xS0g/h9qqrrtIzzzyj06dPF+l/7NixIm1z5szxeP/8889Lkrp3717itr29vdW3b1+988472r59e4nbOnHihMcyPz8/tWnTRsYY5efnX9K6LkXNmjXldDqLrV3yPNqWlpam1NRUj36F11aW5tdWyuuzA6BicQQQqMb8/Px0/fXXa82aNfL391d0dLTH8vj4eM2YMUOS5wOg27dvr8GDB2vevHnKzs5W586dtX79ei1YsEB9+vTRb3/728uq569//aveeOMNdevWTWPHjnU/BiYyMlLffPPNZc/T19dXY8eO1YQJE5SSkqJu3brpn//8p7p37662bdtq6NChaty4sQ4fPqzVq1crKChIH3zwgcc69u7dq1tvvVXdunVTamqq3nzzTd15551q3779z27/iSee0OrVqxUbG6vhw4erTZs2OnnypDZv3qxPP/1UJ0+elCTdcsstCgsL0w033KDQ0FDt2rVLL7zwgnr27KnatWtf0rouRXR0tBYvXqxx48bp+uuvV61atfT73/9evXr10rvvvqvbbrtNPXv21N69ezV37ly1adPGIzjXqFFDbdq00eLFi/WrX/1KdevW1TXXXKNrrrmmyLbK67MDoIJV3g3IAMrC5MmTjSQTHx9fZNm7775rJJnatWubCxcueCzLz883jzzyiGnevLnx9fU1ERERZvLkyeb8+fMe/SIjI03Pnj2L3fZPHwNjjDHffPON6dy5swkICDCNGzc2jz32mHnllVcu6TEwx44dK7LM6XSa4OBg07lzZ3fbli1bzO23327q1atn/P39TWRkpOnfv79ZuXJlkXXu3LnT9OvXz9SuXdvUqVPHjBo1ypw7d85jG5LMyJEji60tMzPTjBw50kRERBhfX18TFhZmunbtaubNm+fu8/LLL5ubbrrJXc9VV11lJkyYYJxO5yWvq/AxMEuXLvUYu3fvXiPJvPbaa+6206dPmzvvvNOEhIQYSe5HwrhcLvP3v//dREZGGn9/f3Pttdea5cuXm8GDBxd5bMy6detMdHS08fPz83gkzE8fA2PML//sdO7c2ePvEUDFcxjDlbgArlzTpk3TI488omPHjrlvLAEA23ENIAAAgGUIgAAAAJYhAAIAAFiGawABAAAswxFAAAAAyxAAAQAALEMABAAAsAy/BPILuFwuHTlyRLVr176k39IEAACVxxijU6dOKTw8XF5edh4LIwD+AkeOHFFERERllwEAAC7DwYMH1aRJk8ouo1IQAH+Bwt/2PHjwoIKCgiq5GgAAUBo5OTmKiIhwf4/biAD4CxSe9g0KCiIAAgBQzdh8+ZadJ74BAAAsRgAEAACwDAEQAADAMlwDCACokowxunDhggoKCiq7FFQz3t7e8vHxsfoav59DAAQAVDl5eXk6evSozp49W9mloJoKDAxUo0aN5OfnV9mlVEkEQABAleJyubR37155e3srPDxcfn5+HMlBqRljlJeXp2PHjmnv3r1q2bKltQ97LgkBEABQpeTl5cnlcikiIkKBgYGVXQ6qoRo1asjX11f79+9XXl6eAgICKrukKodIDACokjhqg1+Cz0/J2DsAAACWIQACAFCJunTpovvvv7+yyygzDodD7733Xol9hgwZoj59+lRIPSgeARAAgGpu/vz5CgkJqewyJElHjx5V9+7dJUn79u2Tw+HQ119/7dFn1qxZmj9/fsUXBzduAgEAoBzk5eVZ+QiSsLCwn+0THBxcAZWgJBwBBACgDHTp0kWjRo3S/fffr/r16ysxMVGS9PnnnysmJkb+/v5q1KiRJk2apAsXLniMvXDhgkaNGqXg4GDVr19fDz/8sIwx7uXff/+9Bg0apDp16igwMFDdu3fXnj17JEmfffaZhg4dKqfTKYfDIYfDoWnTphVb47Rp09ShQwe9/PLL7rus+/fvL6fT6e7jcrn06KOPqkmTJvL391eHDh2UkpLiXp6Xl6dRo0apUaNGCggIUGRkpKZPn+5e/uNTwM2bN5ckXXvttXI4HOrSpYukoqeAc3NzNWbMGDVs2FABAQG68cYbtWHDBvfyzz77TA6HQytXrlTHjh0VGBio+Ph4paenl/JvBz9FAAQAVGnGSGfOVM7rRxmsVBYsWCA/Pz+tXbtWc+fO1eHDh9WjRw9df/312rp1q1566SW98sor+tvf/lZknI+Pj9avX69Zs2bp2Wef1T//+U/38iFDhmjjxo16//33lZqaKmOMevToofz8fMXHx2vmzJkKCgrS0aNHdfToUT3wwAMXrfHbb7/VkiVL9MEHHyglJUVbtmzRfffd514+a9YszZgxQ88884y++eYbJSYm6tZbb3UHztmzZ+v999/XkiVLlJ6eroULF6pZs2bFbmv9+vWSpE8//VRHjx7Vu+++W2y/v/71r3rnnXe0YMECbd68WVdffbUSExN18uRJj34PPfSQZsyYoY0bN8rHx0f33HPPxf8yUDKDy+Z0Oo0k43Q6K7sUALhinDt3zuzcudOcO3fOGGPM6dPG/BDFKv51+nTp6+7cubO59tprPdoefPBB06pVK+Nyudxtc+bMMbVq1TIFBQXucVFRUR59Jk6caKKioowxxvznP/8xkszatWvdy48fP25q1KhhlixZYowx5rXXXjPBwcE/W2NycrLx9vY2hw4dcrd99NFHxsvLyxw9etQYY0x4eLh5/PHHPcZdf/315r777jPGGDN69Ghz8803e9T7Y5LMv/71L2OMMXv37jWSzJYtWzz6DB482PTu3dsYY8zp06eNr6+vWbhwoXt5Xl6eCQ8PN0899ZQxxpjVq1cbSebTTz919/nwww+NJPfn5Kd++jn6Mb6/jeEIIAAAZSQ6Otrj/a5duxQXF+fxSyY33HCDTp8+rUOHDrnbOnXq5NEnLi5Oe/bsUUFBgXbt2iUfHx/Fxsa6l9erV0+tWrXSrl27LrnGpk2bqnHjxh7bcrlcSk9PV05Ojo4cOaIbbrjBY8wNN9zg3taQIUP09ddfq1WrVhozZoz+7//+75Jr+LH//ve/ys/P99imr6+vYmJiiszv17/+tft/N2rUSJKUlZX1i7ZvK24CAQBUaYGB0unTlbftS1GzZs3yKaQKue6667R371599NFH+vTTT9W/f38lJCRo2bJl5b5tX19f9/8uDMwul6vct3sl4gggAKBKczikmjUr5/VLf4I4KirKfc1eobVr16p27dpq0qSJuy0tLc1j3FdffaWWLVvK29tbUVFRunDhgkefEydOKD09XW3atJEk+fn5qaCgoFQ1HThwQEeOHPHYlpeXl1q1aqWgoCCFh4dr7dq1HmPWrl3r3pYkBQUFacCAAfrHP/6hxYsX65133ilyvV5hXZJKrO2qq65yXzdZKD8/Xxs2bPDYJsoWARAAgHJy33336eDBgxo9erR2796tf//730pOTta4ceM8fqrswIEDGjdunNLT0/XWW2/p+eef19ixYyVJLVu2VO/evTV8+HB9+eWX2rp1q+666y41btxYvXv3liQ1a9ZMp0+f1sqVK3X8+HGdPXv2ojUFBARo8ODB2rp1q9asWaMxY8aof//+7se3TJgwQU8++aQWL16s9PR0TZo0SV9//bW7nmeffVZvvfWWdu/erf/85z9aunSpwsLCin0OYcOGDVWjRg2lpKQoMzPT427jQjVr1tSf//xnTZgwQSkpKdq5c6eGDx+us2fPatiwYZe971EyTgEDAFBOGjdurBUrVmjChAlq37696tatq2HDhmnKlCke/QYNGqRz584pJiZG3t7eGjt2rEaMGOFe/tprr2ns2LHq1auX8vLydNNNN2nFihXuU6Lx8fG69957NWDAAJ04cULJyckXfRTM1Vdfrdtvv109evTQyZMn1atXL7344ovu5WPGjJHT6dT48eOVlZWlNm3a6P3331fLli0lSbVr19ZTTz2lPXv2yNvbW9dff71WrFhR7G/v+vj4aPbs2Xr00Uc1depU/eY3v9Fnn31WpN8TTzwhl8ulu+++W6dOnVLHjh318ccfq06dOpe6y1FKDvPj49K4JDk5OQoODpbT6VRQUFBllwMAV4Tz589r7969at68uQICAiq7nCvKtGnT9N577xX5ZY4rUUmfI76/OQUMAABgHQIgAACAZQiAAABYYtq0aVac/sXPIwACAABYhgAIAABgGQIgAACAZQiAAAAAliEAAgAAWIYACAAAYBkCIAAA1UiXLl10//33V3YZqOYIgAAAAJbxqewCAAAoc9u2SXfdJblc/2vz8pLefFNq167y6gKqCI4AAgCuLMZIo0ZJO3ZI27f/77VjhzR69A/Ly8mpU6c0cOBA1axZU40aNdJzzz3nccr2+++/16BBg1SnTh0FBgaqe/fu2rNnj3v8iRMnlJSUpMaNGyswMFDt2rXTW2+9VeI2X3zxRbVs2VIBAQEKDQ1Vv379ym1+uHIQAAEAVZsx0pkzpX+9/bb0xRdSQYHnegoKpM8/lxYvLv26LjEsjhs3TmvXrtX777+vTz75RGvWrNHmzZvdy4cMGaKNGzfq/fffV2pqqowx6tGjh/Lz8yVJ58+fV3R0tD788ENt375dI0aM0N13363169cXu72NGzdqzJgxevTRR5Wenq6UlBTddNNNl7Z/YSVOAQMAqrazZ6VatcpufUlJpe97+rRUs2apup46dUoLFizQokWL1LVrV0nSa6+9pvDwcEnSnj179P7772vt2rWKj4+XJC1cuFARERF677339Ic//EGNGzfWAw884F7n6NGj9fHHH2vJkiWKiYkpss0DBw6oZs2a6tWrl2rXrq3IyEhde+21pZ8frEUABACgDHz33XfKz8/3CGrBwcFq1aqVJGnXrl3y8fFRbGyse3m9evXUqlUr7dq1S5JUUFCgv//971qyZIkOHz6svLw85ebmKjAwsNht/u53v1NkZKRatGihbt26qVu3brrtttsu2h8oxClgAEDVFhj4w5G40ryOH5eaNPnhho/ieHlJERE/9CvN+io4SD399NOaNWuWJk6cqNWrV+vrr79WYmKi8vLyiu1fu3Ztbd68WW+99ZYaNWqkqVOnqn379srOzq7QulH9EAABAFWbw/HDadjSvOrVk2bP9rz798dcrh+W16tXuvU5HKUus0WLFvL19dWGDRvcbU6nU//5z38kSVFRUbpw4YLS0tLcy0+cOKH09HS1adNGkrR27Vr17t1bd911l9q3b68WLVq4x1+Mj4+PEhIS9NRTT+mbb77Rvn37tGrVqlLXDTtxChgAcGXp00fq3Fn68kvPG0G8vaXf/Ebq3btcNlu7dm0NHjxYEyZMUN26ddWwYUMlJyfLy8tLDodDLVu2VO/evTV8+HC9/PLLql27tiZNmqTGjRur9/+vqWXLllq2bJnWrVunOnXq6Nlnn1VmZqY7IP7U8uXL9d133+mmm25SnTp1tGLFCrlcLvdpZ+BiOAIIALiyOBzS889LbdtK11zzv1fbtj8c/buEo3qX6tlnn1VcXJx69eqlhIQE3XDDDYqKilJAQICkH24KiY6OVq9evRQXFydjjFasWCFfX19J0pQpU3TdddcpMTFRXbp0UVhYmPr06XPR7YWEhOjdd9/VzTffrKioKM2dO1dvvfWW2rZtW25zxJXBYUw5PhDpCpeTk6Pg4GA5nU4FBQVVdjkAcEU4f/689u7dq+bNm7uDU3V15swZNW7cWDNmzNCwYcMquxyrlPQ54vubU8AAAJSZLVu2aPfu3YqJiZHT6dSjjz4qSe5TvEBVUa1OAc+ZM0fNmjVTQECAYmNjL/pgzEJLly5V69atFRAQoHbt2mnFihUX7XvvvffK4XBo5syZZVw1AMAmzzzzjNq3b6+EhASdOXNGa9asUf369Su7LMBDtQmAixcv1rhx45ScnKzNmzerffv2SkxMVFZWVrH9161bp6SkJA0bNkxbtmxRnz591KdPH23fvr1I33/961/66quv3A/rBADgclx77bXatGmTTp8+rZMnT+qTTz5RO357GFVQtQmAzz77rIYPH66hQ4eqTZs2mjt3rgIDA/Xqq68W23/WrFnq1q2bJkyYoKioKD322GO67rrr9MILL3j0O3z4sEaPHq2FCxe6L8IFAAC4klWLAJiXl6dNmzYpISHB3ebl5aWEhASlpqYWOyY1NdWjvyQlJiZ69He5XLr77rs1YcKEUt0xlZubq5ycHI8XAABAdVMtAuDx48dVUFCg0NBQj/bQ0FBlZGQUOyYjI+Nn+z/55JPy8fHRmDFjSlXH9OnTFRwc7H5FRERc4kwAAKXFQyrwS/D5KVm1CIDlYdOmTZo1a5bmz58vRymfCTV58mQ5nU736+DBg+VcJQDYp/BynLNnz1ZyJajOCj8/XN5VvGrxGJj69evL29tbmZmZHu2ZmZkKCwsrdkxYWFiJ/desWaOsrCw1bdrUvbygoEDjx4/XzJkztW/fviLr9Pf3l7+//y+cDQCgJN7e3goJCXHf5BcYGFjqf6gDxhidPXtWWVlZCgkJkbe3d2WXVCVViwDo5+en6OhorVy50v1EdJfLpZUrV2rUqFHFjomLi9PKlSt1//33u9s++eQTxcXFSZLuvvvuYq8RvPvuuzV06NBymQcAoHQK/7F+sSc9AD8nJCTkogeJUE0CoCSNGzdOgwcPVseOHRUTE6OZM2fqzJkz7rA2aNAgNW7cWNOnT5ckjR07Vp07d9aMGTPUs2dPvf3229q4caPmzZsnSapXr57q1avnsQ1fX1+FhYXxG4oAUMkcDocaNWqkhg0bKj8/v7LLQTXj6+vLkb+fUW0C4IABA3Ts2DFNnTpVGRkZ6tChg1JSUtw3ehw4cEBeXv+7pDE+Pl6LFi3SlClT9OCDD6ply5Z67733dM0111TWFAAAl8jb25svcqAc8FvAvwC/JQgAQPXD97fFdwEDAADYigAIAABgGQIgAACAZQiAAAAAliEAAgAAWIYACAAAYBkCIAAAgGUIgAAAAJYhAAIAAFiGAAgAAGAZAiAAAIBlCIAAAACWIQACAABYhgAIAABgGQIgAACAZQiAAAAAliEAAgAAWIYACAAAYBkCIAAAgGUIgAAAAJYhAAIAAFiGAAgAAGAZAiAAAIBlCIAAAACWIQACAABYhgAIAABgGQIgAACAZQiAAAAAliEAAgAAWIYACAAAYBkCIAAAgGUIgAAAAJYhAAIAAFiGAAgAAGAZAiAAAIBlCIAAAACWIQACAABYhgAIAABgGQIgAACAZQiAAAAAliEAAgAAWIYACAAAYBkCIAAAgGUIgAAAAJYhAAIAAFiGAAgAAGAZAiAAAIBlCIAAAACWIQACAABYhgAIAABgGQIgAACAZQiAAAAAliEAAgAAWIYACAAAYBkCIAAAgGUIgAAAAJapVgFwzpw5atasmQICAhQbG6v169eX2H/p0qVq3bq1AgIC1K5dO61YscK9LD8/XxMnTlS7du1Us2ZNhYeHa9CgQTpy5Eh5TwMAAKBSVZsAuHjxYo0bN07JycnavHmz2rdvr8TERGVlZRXbf926dUpKStKwYcO0ZcsW9enTR3369NH27dslSWfPntXmzZv18MMPa/PmzXr33XeVnp6uW2+9tSKnBQAAUOEcxhhT2UWURmxsrK6//nq98MILkiSXy6WIiAiNHj1akyZNKtJ/wIABOnPmjJYvX+5u69Spkzp06KC5c+cWu40NGzYoJiZG+/fvV9OmTX+2ppycHAUHB8vpdCooKOgyZwYAACoS39/V5AhgXl6eNm3apISEBHebl5eXEhISlJqaWuyY1NRUj/6SlJiYeNH+kuR0OuVwOBQSElLs8tzcXOXk5Hi8AAAAqptqEQCPHz+ugoIChYaGerSHhoYqIyOj2DEZGRmX1P/8+fOaOHGikpKSLvqvgenTpys4ONj9ioiIuIzZAAAAVK5qEQDLW35+vvr37y9jjF566aWL9ps8ebKcTqf7dfDgwQqsEgAAoGz4VHYBpVG/fn15e3srMzPToz0zM1NhYWHFjgkLCytV/8Lwt3//fq1atarEawH8/f3l7+9/mbMAAACoGqrFEUA/Pz9FR0dr5cqV7jaXy6WVK1cqLi6u2DFxcXEe/SXpk08+8ehfGP727NmjTz/9VPXq1SufCQAAAFQh1eIIoCSNGzdOgwcPVseOHRUTE6OZM2fqzJkzGjp0qCRp0KBBaty4saZPny5JGjt2rDp37qwZM2aoZ8+eevvtt7Vx40bNmzdP0g/hr1+/ftq8ebOWL1+ugoIC9/WBdevWlZ+fX+VMFAAAoJxVmwA4YMAAHTt2TFOnTlVGRoY6dOiglJQU940eBw4ckJfX/w5oxsfHa9GiRZoyZYoefPBBtWzZUu+9956uueYaSdLhw4f1/vvvS5I6dOjgsa3Vq1erS5cuFTIvAACAilZtngNYFfEcIQAAqh++v6vJNYAAAAAoOwRAAAAAyxAAAQAALEMABAAAsAwBEAAAwDIEQAAAAMsQAAEAACxDAAQAALAMARAAAMAyBEAAAADLEAABAAAsQwAEAACwDAEQAADAMgRAAAAAyxAAAQAALEMABAAAsAwBEAAAwDIEQAAAAMsQAAEAACxDAAQAALAMARAAAMAyBEAAAADLEAABAAAsQwAEAACwDAEQAADAMgRAAAAAyxAAAQAALEMABAAAsAwBEAAAwDIEQAAAAMsQAAEAACxDAAQAALAMARAAAMAyBEAAAADLEAABAAAsQwAEAACwDAEQAADAMgRAAAAAyxAAAQAALEMABAAAsAwBEAAAwDIEQAAAAMsQAAEAACxDAAQAALAMARAAAMAyBEAAAADLEAABAAAsQwAEAACwDAEQAADAMgRAAAAAyxAAAQAALEMABAAAsAwBEAAAwDIEQAAAAMsQAAEAACxDAAQAALBMtQqAc+bMUbNmzRQQEKDY2FitX7++xP5Lly5V69atFRAQoHbt2mnFihUey40xmjp1qho1aqQaNWooISFBe/bsKc8pAAAAVLpqEwAXL16scePGKTk5WZs3b1b79u2VmJiorKysYvuvW7dOSUlJGjZsmLZs2aI+ffqoT58+2r59u7vPU089pdmzZ2vu3LlKS0tTzZo1lZiYqPPnz1fUtAAAACqcwxhjKruI0oiNjdX111+vF154QZLkcrkUERGh0aNHa9KkSUX6DxgwQGfOnNHy5cvdbZ06dVKHDh00d+5cGWMUHh6u8ePH64EHHpAkOZ1OhYaGav78+brjjjt+tqacnBwFBwfL6XQqKCiojGYKAADKE9/f1eQIYF5enjZt2qSEhAR3m5eXlxISEpSamlrsmNTUVI/+kpSYmOjuv3fvXmVkZHj0CQ4OVmxs7EXXmZubq5ycHI8XAABAdVMtAuDx48dVUFCg0NBQj/bQ0FBlZGQUOyYjI6PE/oV/Xso6p0+fruDgYPcrIiLisuYDAABQmapFAKwqJk+eLKfT6X4dPHiwsksCAAC4ZNUiANavX1/e3t7KzMz0aM/MzFRYWFixY8LCwkrsX/jnpazT399fQUFBHi8AAIDqploEQD8/P0VHR2vlypXuNpfLpZUrVyouLq7YMXFxcR79JemTTz5x92/evLnCwsI8+uTk5CgtLe2i6wQAALgS+FR2AaU1btw4DR48WB07dlRMTIxmzpypM2fOaOjQoZKkQYMGqXHjxpo+fbokaezYsercubNmzJihnj176u2339bGjRs1b948SZLD4dD999+vv/3tb2rZsqWaN2+uhx9+WOHh4erTp09lTRMAAKDcVZsAOGDAAB07dkxTp05VRkaGOnTooJSUFPdNHAcOHJCX1/8OaMbHx2vRokWaMmWKHnzwQbVs2VLvvfeerrnmGnefv/71rzpz5oxGjBih7Oxs3XjjjUpJSVFAQECFzw8AAKCiVJvnAFZFPEcIAIDqh+/vanINIAAAAMoOARAAAMAyBEAAAADLEAABAAAsQwAEAACwDAEQAADAMgRAAAAAyxAAAQAALEMABAAAsAwBEAAAwDIEQAAAAMsQAAEAACxDAAQAALAMARAAAMAyBEAAAADLEAABAAAsQwAEAACwDAEQAADAMgRAAAAAyxAAAQAALEMABAAAsAwBEAAAwDIEQAAAAMsQAAEAACxDAAQAALAMARAAAMAyBEAAAADLEAABAAAsQwAEAACwDAEQAADAMgRAAAAAyxAAAQAALEMABAAAsAwBEAAAwDIEQAAAAMsQAAEAACxDAAQAALAMARAAAMAyBEAAAADLEAABAAAsQwAEAACwDAEQAADAMgRAAAAAyxAAAQAALEMABAAAsAwBEAAAwDIEQAAAAMsQAAEAACxDAAQAALAMARAAAMAyBEAAAADLEAABAAAsQwAEAACwDAEQAADAMgRAAAAAyxAAAQAALFPlA+DJkyc1cOBABQUFKSQkRMOGDdPp06dLHHP+/HmNHDlS9erVU61atdS3b19lZma6l2/dulVJSUmKiIhQjRo1FBUVpVmzZpX3VAAAAKqEKh8ABw4cqB07duiTTz7R8uXL9cUXX2jEiBEljvnLX/6iDz74QEuXLtXnn3+uI0eO6Pbbb3cv37Rpkxo2bKg333xTO3bs0EMPPaTJkyfrhRdeKO/pAAAAVDqHMcZUdhEXs2vXLrVp00YbNmxQx44dJUkpKSnq0aOHDh06pPDw8CJjnE6nGjRooEWLFqlfv36SpN27dysqKkqpqanq1KlTsdsaOXKkdu3apVWrVpW6vpycHAUHB8vpdCooKOgyZggAACoa399V/AhgamqqQkJC3OFPkhISEuTl5aW0tLRix2zatEn5+flKSEhwt7Vu3VpNmzZVamrqRbfldDpVt27dsiseAACgivKp7AJKkpGRoYYNG3q0+fj4qG7dusrIyLjoGD8/P4WEhHi0h4aGXnTMunXrtHjxYn344Ycl1pObm6vc3Fz3+5ycnFLMAgAAoGqplCOAkyZNksPhKPG1e/fuCqll+/bt6t27t5KTk3XLLbeU2Hf69OkKDg52vyIiIiqkRgAAgLJUKUcAx48fryFDhpTYp0WLFgoLC1NWVpZH+4ULF3Ty5EmFhYUVOy4sLEx5eXnKzs72OAqYmZlZZMzOnTvVtWtXjRgxQlOmTPnZuidPnqxx48a53+fk5BACAQBAtVMpAbBBgwZq0KDBz/aLi4tTdna2Nm3apOjoaEnSqlWr5HK5FBsbW+yY6Oho+fr6auXKlerbt68kKT09XQcOHFBcXJy7344dO3TzzTdr8ODBevzxx0tVt7+/v/z9/UvVFwAAoKqq0ncBS1L37t2VmZmpuXPnKj8/X0OHDlXHjh21aNEiSdLhw4fVtWtXvf7664qJiZEk/fnPf9aKFSs0f/58BQUFafTo0ZJ+uNZP+uG0780336zExEQ9/fTT7m15e3uXKpgW4i4iAACqH76/q/hNIJK0cOFCjRo1Sl27dpWXl5f69u2r2bNnu5fn5+crPT1dZ8+edbc999xz7r65ublKTEzUiy++6F6+bNkyHTt2TG+++abefPNNd3tkZKT27dtXIfMCAACoLFX+CGBVxr8gAACofvj+ruLPAQQAAEDZIwACAABYhgAIAABgGQIgAACAZQiAAAAAliEAAgAAWIYACAAAYBkCIAAAgGUIgAAAAJYhAAIAAFiGAAgAAGAZAiAAAIBlCIAAAACWIQACAABYhgAIAABgGQIgAACAZQiAAAAAliEAAgAAWIYACAAAYBkCIAAAgGUIgAAAAJYhAAIAAFiGAAgAAGAZAiAAAIBlCIAAAACWIQACAABYhgAIAABgGQIgAACAZQiAAAAAliEAAgAAWIYACAAAYBkCIAAAgGUIgAAAAJYhAAIAAFiGAAgAAGAZAiAAAIBlCIAAAACWIQACAABYhgAIAABgGQIgAACAZQiAAAAAliEAAgAAWIYACAAAYBkCIAAAgGUIgAAAAJYhAAIAAFiGAAgAAGAZAiAAAIBlCIAAAACWIQACAABYhgAIAABgGQIgAACAZQiAAAAAliEAAgAAWIYACAAAYBkCIAAAgGWqfAA8efKkBg4cqKCgIIWEhGjYsGE6ffp0iWPOnz+vkSNHql69eqpVq5b69u2rzMzMYvueOHFCTZo0kcPhUHZ2djnMAAAAoGqp8gFw4MCB2rFjhz755BMtX75cX3zxhUaMGFHimL/85S/64IMPtHTpUn3++ec6cuSIbr/99mL7Dhs2TL/+9a/Lo3QAAIAqyWGMMZVdxMXs2rVLbdq00YYNG9SxY0dJUkpKinr06KFDhw4pPDy8yBin06kGDRpo0aJF6tevnyRp9+7dioqKUmpqqjp16uTu+9JLL2nx4sWaOnWqunbtqu+//14hISGlri8nJ0fBwcFyOp0KCgr6ZZMFAAAVgu/vKn4EMDU1VSEhIe7wJ0kJCQny8vJSWlpasWM2bdqk/Px8JSQkuNtat26tpk2bKjU11d22c+dOPfroo3r99dfl5VWldwMAAECZ8qnsAkqSkZGhhg0berT5+Piobt26ysjIuOgYPz+/IkfyQkND3WNyc3OVlJSkp59+Wk2bNtV3331Xqnpyc3OVm5vrfp+Tk3MJswEAAKgaKuXQ16RJk+RwOEp87d69u9y2P3nyZEVFRemuu+66pHHTp09XcHCw+xUREVFOFQIAAJSfSjkCOH78eA0ZMqTEPi1atFBYWJiysrI82i9cuKCTJ08qLCys2HFhYWHKy8tTdna2x1HAzMxM95hVq1Zp27ZtWrZsmSSp8DLI+vXr66GHHtIjjzxS7LonT56scePGud/n5OQQAgEAQLVTKQGwQYMGatCgwc/2i4uLU3Z2tjZt2qTo6GhJP4Q3l8ul2NjYYsdER0fL19dXK1euVN++fSVJ6enpOnDggOLi4iRJ77zzjs6dO+ces2HDBt1zzz1as2aNrrrqqovW4+/vL39//1LPEwAAoCqq0tcARkVFqVu3bho+fLjmzp2r/Px8jRo1SnfccYf7DuDDhw+ra9euev311xUTE6Pg4GANGzZM48aNU926dRUUFKTRo0crLi7OfQfwT0Pe8ePH3du7lLuAAQAAqqMqHQAlaeHChRo1apS6du0qLy8v9e3bV7Nnz3Yvz8/PV3p6us6ePetue+6559x9c3NzlZiYqBdffLEyygcAAKhyqvRzAKs6niMEAED1w/d3FX8OIAAAAMoeARAAAMAyBEAAAADLEAABAAAsQwAEAACwDAEQAADAMgRAAAAAyxAAAQAALEMABAAAsAwBEAAAwDIEQAAAAMsQAAEAACxDAAQAALAMARAAAMAyBEAAAADLEAABAAAsQwAEAACwDAEQAADAMgRAAAAAyxAAAQAALEMABAAAsAwBEAAAwDIEQAAAAMsQAAEAACxDAAQAALAMARAAAMAyBEAAAADLEAABAAAsQwAEAACwDAEQAADAMgRAAAAAyxAAAQAALEMABAAAsAwBEAAAwDIEQAAAAMsQAAEAACxDAAQAALAMARAAAMAyBEAAAADLEAABAAAsQwAEAACwDAEQAADAMgRAAAAAy/hUdgHVmTFGkpSTk1PJlQAAgNIq/N4u/B63EQHwFzh16pQkKSIiopIrAQAAl+rUqVMKDg6u7DIqhcPYHH9/IZfLpSNHjqh27dpyOByVXU6ly8nJUUREhA4ePKigoKDKLueKxX6uGOznisF+rhjsZ0/GGJ06dUrh4eHy8rLzajiOAP4CXl5eatKkSWWXUeUEBQXxH5gKwH6uGOznisF+rhjs5/+x9chfITtjLwAAgMUIgAAAAJYhAKLM+Pv7Kzk5Wf7+/pVdyhWN/Vwx2M8Vg/1cMdjP+CluAgEAALAMRwABAAAsQwAEAACwDAEQAADAMgRAAAAAyxAAUWonT57UwIEDFRQUpJCQEA0bNkynT58uccz58+c1cuRI1atXT7Vq1VLfvn2VmZlZbN8TJ06oSZMmcjgcys7OLocZVA/lsZ+3bt2qpKQkRUREqEaNGoqKitKsWbPKeypVzpw5c9SsWTMFBAQoNjZW69evL7H/0qVL1bp1awUEBKhdu3ZasWKFx3JjjKZOnapGjRqpRo0aSkhI0J49e8pzCtVCWe7n/Px8TZw4Ue3atVPNmjUVHh6uQYMG6ciRI+U9jSqvrD/PP3bvvffK4XBo5syZZVw1qgwDlFK3bt1M+/btzVdffWXWrFljrr76apOUlFTimHvvvddERESYlStXmo0bN5pOnTqZ+Pj4Yvv27t3bdO/e3Ugy33//fTnMoHooj/38yiuvmDFjxpjPPvvM/Pe//zVvvPGGqVGjhnn++efLezpVxttvv238/PzMq6++anbs2GGGDx9uQkJCTGZmZrH9165da7y9vc1TTz1ldu7caaZMmWJ8fX3Ntm3b3H2eeOIJExwcbN577z2zdetWc+utt5rmzZubc+fOVdS0qpyy3s/Z2dkmISHBLF682OzevdukpqaamJgYEx0dXZHTqnLK4/Nc6N133zXt27c34eHh5rnnnivnmaCyEABRKjt37jSSzIYNG9xtH330kXE4HObw4cPFjsnOzja+vr5m6dKl7rZdu3YZSSY1NdWj74svvmg6d+5sVq5caXUALO/9/GP33Xef+e1vf1t2xVdxMTExZuTIke73BQUFJjw83EyfPr3Y/v379zc9e/b0aIuNjTV/+tOfjDHGuFwuExYWZp5++mn38uzsbOPv72/eeuutcphB9VDW+7k469evN5LM/v37y6boaqi89vOhQ4dM48aNzfbt201kZCQB8ArGKWCUSmpqqkJCQtSxY0d3W0JCgry8vJSWllbsmE2bNik/P18JCQnuttatW6tp06ZKTU11t+3cuVOPPvqoXn/9dWt/lLtQee7nn3I6napbt27ZFV+F5eXladOmTR77yMvLSwkJCRfdR6mpqR79JSkxMdHdf+/evcrIyPDoExwcrNjY2BL3+5WsPPZzcZxOpxwOh0JCQsqk7uqmvPazy+XS3XffrQkTJqht27blUzyqDLu/bVFqGRkZatiwoUebj4+P6tatq4yMjIuO8fPzK/If6dDQUPeY3NxcJSUl6emnn1bTpk3LpfbqpLz280+tW7dOixcv1ogRI8qk7qru+PHjKigoUGhoqEd7SfsoIyOjxP6Ff17KOq905bGff+r8+fOaOHGikpKSFBQUVDaFVzPltZ+ffPJJ+fj4aMyYMWVfNKocAqDlJk2aJIfDUeJr9+7d5bb9yZMnKyoqSnfddVe5baMqqOz9/GPbt29X7969lZycrFtuuaVCtgmUhfz8fPXv31/GGL300kuVXc4VZdOmTZo1a5bmz58vh8NR2eWgAvhUdgGoXOPHj9eQIUNK7NOiRQuFhYUpKyvLo/3ChQs6efKkwsLCih0XFhamvLw8ZWdnexydyszMdI9ZtWqVtm3bpmXLlkn64a5KSapfv74eeughPfLII5c5s6qlsvdzoZ07d6pr164aMWKEpkyZcllzqY7q168vb2/vInegF7ePCoWFhZXYv/DPzMxMNWrUyKNPhw4dyrD66qM89nOhwvC3f/9+rVq1ytqjf1L57Oc1a9YoKyvL40xMQUGBxo8fr5kzZ2rfvn1lOwlUvsq+CBHVQ+HNCRs3bnS3ffzxx6W6OWHZsmXutt27d3vcnPDtt9+abdu2uV+vvvqqkWTWrVt30bvZrmTltZ+NMWb79u2mYcOGZsKECeU3gSosJibGjBo1yv2+oKDANG7cuMSL5nv16uXRFhcXV+QmkGeeeca93Ol0chNIGe9nY4zJy8szffr0MW3btjVZWVnlU3g1U9b7+fjx4x7/Ld62bZsJDw83EydONLt37y6/iaDSEABRat26dTPXXnutSUtLM19++aVp2bKlx+NJDh06ZFq1amXS0tLcbffee69p2rSpWbVqldm4caOJi4szcXFxF93G6tWrrb4L2Jjy2c/btm0zDRo0MHfddZc5evSo+2XTl+nbb79t/P39zfz5883OnTvNiBEjTEhIiMnIyDDGGHP33XebSZMmufuvXbvW+Pj4mGeeecbs2rXLJCcnF/sYmJCQEPPvf//bfPPNN6Z37948BqaM93NeXp659dZbTZMmTczXX3/t8fnNzc2tlDlWBeXxef4p7gK+shEAUWonTpwwSUlJplatWiYoKMgMHTrUnDp1yr187969RpJZvXq1u+3cuXPmvvvuM3Xq1DGBgYHmtttuM0ePHr3oNgiA5bOfk5OTjaQir8jIyAqcWeV7/vnnTdOmTY2fn5+JiYkxX331lXtZ586dzeDBgz36L1myxPzqV78yfn5+pm3btubDDz/0WO5yuczDDz9sQkNDjb+/v+natatJT0+viKlUaWW5nws/78W9fvz/ARuV9ef5pwiAVzaHMf//oisAAABYgbuAAQAALEMABAAAsAwBEAAAwDIEQAAAAMsQAAEAACxDAAQAALAMARAAAMAyBEAAAADLEAABAAAsQwAEAACwDAEQAADAMgRAAAAAyxAAAQAALEMABAAAsAwBEAAAwDIEQAAAAMsQAAEAACxDAAQAALAMARAAAMAyBEAAAADLEAABAAAsQwAEAACwDAEQAADAMgRAAAAAyxAAAQAALEMABAAAsAwBEAAAwDIEQAAAAMsQAAEAACxDAAQAALAMARAAAMAy/w/ABpo21Boq0QAAAABJRU5ErkJggg==' width=640.0/>\n",
       "            </div>\n",
       "        "
      ],
      "text/plain": [
       "Canvas(toolbar=Toolbar(toolitems=[('Home', 'Reset original view', 'home', 'home'), ('Back', 'Back to previous …"
      ]
     },
     "metadata": {},
     "output_type": "display_data"
    }
   ],
   "source": [
    "rospy.init_node('user_interface', anonymous=True) # init the node\n",
    "vis = Visualizer()\n",
    "act_clnt = actionlib.SimpleActionClient('/reaching_goal', assignment_2_2022.msg.PlanningAction) # connect to the action server\n",
    "act_clnt.wait_for_server() # wait for the action server existence\n",
    "sub_odom = jr.subscribe('/odom', Odometry, vis.odom_cb) # subscribe to the /odom topic\n",
    "sud_scan = jr.subscribe('/scan',LaserScan, scan_cb) # subscribe to the /scan topic\n",
    "srv_info = rospy.ServiceProxy(\"/info\", Ngoal) # connect to the service server\n",
    "rospy.wait_for_service(\"/info\") # wait for the service server existance\n",
    "rospy.set_param('n_goal', 0) # init the param n_goal (reached)\n",
    "rospy.set_param('n_deleted', 0) # init the param n_deleted"
   ]
  },
  {
   "cell_type": "markdown",
   "id": "6b7a77ac",
   "metadata": {},
   "source": [
    "### D_cb function: ###\n",
    "This is the callback of the D button, used to delete the current goal, once the button is pressed it will check if there is an active goal, will delete it, will recover the actual number of goal deleted from the ros parameter server, increase it and then set it back in the ros parameter server."
   ]
  },
  {
   "cell_type": "code",
   "execution_count": 5,
   "id": "94397943",
   "metadata": {
    "ExecuteTime": {
     "end_time": "2023-05-30T09:09:11.223712Z",
     "start_time": "2023-05-30T09:09:11.203429Z"
    }
   },
   "outputs": [],
   "source": [
    "def D_cb(b):\n",
    "    if ((act_clnt.get_state()) == 1): # in this case there is an active goal\n",
    "        act_clnt.cancel_goal() # delete the goal\n",
    "        n_deleted = rospy.get_param('n_deleted') # get the actual number of goal deleted\n",
    "        n_deleted = n_deleted + 1 # increase it\n",
    "        rospy.set_param('n_deleted', n_deleted) # load it in the paramserver"
   ]
  },
  {
   "cell_type": "markdown",
   "id": "e80cb1d2",
   "metadata": {},
   "source": [
    "### N_cb function: ###\n",
    "This is the callback of the N button, used to set a new goal, once pressed it will first check that the user finished to insert the previous goal, done that it activate the texts boxes to put the coordinate of the goal and deactivate itself.  "
   ]
  },
  {
   "cell_type": "code",
   "execution_count": 6,
   "id": "1742a026",
   "metadata": {
    "ExecuteTime": {
     "end_time": "2023-05-30T09:09:11.247454Z",
     "start_time": "2023-05-30T09:09:11.231908Z"
    }
   },
   "outputs": [],
   "source": [
    "def N_cb(b):\n",
    "    if ((Gx.disabled == True) and (Gy.disabled == True)): # check if the previous goal insertion is finished\n",
    "        Gx.disabled = False # unlock the x goal text box\n",
    "        Gy.disabled = False # unlock the y goal text box\n",
    "        N.disabled = True # lock the N button till the insertion of the goal is finshed"
   ]
  },
  {
   "cell_type": "markdown",
   "id": "37505ac1",
   "metadata": {},
   "source": [
    "### I_cb function: ###\n",
    "This is the callback of the I button, used to obtain information about the number of goal reached and deleted, it will first call the service srv_info, provided by an external node, obtained the data from it it will set the two value of the text boxes with the relative value."
   ]
  },
  {
   "cell_type": "code",
   "execution_count": 7,
   "id": "c636fa2e",
   "metadata": {
    "ExecuteTime": {
     "end_time": "2023-05-30T09:09:11.266383Z",
     "start_time": "2023-05-30T09:09:11.255146Z"
    }
   },
   "outputs": [],
   "source": [
    "def I_cb(b):\n",
    "    info = srv_info() # obtain the number of goal reached and deleted\n",
    "    Gr.value = info.n_goal # set the number of goal reached in the right text box\n",
    "    Gd.value = info.n_deleted # set the number of goal deleted in the right text box"
   ]
  },
  {
   "cell_type": "markdown",
   "id": "98a39ded",
   "metadata": {},
   "source": [
    "### NGx_cb function: ###\n",
    "This is the callback of the text box in which the x coordinate of the goal will be set, it will be called once the user press enter or, once written something different from the previous value, when it click away from it.\n",
    "the function will first disable the text box, meaning the user will no longer be able to type anything in it, then it will set the x coordinate in the goal message that then will be send to the action server.\n",
    "done that the function will check if the user as putted also the other coordinate, and if so it will enable again the N button, send the goal, record the new goal in the internal array 'pr_goalx' and 'pr_goaly' and call the 'II()' function."
   ]
  },
  {
   "cell_type": "code",
   "execution_count": 8,
   "id": "160f6114",
   "metadata": {
    "ExecuteTime": {
     "end_time": "2023-05-30T09:09:11.295083Z",
     "start_time": "2023-05-30T09:09:11.279188Z"
    }
   },
   "outputs": [],
   "source": [
    "def NGx_cb(value):   \n",
    "    Gx.disabled = True # disable text box\n",
    "    goal.target_pose.pose.position.x = float(Gx.value) # set the x coordinates of the goal\n",
    "    if (Gy.disabled): # if the user has already set the other coordinate\n",
    "        N.disabled = False # enable again the N button\n",
    "        act_clnt.send_goal(goal) # send the goal\n",
    "        vis.goal_update(Gx.value, Gy.value) # store the coordinates of the goal to the visualizer"
   ]
  },
  {
   "cell_type": "markdown",
   "id": "1101774d",
   "metadata": {},
   "source": [
    "### NGy_cb function: ###\n",
    "This is the callback of the text box in which the y coordinate of the goal will be set, it will work exactly as the 'NGy_cb' function."
   ]
  },
  {
   "cell_type": "code",
   "execution_count": 9,
   "id": "730f2a21",
   "metadata": {
    "ExecuteTime": {
     "end_time": "2023-05-30T09:09:11.329445Z",
     "start_time": "2023-05-30T09:09:11.309849Z"
    }
   },
   "outputs": [],
   "source": [
    "def NGy_cb(value):    \n",
    "    Gy.disabled = True # disable text box\n",
    "    goal.target_pose.pose.position.y = float(Gy.value) # set the x coordinates of the goal\n",
    "    if (Gx.disabled): # if the user has already set the other coordinate\n",
    "        N.disabled = False # enable again the N button\n",
    "        act_clnt.send_goal(goal) # send the goal\n",
    "        vis.goal_update(Gx.value, Gy.value) # store the coordinates of the goal to the visualizer"
   ]
  },
  {
   "cell_type": "markdown",
   "id": "9a80f8bf",
   "metadata": {},
   "source": [
    "### User interface: ###\n",
    "This cell will create the user interface that the user will use to control the behavior of the robot, in detail it will display three buttons, one for deleting the goal 'D', one for set a new goal 'N' and the relative text boxes with the title to insert the coordinates and one last button 'I' to recover the number of goal reached and deleted and display those information in two text boxes with the relative labels.\n",
    "More over this cell will call the 'graph_view()' function to display the world representation, display the above mentioned user interface and create the callback for the buttons and text boxes."
   ]
  },
  {
   "cell_type": "code",
   "execution_count": 10,
   "id": "852e71ea",
   "metadata": {
    "ExecuteTime": {
     "end_time": "2023-05-30T09:09:11.872947Z",
     "start_time": "2023-05-30T09:09:11.332346Z"
    }
   },
   "outputs": [
    {
     "data": {
      "application/vnd.jupyter.widget-view+json": {
       "model_id": "582c4c8f1b004b30bb6b9cb3f40c8fdd",
       "version_major": 2,
       "version_minor": 0
      },
      "image/png": "[encoded data removed]",
      "text/html": [
       "\n",
       "            <div style=\"display: inline-block;\">\n",
       "                <div class=\"jupyter-widgets widget-label\" style=\"text-align: center;\">\n",
       "                    Figure\n",
       "                </div>\n",
       "                <img src='data:image/png;base64,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' width=640.0/>\n",
       "            </div>\n",
       "        "
      ],
      "text/plain": [
       "Canvas(toolbar=Toolbar(toolitems=[('Home', 'Reset original view', 'home', 'home'), ('Back', 'Back to previous …"
      ]
     },
     "metadata": {},
     "output_type": "display_data"
    },
    {
     "data": {
      "application/vnd.jupyter.widget-view+json": {
       "model_id": "48e38b33b47645b5829a4f3f50b5e7ef",
       "version_major": 2,
       "version_minor": 0
      },
      "text/plain": [
       "HBox(children=(VBox(children=(Button(button_style='danger', description='Delete Goal', layout=Layout(height='1…"
      ]
     },
     "metadata": {},
     "output_type": "display_data"
    }
   ],
   "source": [
    "# different layout:\n",
    "L1 = Layout(width = 'auto', height = '10%', min_width = '80px', min_height = '54px', max_width = '160px') \n",
    "L2 = Layout(width = 'auto', height = '5%', min_width = '40px', min_height = '20px', max_width = '80px')\n",
    "L3 = Layout(width = 'auto', height = '5%', min_width = '80px', min_height = '20px', max_width = '160px')\n",
    "\n",
    "# delete goal button:\n",
    "D = widgets.Button(value = False, description = 'Delete Goal', disabled = False, button_style = 'danger', layout = L1, continuous_update = False)\n",
    "\n",
    "# new goal button:\n",
    "N = widgets.Button(value = False, description = 'New Goal', disabled = False, button_style = 'success', layout = L1, continuous_update = False)\n",
    "\n",
    "# information button:\n",
    "I = widgets.Button(value = False, description = 'Information', disabled = False, button_style = 'info', layout = L1, continuous_update = False)\n",
    "\n",
    "\n",
    "# info box for the goal coordinates:\n",
    "# name:\n",
    "Gx_n = widgets.Text(value = 'x_goal', disabled = True, layout = L2)\n",
    "Gy_n = widgets.Text(value = 'y_goal', disabled = True, layout = L2)\n",
    "# data:\n",
    "Gx = widgets.FloatText(value = '0.00', disabled = True, layout = L2, continuous_update = False)\n",
    "Gy = widgets.FloatText(value = '0.00', disabled = True, layout = L2, continuous_update = False)\n",
    "# combination:\n",
    "Gx_c = VBox([Gx_n, Gx])\n",
    "Gy_c = VBox([Gy_n, Gy])\n",
    "Gxy = HBox([Gx_c, Gy_c])\n",
    "\n",
    "# info box for the goal reached and deleted:\n",
    "# name:\n",
    "Gr_n = widgets.Text(value = 'goal_r', disabled = True, layout = L2)\n",
    "Gd_n = widgets.Text(value = 'goal_d', disabled = True, layout = L2)\n",
    "# data:\n",
    "Gr = widgets.FloatText(value = '0.00', disabled = True, layout = L2, continuous_update = False)\n",
    "Gd = widgets.FloatText(value = '0.00', disabled = True, layout = L2, continuous_update = False)\n",
    "# combination:\n",
    "Gr_c = VBox([Gr_n, Gr])\n",
    "Gd_c = VBox([Gd_n, Gd])\n",
    "Grd = HBox([Gr_c, Gd_c])\n",
    "\n",
    "# combine everything\n",
    "UI = VBox([D, HBox([N, Gxy]), HBox([I, Grd])])\n",
    "\n",
    "# info box for the closer obstacle:\n",
    "# name:\n",
    "Co_n = widgets.Text(value = 'closer obstacle', disabled = True, layout = L3)\n",
    "Cod_n = widgets.Text(value = 'dist', disabled = True, layout = L2)\n",
    "Coa_n = widgets.Text(value = 'angle', disabled = True, layout = L2)\n",
    "# data:\n",
    "Cod = widgets.FloatText(value = '0.00', disabled = True, layout = L2, continuous_update = True)\n",
    "Coa = widgets.FloatText(value = '0.00', disabled = True, layout = L2, continuous_update = True)\n",
    "# combination:\n",
    "Cod_c = VBox([Cod_n, Cod])\n",
    "Coa_c = VBox([Coa_n, Coa])\n",
    "Coda_c = HBox([Cod_c, Coa_c])\n",
    "Coda = VBox([Co_n, Coda_c])\n",
    "\n",
    "# combine UI and IM and print:\n",
    "CUI = HBox([UI, Coda])\n",
    "\n",
    "# plot:\n",
    "ani = FuncAnimation(vis.fig, vis.refresh_plot, init_func=vis.plot_init, cache_frame_data=False)\n",
    "plt.show(block = True)\n",
    "\n",
    "display(CUI)\n",
    "\n",
    "# callbacks:\n",
    "D.on_click(D_cb) \n",
    "N.on_click(N_cb)\n",
    "Gx.observe(NGx_cb, names = 'value')\n",
    "Gy.observe(NGy_cb, names = 'value')\n",
    "I.on_click(I_cb)"
   ]
  },
  {
   "cell_type": "code",
   "execution_count": null,
   "id": "e98e0e51",
   "metadata": {},
   "outputs": [],
   "source": []
  }
 ],
 "metadata": {
  "kernelspec": {
   "display_name": "Python 3 (ipykernel)",
   "language": "python",
   "name": "python3"
  },
  "language_info": {
   "codemirror_mode": {
    "name": "ipython",
    "version": 3
   },
   "file_extension": ".py",
   "mimetype": "text/x-python",
   "name": "python",
   "nbconvert_exporter": "python",
   "pygments_lexer": "ipython3",
   "version": "3.8.10"
  },
  "toc": {
   "base_numbering": 1,
   "nav_menu": {},
   "number_sections": true,
   "sideBar": true,
   "skip_h1_title": false,
   "title_cell": "Table of Contents",
   "title_sidebar": "Contents",
   "toc_cell": false,
   "toc_position": {
    "height": "calc(100% - 180px)",
    "left": "10px",
    "top": "150px",
    "width": "165px"
   },
   "toc_section_display": true,
   "toc_window_display": false
  },
  "varInspector": {
   "cols": {
    "lenName": 16,
    "lenType": 16,
    "lenVar": 40
   },
   "kernels_config": {
    "python": {
     "delete_cmd_postfix": "",
     "delete_cmd_prefix": "del ",
     "library": "var_list.py",
     "varRefreshCmd": "print(var_dic_list())"
    },
    "r": {
     "delete_cmd_postfix": ") ",
     "delete_cmd_prefix": "rm(",
     "library": "var_list.r",
     "varRefreshCmd": "cat(var_dic_list()) "
    }
   },
   "position": {
    "height": "332.85px",
    "left": "554px",
    "right": "20px",
    "top": "120px",
    "width": "350px"
   },
   "types_to_exclude": [
    "module",
    "function",
    "builtin_function_or_method",
    "instance",
    "_Feature"
   ],
   "window_display": false
  }
 },
 "nbformat": 4,
 "nbformat_minor": 5
}

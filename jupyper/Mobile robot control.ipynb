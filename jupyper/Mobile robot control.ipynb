{
 "cells": [
  {
   "cell_type": "markdown",
   "id": "847bb782",
   "metadata": {},
   "source": [
    "# User interface Node #\n",
    "This node will create a user interface for the Bug0 robot, in it the user will be able to set a new goal, delete the current one or get infromations about the number of goal reached or deleted."
   ]
  },
  {
   "cell_type": "markdown",
   "id": "0e9163b3",
   "metadata": {},
   "source": [
    "### Libraries and global variables ###\n",
    "In this first cell a series of libraries needed for the User interface are imported and the global variables are istantiated."
   ]
  },
  {
   "cell_type": "code",
   "execution_count": 1,
   "id": "a6c1f861",
   "metadata": {
    "ExecuteTime": {
     "end_time": "2023-05-23T14:54:32.392462Z",
     "start_time": "2023-05-23T14:54:29.381851Z"
    }
   },
   "outputs": [],
   "source": [
    "#! /usr/bin/env python3\n",
    "\n",
    "%matplotlib widget\n",
    "import rospy\n",
    "import time\n",
    "import sys\n",
    "import select\n",
    "import os\n",
    "import actionlib\n",
    "import actionlib.msg\n",
    "import assignment_2_2022.msg\n",
    "from nav_msgs.msg import Odometry\n",
    "from sensor_msgs.msg import LaserScan\n",
    "from assignment_2_2022.srv import Ngoal\n",
    "import ipywidgets as widgets\n",
    "from ipywidgets import VBox, HBox, Layout\n",
    "import logging\n",
    "from IPython.display import display\n",
    "import jupyros as jr\n",
    "import numpy as np\n",
    "import matplotlib.pyplot as plt\n",
    "\n",
    "act_clnt = None # istantiate the action client \n",
    "goal = assignment_2_2022.msg.PlanningGoal() # istantiate the goal message to send \n",
    "goal.target_pose.pose.position.z = 0.0 # set its third component equal to 0\n",
    "info = Ngoal() # istantiate the info request for the service (number of goal reached and deleted)\n",
    "srv_info = None # istantiate the responce\n",
    "gf = 0 # goal flag to increase the number of goal only the first time the state pass to succeeded\n",
    "pr_goalx = [] # array to store the x position of the goal\n",
    "pr_goaly = [] # array to store the y position of the goal\n",
    "pr_goalf = [] # array to store the status of the goal (deleted or not)\n",
    "x = [] # array to store the last 30 x position of the robot\n",
    "y = [] # array to store the last 30 y position of the robot\n",
    "i = 0 # counter for fulfill the array of the position in odom_cb\n",
    "ax = None # istantiate the graph (robot)\n",
    "bx = None # istantiate the graph (goal)\n",
    "count_odom = 0\n",
    "count_scan = 0"
   ]
  },
  {
   "cell_type": "code",
   "execution_count": 2,
   "id": "2ae14b97",
   "metadata": {
    "ExecuteTime": {
     "end_time": "2023-05-23T14:54:32.406293Z",
     "start_time": "2023-05-23T14:54:32.397558Z"
    }
   },
   "outputs": [],
   "source": [
    "def graph_view():\n",
    "    global ax\n",
    "    \n",
    "    np_x_plot = np.array(x)\n",
    "    np_y_plot = np.array(y)\n",
    "    fig = plt.figure()\n",
    "    ax = fig.add_axes([0, 0, 1, 1])\n",
    "    ax.set_xlim((-10, 10))\n",
    "    ax.set_ylim((-10, 10))\n",
    "    ax.set_title(\"world rappresentation\")\n",
    "    ax.set_xlabel(\"x\")\n",
    "    ax.set_ylabel(\"y\")\n",
    "    ax.plot(np_x_plot, np_y_plot, '-', color = 'b')"
   ]
  },
  {
   "cell_type": "code",
   "execution_count": 3,
   "id": "94397943",
   "metadata": {
    "ExecuteTime": {
     "end_time": "2023-05-23T14:54:32.506912Z",
     "start_time": "2023-05-23T14:54:32.417243Z"
    }
   },
   "outputs": [],
   "source": [
    "def D_cb(b):\n",
    "    if ((act_clnt.get_state()) == 1):\n",
    "        act_clnt.cancel_goal() # delete the goal\n",
    "        n_deleted = rospy.get_param('n_deleted') # get the actual number of goal deleted\n",
    "        n_deleted = n_deleted + 1 # increase it\n",
    "        rospy.set_param('n_deleted', n_deleted) # load it in the paramserver\n",
    "        pr_goalf[len(pr_goalf) - 1] = True"
   ]
  },
  {
   "cell_type": "code",
   "execution_count": 4,
   "id": "1742a026",
   "metadata": {
    "ExecuteTime": {
     "end_time": "2023-05-23T14:54:32.522620Z",
     "start_time": "2023-05-23T14:54:32.511502Z"
    }
   },
   "outputs": [],
   "source": [
    "def N_cb(b):\n",
    "    if ((Gx.disabled == True) and (Gy.disabled == True)):\n",
    "        Gx.disabled = False\n",
    "        Gy.disabled = False     \n",
    "        N.disabled = True"
   ]
  },
  {
   "cell_type": "code",
   "execution_count": 5,
   "id": "c636fa2e",
   "metadata": {
    "ExecuteTime": {
     "end_time": "2023-05-23T14:54:32.535605Z",
     "start_time": "2023-05-23T14:54:32.527194Z"
    }
   },
   "outputs": [],
   "source": [
    "def I_cb(b):\n",
    "    info = srv_info()\n",
    "    Gr.value = info.n_goal\n",
    "    Gd.value = info.n_deleted"
   ]
  },
  {
   "cell_type": "code",
   "execution_count": 6,
   "id": "4072c0af",
   "metadata": {
    "ExecuteTime": {
     "end_time": "2023-05-23T14:54:32.563152Z",
     "start_time": "2023-05-23T14:54:32.538407Z"
    }
   },
   "outputs": [],
   "source": [
    "def II():\n",
    "    global bx\n",
    "        \n",
    "    # if it's the first time the function is called:\n",
    "    if (len(pr_goalx) == 1):\n",
    "        \n",
    "        # info box for the goal list:\n",
    "        # name:\n",
    "        Gl_n = widgets.Text(value = 'Goal list', disabled = True, layout = L3)\n",
    "        Glx_n = widgets.Text(value = 'x_goal', disabled = True, layout = L2)\n",
    "        Gly_n = widgets.Text(value = 'y_goal', disabled = True, layout = L2)\n",
    "        Glf_n = widgets.Text(value = 'deleted', disabled = True, layout = L2)\n",
    "        Gl1 = HBox([Glx_n, Gly_n, Glf_n])\n",
    "        Gl = VBox([Gl_n, Gl1])\n",
    "        # connect to the already done menu:\n",
    "        display(Gl)\n",
    "               \n",
    "    # data:\n",
    "    Glx = widgets.FloatText(value = pr_goalx[len(pr_goalx) - 1], disabled = True, layout = L2, continuous_update = True)\n",
    "    Gly = widgets.FloatText(value = pr_goaly[len(pr_goaly) - 1], disabled = True, layout = L2, continuous_update = True)\n",
    "    Glf = widgets.Valid(value = pr_goalf[len(pr_goalf) - 1], layout = L2, continuous_update = True)\n",
    "    \n",
    "    # combination:\n",
    "    Gl2 = HBox([Glx, Gly, Glf])\n",
    "    \n",
    "    # connect to the already done menu:\n",
    "    display(Gl2)\n",
    "    \n",
    "    # plot the goals\n",
    "    np_Gx_plot = np.array(pr_goalx)\n",
    "    np_Gy_plot = np.array(pr_goaly)\n",
    "    bx.plot(np_Gx_plot, np_Gy_plot, '*', color='r')  "
   ]
  },
  {
   "cell_type": "code",
   "execution_count": 7,
   "id": "160f6114",
   "metadata": {
    "ExecuteTime": {
     "end_time": "2023-05-23T14:54:32.577203Z",
     "start_time": "2023-05-23T14:54:32.569971Z"
    }
   },
   "outputs": [],
   "source": [
    "def NGx_cb(value):   \n",
    "    Gx.disabled = True\n",
    "    goal.target_pose.pose.position.x = float(Gx.value)\n",
    "    if (Gy.disabled):\n",
    "        N.disabled = False\n",
    "        act_clnt.send_goal(goal)\n",
    "        pr_goalx.append(Gx.value)\n",
    "        pr_goaly.append(Gy.value)\n",
    "        pr_goalf.append(False)\n",
    "        II()"
   ]
  },
  {
   "cell_type": "code",
   "execution_count": 8,
   "id": "730f2a21",
   "metadata": {
    "ExecuteTime": {
     "end_time": "2023-05-23T14:54:32.594259Z",
     "start_time": "2023-05-23T14:54:32.582439Z"
    }
   },
   "outputs": [],
   "source": [
    "def NGy_cb(value):    \n",
    "    Gy.disabled = True\n",
    "    goal.target_pose.pose.position.y = float(Gy.value)\n",
    "    if (Gx.disabled):\n",
    "        N.disabled = False  \n",
    "        act_clnt.send_goal(goal)\n",
    "        pr_goalx.append(Gx.value)\n",
    "        pr_goaly.append(Gy.value)\n",
    "        pr_goalf.append(False)\n",
    "        II()"
   ]
  },
  {
   "cell_type": "code",
   "execution_count": 9,
   "id": "852e71ea",
   "metadata": {
    "ExecuteTime": {
     "end_time": "2023-05-23T14:54:33.267415Z",
     "start_time": "2023-05-23T14:54:32.609360Z"
    }
   },
   "outputs": [
    {
     "data": {
      "application/vnd.jupyter.widget-view+json": {
       "model_id": "40a21f86150e44e7b3af5c85fd57f7c4",
       "version_major": 2,
       "version_minor": 0
      },
      "text/plain": [
       "HBox(children=(VBox(children=(Button(button_style='danger', description='Delete Goal', layout=Layout(height='1…"
      ]
     },
     "metadata": {},
     "output_type": "display_data"
    },
    {
     "data": {
      "application/vnd.jupyter.widget-view+json": {
       "model_id": "a887eef04e9c4a8dae4dd19dd8a56fad",
       "version_major": 2,
       "version_minor": 0
      },
      "image/png": "[encoded data removed]",
      "text/html": [
       "\n",
       "            <div style=\"display: inline-block;\">\n",
       "                <div class=\"jupyter-widgets widget-label\" style=\"text-align: center;\">\n",
       "                    Figure\n",
       "                </div>\n",
       "                <img src='data:image/png;base64,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' width=640.0/>\n",
       "            </div>\n",
       "        "
      ],
      "text/plain": [
       "Canvas(toolbar=Toolbar(toolitems=[('Home', 'Reset original view', 'home', 'home'), ('Back', 'Back to previous …"
      ]
     },
     "metadata": {},
     "output_type": "display_data"
    },
    {
     "data": {
      "application/vnd.jupyter.widget-view+json": {
       "model_id": "dfd86dc3005645e5b63a1997e49f2981",
       "version_major": 2,
       "version_minor": 0
      },
      "text/plain": [
       "VBox(children=(Text(value='Goal list', disabled=True, layout=Layout(height='5%', max_width='160px', min_height…"
      ]
     },
     "metadata": {},
     "output_type": "display_data"
    },
    {
     "data": {
      "application/vnd.jupyter.widget-view+json": {
       "model_id": "4e23b6e93ae6491db2243f97eb3d266a",
       "version_major": 2,
       "version_minor": 0
      },
      "text/plain": [
       "HBox(children=(FloatText(value=-4.0, continuous_update=True, disabled=True, layout=Layout(height='5%', max_wid…"
      ]
     },
     "metadata": {},
     "output_type": "display_data"
    },
    {
     "ename": "AttributeError",
     "evalue": "'NoneType' object has no attribute 'plot'",
     "output_type": "error",
     "traceback": [
      "\u001b[0;31m---------------------------------------------------------------------------\u001b[0m",
      "\u001b[0;31mAttributeError\u001b[0m                            Traceback (most recent call last)",
      "File \u001b[0;32m~/.local/lib/python3.8/site-packages/ipywidgets/widgets/widget.py:764\u001b[0m, in \u001b[0;36mWidget._handle_msg\u001b[0;34m(self, msg)\u001b[0m\n\u001b[1;32m    762\u001b[0m         \u001b[38;5;28;01mif\u001b[39;00m \u001b[38;5;124m'\u001b[39m\u001b[38;5;124mbuffer_paths\u001b[39m\u001b[38;5;124m'\u001b[39m \u001b[38;5;129;01min\u001b[39;00m data:\n\u001b[1;32m    763\u001b[0m             _put_buffers(state, data[\u001b[38;5;124m'\u001b[39m\u001b[38;5;124mbuffer_paths\u001b[39m\u001b[38;5;124m'\u001b[39m], msg[\u001b[38;5;124m'\u001b[39m\u001b[38;5;124mbuffers\u001b[39m\u001b[38;5;124m'\u001b[39m])\n\u001b[0;32m--> 764\u001b[0m         \u001b[38;5;28;43mself\u001b[39;49m\u001b[38;5;241;43m.\u001b[39;49m\u001b[43mset_state\u001b[49m\u001b[43m(\u001b[49m\u001b[43mstate\u001b[49m\u001b[43m)\u001b[49m\n\u001b[1;32m    766\u001b[0m \u001b[38;5;66;03m# Handle a state request.\u001b[39;00m\n\u001b[1;32m    767\u001b[0m \u001b[38;5;28;01melif\u001b[39;00m method \u001b[38;5;241m==\u001b[39m \u001b[38;5;124m'\u001b[39m\u001b[38;5;124mrequest_state\u001b[39m\u001b[38;5;124m'\u001b[39m:\n",
      "File \u001b[0;32m~/.local/lib/python3.8/site-packages/ipywidgets/widgets/widget.py:633\u001b[0m, in \u001b[0;36mWidget.set_state\u001b[0;34m(self, sync_data)\u001b[0m\n\u001b[1;32m    630\u001b[0m \u001b[38;5;28;01mif\u001b[39;00m name \u001b[38;5;129;01min\u001b[39;00m \u001b[38;5;28mself\u001b[39m\u001b[38;5;241m.\u001b[39mkeys:\n\u001b[1;32m    631\u001b[0m     from_json \u001b[38;5;241m=\u001b[39m \u001b[38;5;28mself\u001b[39m\u001b[38;5;241m.\u001b[39mtrait_metadata(name, \u001b[38;5;124m'\u001b[39m\u001b[38;5;124mfrom_json\u001b[39m\u001b[38;5;124m'\u001b[39m,\n\u001b[1;32m    632\u001b[0m                                     \u001b[38;5;28mself\u001b[39m\u001b[38;5;241m.\u001b[39m_trait_from_json)\n\u001b[0;32m--> 633\u001b[0m     \u001b[38;5;28mself\u001b[39m\u001b[38;5;241m.\u001b[39mset_trait(name, from_json(sync_data[name], \u001b[38;5;28mself\u001b[39m))\n",
      "File \u001b[0;32m/usr/lib/python3.8/contextlib.py:120\u001b[0m, in \u001b[0;36m_GeneratorContextManager.__exit__\u001b[0;34m(self, type, value, traceback)\u001b[0m\n\u001b[1;32m    118\u001b[0m \u001b[38;5;28;01mif\u001b[39;00m \u001b[38;5;28mtype\u001b[39m \u001b[38;5;129;01mis\u001b[39;00m \u001b[38;5;28;01mNone\u001b[39;00m:\n\u001b[1;32m    119\u001b[0m     \u001b[38;5;28;01mtry\u001b[39;00m:\n\u001b[0;32m--> 120\u001b[0m         \u001b[38;5;28;43mnext\u001b[39;49m\u001b[43m(\u001b[49m\u001b[38;5;28;43mself\u001b[39;49m\u001b[38;5;241;43m.\u001b[39;49m\u001b[43mgen\u001b[49m\u001b[43m)\u001b[49m\n\u001b[1;32m    121\u001b[0m     \u001b[38;5;28;01mexcept\u001b[39;00m \u001b[38;5;167;01mStopIteration\u001b[39;00m:\n\u001b[1;32m    122\u001b[0m         \u001b[38;5;28;01mreturn\u001b[39;00m \u001b[38;5;28;01mFalse\u001b[39;00m\n",
      "File \u001b[0;32m~/.local/lib/python3.8/site-packages/traitlets/traitlets.py:1502\u001b[0m, in \u001b[0;36mHasTraits.hold_trait_notifications\u001b[0;34m(self)\u001b[0m\n\u001b[1;32m   1500\u001b[0m \u001b[38;5;28;01mfor\u001b[39;00m changes \u001b[38;5;129;01min\u001b[39;00m cache\u001b[38;5;241m.\u001b[39mvalues():\n\u001b[1;32m   1501\u001b[0m     \u001b[38;5;28;01mfor\u001b[39;00m change \u001b[38;5;129;01min\u001b[39;00m changes:\n\u001b[0;32m-> 1502\u001b[0m         \u001b[38;5;28;43mself\u001b[39;49m\u001b[38;5;241;43m.\u001b[39;49m\u001b[43mnotify_change\u001b[49m\u001b[43m(\u001b[49m\u001b[43mchange\u001b[49m\u001b[43m)\u001b[49m\n",
      "File \u001b[0;32m~/.local/lib/python3.8/site-packages/ipywidgets/widgets/widget.py:694\u001b[0m, in \u001b[0;36mWidget.notify_change\u001b[0;34m(self, change)\u001b[0m\n\u001b[1;32m    691\u001b[0m     \u001b[38;5;28;01mif\u001b[39;00m name \u001b[38;5;129;01min\u001b[39;00m \u001b[38;5;28mself\u001b[39m\u001b[38;5;241m.\u001b[39mkeys \u001b[38;5;129;01mand\u001b[39;00m \u001b[38;5;28mself\u001b[39m\u001b[38;5;241m.\u001b[39m_should_send_property(name, \u001b[38;5;28mgetattr\u001b[39m(\u001b[38;5;28mself\u001b[39m, name)):\n\u001b[1;32m    692\u001b[0m         \u001b[38;5;66;03m# Send new state to front-end\u001b[39;00m\n\u001b[1;32m    693\u001b[0m         \u001b[38;5;28mself\u001b[39m\u001b[38;5;241m.\u001b[39msend_state(key\u001b[38;5;241m=\u001b[39mname)\n\u001b[0;32m--> 694\u001b[0m \u001b[38;5;28;43msuper\u001b[39;49m\u001b[43m(\u001b[49m\u001b[43mWidget\u001b[49m\u001b[43m,\u001b[49m\u001b[43m \u001b[49m\u001b[38;5;28;43mself\u001b[39;49m\u001b[43m)\u001b[49m\u001b[38;5;241;43m.\u001b[39;49m\u001b[43mnotify_change\u001b[49m\u001b[43m(\u001b[49m\u001b[43mchange\u001b[49m\u001b[43m)\u001b[49m\n",
      "File \u001b[0;32m~/.local/lib/python3.8/site-packages/traitlets/traitlets.py:1517\u001b[0m, in \u001b[0;36mHasTraits.notify_change\u001b[0;34m(self, change)\u001b[0m\n\u001b[1;32m   1515\u001b[0m \u001b[38;5;28;01mdef\u001b[39;00m \u001b[38;5;21mnotify_change\u001b[39m(\u001b[38;5;28mself\u001b[39m, change):\n\u001b[1;32m   1516\u001b[0m \u001b[38;5;250m    \u001b[39m\u001b[38;5;124;03m\"\"\"Notify observers of a change event\"\"\"\u001b[39;00m\n\u001b[0;32m-> 1517\u001b[0m     \u001b[38;5;28;01mreturn\u001b[39;00m \u001b[38;5;28;43mself\u001b[39;49m\u001b[38;5;241;43m.\u001b[39;49m\u001b[43m_notify_observers\u001b[49m\u001b[43m(\u001b[49m\u001b[43mchange\u001b[49m\u001b[43m)\u001b[49m\n",
      "File \u001b[0;32m~/.local/lib/python3.8/site-packages/traitlets/traitlets.py:1564\u001b[0m, in \u001b[0;36mHasTraits._notify_observers\u001b[0;34m(self, event)\u001b[0m\n\u001b[1;32m   1561\u001b[0m \u001b[38;5;28;01melif\u001b[39;00m \u001b[38;5;28misinstance\u001b[39m(c, EventHandler) \u001b[38;5;129;01mand\u001b[39;00m c\u001b[38;5;241m.\u001b[39mname \u001b[38;5;129;01mis\u001b[39;00m \u001b[38;5;129;01mnot\u001b[39;00m \u001b[38;5;28;01mNone\u001b[39;00m:\n\u001b[1;32m   1562\u001b[0m     c \u001b[38;5;241m=\u001b[39m \u001b[38;5;28mgetattr\u001b[39m(\u001b[38;5;28mself\u001b[39m, c\u001b[38;5;241m.\u001b[39mname)\n\u001b[0;32m-> 1564\u001b[0m \u001b[43mc\u001b[49m\u001b[43m(\u001b[49m\u001b[43mevent\u001b[49m\u001b[43m)\u001b[49m\n",
      "Cell \u001b[0;32mIn[8], line 10\u001b[0m, in \u001b[0;36mNGy_cb\u001b[0;34m(value)\u001b[0m\n\u001b[1;32m      8\u001b[0m pr_goaly\u001b[38;5;241m.\u001b[39mappend(Gy\u001b[38;5;241m.\u001b[39mvalue)\n\u001b[1;32m      9\u001b[0m pr_goalf\u001b[38;5;241m.\u001b[39mappend(\u001b[38;5;28;01mFalse\u001b[39;00m)\n\u001b[0;32m---> 10\u001b[0m \u001b[43mII\u001b[49m\u001b[43m(\u001b[49m\u001b[43m)\u001b[49m\n",
      "Cell \u001b[0;32mIn[6], line 32\u001b[0m, in \u001b[0;36mII\u001b[0;34m()\u001b[0m\n\u001b[1;32m     30\u001b[0m np_Gx_plot \u001b[38;5;241m=\u001b[39m np\u001b[38;5;241m.\u001b[39marray(pr_goalx)\n\u001b[1;32m     31\u001b[0m np_Gy_plot \u001b[38;5;241m=\u001b[39m np\u001b[38;5;241m.\u001b[39marray(pr_goaly)\n\u001b[0;32m---> 32\u001b[0m \u001b[43mbx\u001b[49m\u001b[38;5;241;43m.\u001b[39;49m\u001b[43mplot\u001b[49m(np_Gx_plot, np_Gy_plot, \u001b[38;5;124m'\u001b[39m\u001b[38;5;124m*\u001b[39m\u001b[38;5;124m'\u001b[39m, color\u001b[38;5;241m=\u001b[39m\u001b[38;5;124m'\u001b[39m\u001b[38;5;124mr\u001b[39m\u001b[38;5;124m'\u001b[39m)\n",
      "\u001b[0;31mAttributeError\u001b[0m: 'NoneType' object has no attribute 'plot'"
     ]
    }
   ],
   "source": [
    "# different layout:\n",
    "L1 = Layout(width = 'auto', height = '10%', min_width = '80px', min_height = '54px', max_width = '160px')\n",
    "L2 = Layout(width = 'auto', height = '5%', min_width = '40px', min_height = '20px', max_width = '80px')\n",
    "L3 = Layout(width = 'auto', height = '5%', min_width = '80px', min_height = '20px', max_width = '160px')\n",
    "\n",
    "# delete goal button:\n",
    "D = widgets.Button(value = False, description = 'Delete Goal', disabled = False, button_style = 'danger', layout = L1, continuous_update = False)\n",
    "\n",
    "# new goal button:\n",
    "N = widgets.Button(value = False, description = 'New Goal', disabled = False, button_style = 'success', layout = L1, continuous_update = False)\n",
    "\n",
    "# information button:\n",
    "I = widgets.Button(value = False, description = 'Information', disabled = False, button_style = 'info', layout = L1, continuous_update = False)\n",
    "\n",
    "\n",
    "# info box for the goal coordinates:\n",
    "# name:\n",
    "Gx_n = widgets.Text(value = 'x_goal', disabled = True, layout = L2)\n",
    "Gy_n = widgets.Text(value = 'y_goal', disabled = True, layout = L2)\n",
    "# data:\n",
    "Gx = widgets.FloatText(value = '0.00', disabled = True, layout = L2, continuous_update = False)\n",
    "Gy = widgets.FloatText(value = '0.00', disabled = True, layout = L2, continuous_update = False)\n",
    "# combination:\n",
    "Gx_c = VBox([Gx_n, Gx])\n",
    "Gy_c = VBox([Gy_n, Gy])\n",
    "Gxy = HBox([Gx_c, Gy_c])\n",
    "\n",
    "# info box for the goal reached and deleted:\n",
    "# name:\n",
    "Gr_n = widgets.Text(value = 'goal_r', disabled = True, layout = L2)\n",
    "Gd_n = widgets.Text(value = 'goal_d', disabled = True, layout = L2)\n",
    "# data:\n",
    "Gr = widgets.FloatText(value = '0.00', disabled = True, layout = L2, continuous_update = False)\n",
    "Gd = widgets.FloatText(value = '0.00', disabled = True, layout = L2, continuous_update = False)\n",
    "# combination:\n",
    "Gr_c = VBox([Gr_n, Gr])\n",
    "Gd_c = VBox([Gd_n, Gd])\n",
    "Grd = HBox([Gr_c, Gd_c])\n",
    "\n",
    "# combine everything\n",
    "UI = VBox([D, HBox([N, Gxy]), HBox([I, Grd])])\n",
    "\n",
    "\n",
    "# second menu with robot position, closer obstacles, goal list:\n",
    "out = widgets.Output(layout={'border': '1px solid black'})\n",
    "\n",
    "# info box for the robot position:\n",
    "# name:\n",
    "Rp_n = widgets.Text(value = 'robot position', disabled = True, layout = L3)\n",
    "Rpx_n = widgets.Text(value = 'x_robot', disabled = True, layout = L2)\n",
    "Rpy_n = widgets.Text(value = 'y_robot', disabled = True, layout = L2)\n",
    "# data:\n",
    "Rpx = widgets.FloatText(value = '0.00', disabled = True, layout = L2, continuous_update = True)\n",
    "Rpy = widgets.FloatText(value = '0.00', disabled = True, layout = L2, continuous_update = True)\n",
    "# combination:\n",
    "Rpx_c = VBox([Rpx_n, Rpx])\n",
    "Rpy_c = VBox([Rpy_n, Rpy])\n",
    "Rpxy_c = HBox([Rpx_c, Rpy_c])\n",
    "Rpxy = VBox([Rp_n, Rpxy_c])\n",
    "\n",
    "# info box for the closer obstacle:\n",
    "# name:\n",
    "Co_n = widgets.Text(value = 'closer obstacle', disabled = True, layout = L3)\n",
    "Cod_n = widgets.Text(value = 'dist', disabled = True, layout = L2)\n",
    "Coa_n = widgets.Text(value = 'angle', disabled = True, layout = L2)\n",
    "# data:\n",
    "Cod = widgets.FloatText(value = '0.00', disabled = True, layout = L2, continuous_update = True)\n",
    "Coa = widgets.FloatText(value = '0.00', disabled = True, layout = L2, continuous_update = True)\n",
    "# combination:\n",
    "Cod_c = VBox([Cod_n, Cod])\n",
    "Coa_c = VBox([Coa_n, Coa])\n",
    "Coda_c = HBox([Cod_c, Coa_c])\n",
    "Coda = VBox([Co_n, Coda_c])\n",
    "\n",
    "# combine everything\n",
    "IM = VBox([Rpxy, Coda])\n",
    "\n",
    "# combine UI and IM and print:\n",
    "CUI = HBox([UI, IM])\n",
    "\n",
    "# plot\n",
    "graph_view()\n",
    "\n",
    "display(CUI)\n",
    "\n",
    "# callbacks:\n",
    "D.on_click(D_cb)\n",
    "N.on_click(N_cb)\n",
    "Gx.observe(NGx_cb, names = 'value')\n",
    "Gy.observe(NGy_cb, names = 'value')\n",
    "I.on_click(I_cb)"
   ]
  },
  {
   "cell_type": "code",
   "execution_count": 10,
   "id": "515c9042",
   "metadata": {
    "ExecuteTime": {
     "end_time": "2023-05-23T14:54:33.291374Z",
     "start_time": "2023-05-23T14:54:33.270773Z"
    }
   },
   "outputs": [],
   "source": [
    "def odom_cb(msg):\n",
    "    global Rpx, Rpy, act_clnt, gf, x, y, i, ax, count_odom\n",
    "    \n",
    "    if (count_odom == 20):\n",
    "        # get position valeu and display them in the text window:\n",
    "        Rpx.value = round(msg.pose.pose.position.x, 2)\n",
    "        Rpy.value = round(msg.pose.pose.position.y, 2)\n",
    "        count_odom = -1\n",
    "    \n",
    "        # add the same data in the position stored:\n",
    "        if (len(x) < 30):\n",
    "            x.append(round(msg.pose.pose.position.x, 2))\n",
    "            y.append(round(msg.pose.pose.position.x, 2))\n",
    "        else:\n",
    "            x[i] = round(msg.pose.pose.position.x, 2)\n",
    "            y[i] = round(msg.pose.pose.position.x, 2)\n",
    "            i += 1\n",
    "            \n",
    "            if (i == 30):\n",
    "                i = 0\n",
    "\n",
    "        # plot:\n",
    "        np_x_plot = np.array(x)\n",
    "        np_y_plot = np.array(y)\n",
    "        ax.plot(np_x_plot, np_y_plot)    \n",
    "    \n",
    "    count_odom += 1 \n",
    "    \n",
    "    if (act_clnt.get_state() == 3 and gf == 0): # if i've reached the goal\n",
    "        n_goal = rospy.get_param('n_goal') # get the actual number of goal\n",
    "        n_goal = n_goal + 1 # increase it\n",
    "        rospy.set_param('n_goal', n_goal) # load it in the paramserver\n",
    "        gf = 1\n",
    "    elif (act_clnt.get_state() != 3):\n",
    "        gf = 0    \n",
    "    "
   ]
  },
  {
   "cell_type": "code",
   "execution_count": 11,
   "id": "afd43544",
   "metadata": {
    "ExecuteTime": {
     "end_time": "2023-05-23T14:54:33.306691Z",
     "start_time": "2023-05-23T14:54:33.298797Z"
    }
   },
   "outputs": [],
   "source": [
    "def scan_cb(msg):\n",
    "    global count_scan\n",
    "    \n",
    "    if (count_scan == 50):\n",
    "        Cod.value = round(min(msg.ranges, 10), 2)\n",
    "        Coa.value = (msg.ranges.index(min(msg.ranges, 10)) + 1)\n",
    "        count_scan = -1\n",
    "    \n",
    "    count_scan += 1"
   ]
  },
  {
   "cell_type": "code",
   "execution_count": 12,
   "id": "9a13ec16",
   "metadata": {
    "ExecuteTime": {
     "end_time": "2023-05-23T14:54:33.704824Z",
     "start_time": "2023-05-23T14:54:33.309695Z"
    }
   },
   "outputs": [],
   "source": [
    "rospy.init_node('user_interface', anonymous=True) # init the node\n",
    "act_clnt = actionlib.SimpleActionClient('/reaching_goal', assignment_2_2022.msg.PlanningAction)\n",
    "act_clnt.wait_for_server()\n",
    "sub_odom = jr.subscribe('/odom', Odometry, odom_cb)\n",
    "sud_scan = jr.subscribe('/scan',LaserScan, scan_cb)\n",
    "srv_info = rospy.ServiceProxy(\"/info\", Ngoal)\n",
    "rospy.wait_for_service(\"/info\")\n",
    "rospy.set_param('n_goal', 0)\n",
    "rospy.set_param('n_deleted', 0) "
   ]
  },
  {
   "cell_type": "code",
   "execution_count": null,
   "id": "a3cfde9a",
   "metadata": {},
   "outputs": [],
   "source": []
  },
  {
   "cell_type": "code",
   "execution_count": null,
   "id": "e98e0e51",
   "metadata": {},
   "outputs": [],
   "source": []
  }
 ],
 "metadata": {
  "kernelspec": {
   "display_name": "Python 3 (ipykernel)",
   "language": "python",
   "name": "python3"
  },
  "language_info": {
   "codemirror_mode": {
    "name": "ipython",
    "version": 3
   },
   "file_extension": ".py",
   "mimetype": "text/x-python",
   "name": "python",
   "nbconvert_exporter": "python",
   "pygments_lexer": "ipython3",
   "version": "3.8.10"
  },
  "toc": {
   "base_numbering": 1,
   "nav_menu": {},
   "number_sections": true,
   "sideBar": true,
   "skip_h1_title": false,
   "title_cell": "Table of Contents",
   "title_sidebar": "Contents",
   "toc_cell": false,
   "toc_position": {
    "height": "calc(100% - 180px)",
    "left": "10px",
    "top": "150px",
    "width": "165px"
   },
   "toc_section_display": true,
   "toc_window_display": false
  },
  "varInspector": {
   "cols": {
    "lenName": 16,
    "lenType": 16,
    "lenVar": 40
   },
   "kernels_config": {
    "python": {
     "delete_cmd_postfix": "",
     "delete_cmd_prefix": "del ",
     "library": "var_list.py",
     "varRefreshCmd": "print(var_dic_list())"
    },
    "r": {
     "delete_cmd_postfix": ") ",
     "delete_cmd_prefix": "rm(",
     "library": "var_list.r",
     "varRefreshCmd": "cat(var_dic_list()) "
    }
   },
   "position": {
    "height": "332.85px",
    "left": "554px",
    "right": "20px",
    "top": "120px",
    "width": "350px"
   },
   "types_to_exclude": [
    "module",
    "function",
    "builtin_function_or_method",
    "instance",
    "_Feature"
   ],
   "window_display": false
  }
 },
 "nbformat": 4,
 "nbformat_minor": 5
}

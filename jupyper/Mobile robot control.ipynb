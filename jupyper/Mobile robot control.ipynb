{
 "cells": [
  {
   "cell_type": "markdown",
   "id": "847bb782",
   "metadata": {},
   "source": [
    "# User interface Node #\n",
    "This node will create a user interface for the Bug0 robot, in it the user will be able to set a new goal, delete the current one or get infromations about the number of goal reached or deleted."
   ]
  },
  {
   "cell_type": "markdown",
   "id": "0e9163b3",
   "metadata": {},
   "source": [
    "### Libraries and global variables: ###\n",
    "In this first cell a series of libraries needed for the User interface are imported and the global variables are istantiated."
   ]
  },
  {
   "cell_type": "code",
   "execution_count": 1,
   "id": "a6c1f861",
   "metadata": {
    "ExecuteTime": {
     "end_time": "2023-05-27T15:49:30.334645Z",
     "start_time": "2023-05-27T15:49:27.559691Z"
    }
   },
   "outputs": [],
   "source": [
    "#! /usr/bin/env python3\n",
    "\n",
    "%matplotlib widget\n",
    "import rospy\n",
    "import time\n",
    "import sys\n",
    "import select\n",
    "import os\n",
    "import actionlib\n",
    "import actionlib.msg\n",
    "import assignment_2_2022.msg\n",
    "from nav_msgs.msg import Odometry\n",
    "from sensor_msgs.msg import LaserScan\n",
    "from assignment_2_2022.srv import Ngoal\n",
    "import ipywidgets as widgets\n",
    "from ipywidgets import VBox, HBox, Layout\n",
    "import logging\n",
    "from IPython.display import display\n",
    "import jupyros as jr\n",
    "import numpy as np\n",
    "import matplotlib.pyplot as plt\n",
    "\n",
    "act_clnt = None # istantiate the action client \n",
    "goal = assignment_2_2022.msg.PlanningGoal() # istantiate the goal message to send \n",
    "goal.target_pose.pose.position.z = 0.0 # set its third component equal to 0\n",
    "info = Ngoal() # istantiate the info request for the service (number of goal reached and deleted)\n",
    "srv_info = None # istantiate the responce\n",
    "gf = 0 # goal flag to increase the number of goal only the first time the state pass to succeeded\n",
    "pr_goalx = [] # array to store the x position of the goal\n",
    "pr_goaly = [] # array to store the y position of the goal\n",
    "x = [] # array to store the last 30 x position of the robot\n",
    "y = [] # array to store the last 30 y position of the robot\n",
    "i = 0 # counter for fulfill the array of the position in odom_cb\n",
    "ax = None # istantiate the graph (robot)\n",
    "count_odom = 0 # counter used to optimize the odom callback\n",
    "count_scan = 0 # counter used to optimize the scan callback"
   ]
  },
  {
   "cell_type": "markdown",
   "id": "197188aa",
   "metadata": {},
   "source": [
    "### graph_view function: ###\n",
    "This function will plot a graph as a representation of the world, in it the recent position history of the robot and the goal position will be represented, respectively in a blue line and in red stars."
   ]
  },
  {
   "cell_type": "code",
   "execution_count": 2,
   "id": "2ae14b97",
   "metadata": {
    "ExecuteTime": {
     "end_time": "2023-05-27T15:49:30.345685Z",
     "start_time": "2023-05-27T15:49:30.337660Z"
    }
   },
   "outputs": [],
   "source": [
    "def graph_view():\n",
    "    global ax, x, y\n",
    "    \n",
    "    np_x_plot = np.array(x) # conver the x array that store the position of the robot in numpy format\n",
    "    np_y_plot = np.array(y) # conver the y array that store the position of the robot in numpy format\n",
    "    fig = plt.figure(\"world representation\") # create a figure titled world representation\n",
    "    ax = fig.add_axes([0, 0, 1, 1]) # add the x and y axes\n",
    "    ax.set_xlim((-10, 10)) # give a dimensional limit along x (the size of the map)\n",
    "    ax.set_ylim((-10, 10)) # give a dimensional limit along y (the size of the map)\n",
    "    ax.set_xlabel(\"x\") # name the axes x\n",
    "    ax.set_ylabel(\"y\") # name the axes y\n",
    "    ax.plot(np_x_plot, np_y_plot, '-', color = 'b') # plot the already converted position of the robot in blue"
   ]
  },
  {
   "cell_type": "markdown",
   "id": "6b7a77ac",
   "metadata": {},
   "source": [
    "### D_cb function: ###\n",
    "This is the callback of the D button, used to delete the current goal, once the button is pressed it will check if there is an active goal, will delete it, will recover the actual number of goal deleted from the ros parameter server, increase it and then set it back in the ros parameter server."
   ]
  },
  {
   "cell_type": "code",
   "execution_count": 3,
   "id": "94397943",
   "metadata": {
    "ExecuteTime": {
     "end_time": "2023-05-27T15:49:30.468273Z",
     "start_time": "2023-05-27T15:49:30.352231Z"
    }
   },
   "outputs": [],
   "source": [
    "def D_cb(b):\n",
    "    if ((act_clnt.get_state()) == 1): # in this case there is an active goal\n",
    "        act_clnt.cancel_goal() # delete the goal\n",
    "        n_deleted = rospy.get_param('n_deleted') # get the actual number of goal deleted\n",
    "        n_deleted = n_deleted + 1 # increase it\n",
    "        rospy.set_param('n_deleted', n_deleted) # load it in the paramserver"
   ]
  },
  {
   "cell_type": "markdown",
   "id": "e80cb1d2",
   "metadata": {},
   "source": [
    "### N_cb function: ###\n",
    "This is the callback of the N button, used to set a new goal, once pressed it will first check that the user finished to insert the previous goal, done that it activate the texts boxes to put the coordinate of the goal and deactivate itself.  "
   ]
  },
  {
   "cell_type": "code",
   "execution_count": 4,
   "id": "1742a026",
   "metadata": {
    "ExecuteTime": {
     "end_time": "2023-05-27T15:49:30.478458Z",
     "start_time": "2023-05-27T15:49:30.471259Z"
    }
   },
   "outputs": [],
   "source": [
    "def N_cb(b):\n",
    "    if ((Gx.disabled == True) and (Gy.disabled == True)): # check if the previous goal insertion is finished\n",
    "        Gx.disabled = False # unlock the x goal text box\n",
    "        Gy.disabled = False # unlock the y goal text box\n",
    "        N.disabled = True # lock the N button till the insertion of the goal is finshed"
   ]
  },
  {
   "cell_type": "markdown",
   "id": "37505ac1",
   "metadata": {},
   "source": [
    "### I_cb function: ###\n",
    "This is the callback of the I button, used to obtain information about the number of goal reached and deleted, it will first call the service srv_info, provided by an external node, obtained the data from it it will set the two value of the text boxes with the relative value."
   ]
  },
  {
   "cell_type": "code",
   "execution_count": 5,
   "id": "c636fa2e",
   "metadata": {
    "ExecuteTime": {
     "end_time": "2023-05-27T15:49:30.487549Z",
     "start_time": "2023-05-27T15:49:30.482096Z"
    }
   },
   "outputs": [],
   "source": [
    "def I_cb(b):\n",
    "    info = srv_info() # obtain the number of goal reached and deleted\n",
    "    Gr.value = info.n_goal # set the number of goal reached in the right text box\n",
    "    Gd.value = info.n_deleted # set the number of goal deleted in the right text box"
   ]
  },
  {
   "cell_type": "markdown",
   "id": "94e378c4",
   "metadata": {},
   "source": [
    "### II function: ###\n",
    "This function will create and display the user interface part in which the previous goal will be listed, in detail if it's the first time it's called it will create the text boxes with the titles 'Goal list', 'x_goal', 'y_goal', and will group them in one single widget called 'Gl' and display it; then in all the cases it will create the float Text boxes in which the coordinates of the goals will be displayed, combine them in one single widget under the name 'Gl2' and then display them.\n",
    "Moreover, since this function will be called right after the declaration of a new goal, it will plot again the goals to update them."
   ]
  },
  {
   "cell_type": "code",
   "execution_count": 6,
   "id": "4072c0af",
   "metadata": {
    "ExecuteTime": {
     "end_time": "2023-05-27T15:49:30.511016Z",
     "start_time": "2023-05-27T15:49:30.490832Z"
    }
   },
   "outputs": [],
   "source": [
    "def II():\n",
    "    global ax\n",
    "        \n",
    "    # if it's the first time the function is called:\n",
    "    if (len(pr_goalx) == 1):\n",
    "        \n",
    "        # info box for the goal list:\n",
    "        # name:\n",
    "        Gl_n = widgets.Text(value = 'Goal list', disabled = True, layout = L3)\n",
    "        Glx_n = widgets.Text(value = 'x_goal', disabled = True, layout = L2)\n",
    "        Gly_n = widgets.Text(value = 'y_goal', disabled = True, layout = L2)\n",
    "        # group everything together:\n",
    "        Gl1 = HBox([Glx_n, Gly_n])\n",
    "        Gl = VBox([Gl_n, Gl1])\n",
    "        # display:\n",
    "        display(Gl)\n",
    "               \n",
    "    # data:\n",
    "    Glx = widgets.FloatText(value = pr_goalx[len(pr_goalx) - 1], disabled = True, layout = L2, continuous_update = True)\n",
    "    Gly = widgets.FloatText(value = pr_goaly[len(pr_goaly) - 1], disabled = True, layout = L2, continuous_update = True)\n",
    "    \n",
    "    # combination:\n",
    "    Gl2 = HBox([Glx, Gly])\n",
    "    \n",
    "    # connect to the already done menu:\n",
    "    display(Gl2)\n",
    "    \n",
    "    # plot the updated goals:\n",
    "    np_Gx_plot = np.array(pr_goalx)\n",
    "    np_Gy_plot = np.array(pr_goaly)\n",
    "    ax.plot(np_Gx_plot, np_Gy_plot, '*', color='r') # plot them as a red star"
   ]
  },
  {
   "cell_type": "markdown",
   "id": "98a39ded",
   "metadata": {},
   "source": [
    "### NGx_cb function: ###\n",
    "This is the callback of the text box in which the x coordinate of the goal will be set, it will be called once the user press enter or, once written something different from the previous value, when it click away from it.\n",
    "the function will first disable the text box, meaning the user will no longer be able to type anything in it, then it will set the x coordinate in the goal message that then will be send to the action server.\n",
    "done that the function will check if the user as putted also the other coordinate, and if so it will enable again the N button, send the goal, record the new goal in the internal array 'pr_goalx' and 'pr_goaly' and call the 'II()' function."
   ]
  },
  {
   "cell_type": "code",
   "execution_count": 7,
   "id": "160f6114",
   "metadata": {
    "ExecuteTime": {
     "end_time": "2023-05-27T15:49:30.535914Z",
     "start_time": "2023-05-27T15:49:30.519506Z"
    }
   },
   "outputs": [],
   "source": [
    "def NGx_cb(value):   \n",
    "    Gx.disabled = True # disable text box\n",
    "    goal.target_pose.pose.position.x = float(Gx.value) # set the x coordinates of the goal\n",
    "    if (Gy.disabled): # if the user has already set the other coordinate\n",
    "        N.disabled = False # enable again the N button\n",
    "        act_clnt.send_goal(goal) # send the goal\n",
    "        pr_goalx.append(Gx.value) # store the x coordinate of the goal internally\n",
    "        pr_goaly.append(Gy.value) # store the y coordinate of the goal internally\n",
    "        II() # call the II() function"
   ]
  },
  {
   "cell_type": "markdown",
   "id": "1101774d",
   "metadata": {},
   "source": [
    "### NGy_cb function: ###\n",
    "This is the callback of the text box in which the y coordinate of the goal will be set, it will work exactly as the 'NGy_cb' function."
   ]
  },
  {
   "cell_type": "code",
   "execution_count": 8,
   "id": "730f2a21",
   "metadata": {
    "ExecuteTime": {
     "end_time": "2023-05-27T15:49:30.554951Z",
     "start_time": "2023-05-27T15:49:30.546129Z"
    }
   },
   "outputs": [],
   "source": [
    "def NGy_cb(value):    \n",
    "    Gy.disabled = True # disable text box\n",
    "    goal.target_pose.pose.position.y = float(Gy.value) # set the x coordinates of the goal\n",
    "    if (Gx.disabled): # if the user has already set the other coordinate\n",
    "        N.disabled = False # enable again the N button\n",
    "        act_clnt.send_goal(goal) # send the goal\n",
    "        pr_goalx.append(Gx.value) # store the x coordinate of the goal internally\n",
    "        pr_goaly.append(Gy.value) # store the y coordinate of the goal internally\n",
    "        II() # call the II() function"
   ]
  },
  {
   "cell_type": "markdown",
   "id": "9a80f8bf",
   "metadata": {},
   "source": [
    "### User interface: ###\n",
    "This cell will create the user interface that the user will use to control the behavior of the robot, in detail it will display three buttons, one for deleting the goal 'D', one for set a new goal 'N' and the relative text boxes with the title to insert the coordinates and one last button 'I' to recover the number of goal reached and deleted and display those information in two text boxes with the relative labels.\n",
    "More over this cell will call the 'graph_view()' function to display the world representation, display the above mentioned user interface and create the callback for the buttons and text boxes."
   ]
  },
  {
   "cell_type": "code",
   "execution_count": 9,
   "id": "852e71ea",
   "metadata": {
    "ExecuteTime": {
     "end_time": "2023-05-27T15:49:31.348240Z",
     "start_time": "2023-05-27T15:49:30.575764Z"
    }
   },
   "outputs": [
    {
     "data": {
      "application/vnd.jupyter.widget-view+json": {
       "model_id": "1e11052438d043c7806c8dc6a0ecb9b4",
       "version_major": 2,
       "version_minor": 0
      },
      "text/plain": [
       "HBox(children=(VBox(children=(Button(button_style='danger', description='Delete Goal', layout=Layout(height='1…"
      ]
     },
     "metadata": {},
     "output_type": "display_data"
    },
    {
     "data": {
      "application/vnd.jupyter.widget-view+json": {
       "model_id": "7a19fe102c4a495aa1be7976d243f32b",
       "version_major": 2,
       "version_minor": 0
      },
      "image/png": "[encoded data removed]",
      "text/html": [
       "\n",
       "            <div style=\"display: inline-block;\">\n",
       "                <div class=\"jupyter-widgets widget-label\" style=\"text-align: center;\">\n",
       "                    world representation\n",
       "                </div>\n",
       "                <img src='data:image/png;base64,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' width=640.0/>\n",
       "            </div>\n",
       "        "
      ],
      "text/plain": [
       "Canvas(toolbar=Toolbar(toolitems=[('Home', 'Reset original view', 'home', 'home'), ('Back', 'Back to previous …"
      ]
     },
     "metadata": {},
     "output_type": "display_data"
    }
   ],
   "source": [
    "# different layout:\n",
    "L1 = Layout(width = 'auto', height = '10%', min_width = '80px', min_height = '54px', max_width = '160px') \n",
    "L2 = Layout(width = 'auto', height = '5%', min_width = '40px', min_height = '20px', max_width = '80px')\n",
    "L3 = Layout(width = 'auto', height = '5%', min_width = '80px', min_height = '20px', max_width = '160px')\n",
    "\n",
    "# delete goal button:\n",
    "D = widgets.Button(value = False, description = 'Delete Goal', disabled = False, button_style = 'danger', layout = L1, continuous_update = False)\n",
    "\n",
    "# new goal button:\n",
    "N = widgets.Button(value = False, description = 'New Goal', disabled = False, button_style = 'success', layout = L1, continuous_update = False)\n",
    "\n",
    "# information button:\n",
    "I = widgets.Button(value = False, description = 'Information', disabled = False, button_style = 'info', layout = L1, continuous_update = False)\n",
    "\n",
    "\n",
    "# info box for the goal coordinates:\n",
    "# name:\n",
    "Gx_n = widgets.Text(value = 'x_goal', disabled = True, layout = L2)\n",
    "Gy_n = widgets.Text(value = 'y_goal', disabled = True, layout = L2)\n",
    "# data:\n",
    "Gx = widgets.FloatText(value = '0.00', disabled = True, layout = L2, continuous_update = False)\n",
    "Gy = widgets.FloatText(value = '0.00', disabled = True, layout = L2, continuous_update = False)\n",
    "# combination:\n",
    "Gx_c = VBox([Gx_n, Gx])\n",
    "Gy_c = VBox([Gy_n, Gy])\n",
    "Gxy = HBox([Gx_c, Gy_c])\n",
    "\n",
    "# info box for the goal reached and deleted:\n",
    "# name:\n",
    "Gr_n = widgets.Text(value = 'goal_r', disabled = True, layout = L2)\n",
    "Gd_n = widgets.Text(value = 'goal_d', disabled = True, layout = L2)\n",
    "# data:\n",
    "Gr = widgets.FloatText(value = '0.00', disabled = True, layout = L2, continuous_update = False)\n",
    "Gd = widgets.FloatText(value = '0.00', disabled = True, layout = L2, continuous_update = False)\n",
    "# combination:\n",
    "Gr_c = VBox([Gr_n, Gr])\n",
    "Gd_c = VBox([Gd_n, Gd])\n",
    "Grd = HBox([Gr_c, Gd_c])\n",
    "\n",
    "# combine everything\n",
    "UI = VBox([D, HBox([N, Gxy]), HBox([I, Grd])])\n",
    "\n",
    "# info box for the robot position:\n",
    "# name:\n",
    "Rp_n = widgets.Text(value = 'robot position', disabled = True, layout = L3)\n",
    "Rpx_n = widgets.Text(value = 'x_robot', disabled = True, layout = L2)\n",
    "Rpy_n = widgets.Text(value = 'y_robot', disabled = True, layout = L2)\n",
    "# data:\n",
    "Rpx = widgets.FloatText(value = '0.00', disabled = True, layout = L2, continuous_update = True)\n",
    "Rpy = widgets.FloatText(value = '0.00', disabled = True, layout = L2, continuous_update = True)\n",
    "# combination:\n",
    "Rpx_c = VBox([Rpx_n, Rpx])\n",
    "Rpy_c = VBox([Rpy_n, Rpy])\n",
    "Rpxy_c = HBox([Rpx_c, Rpy_c])\n",
    "Rpxy = VBox([Rp_n, Rpxy_c])\n",
    "\n",
    "# info box for the closer obstacle:\n",
    "# name:\n",
    "Co_n = widgets.Text(value = 'closer obstacle', disabled = True, layout = L3)\n",
    "Cod_n = widgets.Text(value = 'dist', disabled = True, layout = L2)\n",
    "Coa_n = widgets.Text(value = 'angle', disabled = True, layout = L2)\n",
    "# data:\n",
    "Cod = widgets.FloatText(value = '0.00', disabled = True, layout = L2, continuous_update = True)\n",
    "Coa = widgets.FloatText(value = '0.00', disabled = True, layout = L2, continuous_update = True)\n",
    "# combination:\n",
    "Cod_c = VBox([Cod_n, Cod])\n",
    "Coa_c = VBox([Coa_n, Coa])\n",
    "Coda_c = HBox([Cod_c, Coa_c])\n",
    "Coda = VBox([Co_n, Coda_c])\n",
    "\n",
    "# combine everything\n",
    "IM = VBox([Rpxy, Coda])\n",
    "\n",
    "# combine UI and IM and print:\n",
    "CUI = HBox([UI, IM])\n",
    "\n",
    "# plot\n",
    "graph_view()\n",
    "\n",
    "display(CUI)\n",
    "\n",
    "# callbacks:\n",
    "D.on_click(D_cb)\n",
    "N.on_click(N_cb)\n",
    "Gx.observe(NGx_cb, names = 'value')\n",
    "Gy.observe(NGy_cb, names = 'value')\n",
    "I.on_click(I_cb)"
   ]
  },
  {
   "cell_type": "markdown",
   "id": "51669c5b",
   "metadata": {},
   "source": [
    "### odom_cb function: ###\n",
    "This is the callback of the '/odom' subscriber, each time a new position of the robot is published this function will be called, in detail one time over ten it will write the position of the robot on the related text box, reset the counter and add the position of the robot in the array 'x', 'y', the array is limited to 30 position in such a way of optimizing the visualization, and plot them; done that in all the cases the function will increase the counter and check if the goal has been reached, and it's the first time the check respond with a true thanks to the flag 'gf', if it's the case it will get the number of reached goals from the ros parameter server, increase it and set it back. "
   ]
  },
  {
   "cell_type": "code",
   "execution_count": 10,
   "id": "515c9042",
   "metadata": {
    "ExecuteTime": {
     "end_time": "2023-05-27T15:49:31.385543Z",
     "start_time": "2023-05-27T15:49:31.353671Z"
    }
   },
   "outputs": [],
   "source": [
    "def odom_cb(msg):\n",
    "    global Rpx, Rpy, act_clnt, gf, x, y, i, ax, count_odom\n",
    "    \n",
    "    if (count_odom == 10): # once over ten times\n",
    "        # get position valeu and display them in the text window:\n",
    "        Rpx.value = round(msg.pose.pose.position.x, 2)\n",
    "        Rpy.value = round(msg.pose.pose.position.y, 2)\n",
    "        count_odom = -1\n",
    "    \n",
    "        # add the same data in the position stored:\n",
    "        if (len(x) < 30):\n",
    "            x.append(round(msg.pose.pose.position.x, 2))\n",
    "            y.append(round(msg.pose.pose.position.y, 2))\n",
    "        else:\n",
    "            x[i] = round(msg.pose.pose.position.x, 2)\n",
    "            y[i] = round(msg.pose.pose.position.y, 2)\n",
    "            i += 1\n",
    "            \n",
    "            if (i == 30):\n",
    "                i = 0\n",
    "        # plot:\n",
    "        np_x_plot = np.array(x)\n",
    "        np_y_plot = np.array(y)\n",
    "        ax.plot(np_x_plot, np_y_plot, '-', color = 'b')  \n",
    "    \n",
    "    count_odom += 1 \n",
    "    \n",
    "    if (act_clnt.get_state() == 3 and gf == 0): # if i've reached the goal\n",
    "        n_goal = rospy.get_param('n_goal') # get the actual number of goal\n",
    "        n_goal = n_goal + 1 # increase it\n",
    "        rospy.set_param('n_goal', n_goal) # load it in the paramserver\n",
    "        gf = 1\n",
    "    elif (act_clnt.get_state() != 3):\n",
    "        gf = 0    \n",
    "    "
   ]
  },
  {
   "cell_type": "markdown",
   "id": "f7d9809e",
   "metadata": {},
   "source": [
    "### scan_cb function: ###\n",
    "This is the callback of the '/scan' subscriber, each time a new scan detection is acquired this method will be called, in detail one time over fifty the distance to the closer obstacle and the angle to it will be displayed in the relative text box. (note the Lidar of the robot scan the space in front of the robot in 720 partitions, the formula used below move the result in degree between -90 and 90)"
   ]
  },
  {
   "cell_type": "code",
   "execution_count": 11,
   "id": "afd43544",
   "metadata": {
    "ExecuteTime": {
     "end_time": "2023-05-27T15:49:31.407975Z",
     "start_time": "2023-05-27T15:49:31.391415Z"
    }
   },
   "outputs": [],
   "source": [
    "def scan_cb(msg):\n",
    "    global count_scan\n",
    "    \n",
    "    if (count_scan == 50): # one time over fifty\n",
    "        Cod.value = round(min(msg.ranges), 2) # set the distance to the closer obstacle in the text box\n",
    "        Coa.value = ((msg.ranges.index(min(msg.ranges)) + 1) / 4) - 90 # set the angle to it\n",
    "        count_scan = -1 # reset the counter\n",
    "    \n",
    "    count_scan += 1 # increase the counter"
   ]
  },
  {
   "cell_type": "markdown",
   "id": "d4caf1ed",
   "metadata": {},
   "source": [
    "### Node cell: ###\n",
    "This cell will create the actual node, initially it will initialize it, then will create an action client and wait for its existence, done that the node will subscribe to the '/odom' topic, to get the position of the robot, and the 'scan' topic to get the Lidar data.\n",
    "Done that it will connect as service client to the service '/info' which will return the number of goal reached and deleted, wait for its existence and then initialize the parameters of the number of goals reached and deleted to zero."
   ]
  },
  {
   "cell_type": "code",
   "execution_count": 12,
   "id": "9a13ec16",
   "metadata": {
    "ExecuteTime": {
     "end_time": "2023-05-27T15:49:31.867279Z",
     "start_time": "2023-05-27T15:49:31.411922Z"
    }
   },
   "outputs": [],
   "source": [
    "rospy.init_node('user_interface', anonymous=True) # init the node\n",
    "act_clnt = actionlib.SimpleActionClient('/reaching_goal', assignment_2_2022.msg.PlanningAction) # connect to the action server\n",
    "act_clnt.wait_for_server() # wait for the action server existence\n",
    "sub_odom = jr.subscribe('/odom', Odometry, odom_cb) # subscribe to the /odom topic\n",
    "sud_scan = jr.subscribe('/scan',LaserScan, scan_cb) # subscribe to the /scan topic\n",
    "srv_info = rospy.ServiceProxy(\"/info\", Ngoal) # connect to the service server\n",
    "rospy.wait_for_service(\"/info\") # wait for the service server existance\n",
    "rospy.set_param('n_goal', 0) # init the param n_goal (reached)\n",
    "rospy.set_param('n_deleted', 0) # init the param n_deleted"
   ]
  },
  {
   "cell_type": "code",
   "execution_count": null,
   "id": "e98e0e51",
   "metadata": {},
   "outputs": [],
   "source": []
  }
 ],
 "metadata": {
  "kernelspec": {
   "display_name": "Python 3 (ipykernel)",
   "language": "python",
   "name": "python3"
  },
  "language_info": {
   "codemirror_mode": {
    "name": "ipython",
    "version": 3
   },
   "file_extension": ".py",
   "mimetype": "text/x-python",
   "name": "python",
   "nbconvert_exporter": "python",
   "pygments_lexer": "ipython3",
   "version": "3.8.10"
  },
  "toc": {
   "base_numbering": 1,
   "nav_menu": {},
   "number_sections": true,
   "sideBar": true,
   "skip_h1_title": false,
   "title_cell": "Table of Contents",
   "title_sidebar": "Contents",
   "toc_cell": false,
   "toc_position": {
    "height": "calc(100% - 180px)",
    "left": "10px",
    "top": "150px",
    "width": "165px"
   },
   "toc_section_display": true,
   "toc_window_display": false
  },
  "varInspector": {
   "cols": {
    "lenName": 16,
    "lenType": 16,
    "lenVar": 40
   },
   "kernels_config": {
    "python": {
     "delete_cmd_postfix": "",
     "delete_cmd_prefix": "del ",
     "library": "var_list.py",
     "varRefreshCmd": "print(var_dic_list())"
    },
    "r": {
     "delete_cmd_postfix": ") ",
     "delete_cmd_prefix": "rm(",
     "library": "var_list.r",
     "varRefreshCmd": "cat(var_dic_list()) "
    }
   },
   "position": {
    "height": "332.85px",
    "left": "554px",
    "right": "20px",
    "top": "120px",
    "width": "350px"
   },
   "types_to_exclude": [
    "module",
    "function",
    "builtin_function_or_method",
    "instance",
    "_Feature"
   ],
   "window_display": false
  }
 },
 "nbformat": 4,
 "nbformat_minor": 5
}

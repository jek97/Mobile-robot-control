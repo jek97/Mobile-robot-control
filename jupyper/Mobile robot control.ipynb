{
 "cells": [
  {
   "cell_type": "markdown",
   "id": "847bb782",
   "metadata": {},
   "source": [
    "# User interface Node #"
   ]
  },
  {
   "cell_type": "code",
   "execution_count": 1,
   "id": "a6c1f861",
   "metadata": {
    "ExecuteTime": {
     "end_time": "2023-05-22T13:18:52.223574Z",
     "start_time": "2023-05-22T13:18:50.275984Z"
    }
   },
   "outputs": [],
   "source": [
    "#! /usr/bin/env python3\n",
    "\n",
    "%matplotlib widget\n",
    "import rospy\n",
    "import time\n",
    "import sys\n",
    "import select\n",
    "import os   \n",
    "import threading\n",
    "import actionlib\n",
    "import actionlib.msg\n",
    "import assignment_2_2022.msg\n",
    "from nav_msgs.msg import Odometry\n",
    "from sensor_msgs.msg import LaserScan\n",
    "from assignment_2_2022.srv import Ngoal\n",
    "import ipywidgets as widgets\n",
    "from ipywidgets import VBox, HBox, Layout\n",
    "import logging\n",
    "from IPython.display import display\n",
    "import jupyros as jr\n",
    "import numpy as np\n",
    "import matplotlib.pyplot as plt\n",
    "#from jupyros.ros1 import ros3d\n",
    "\n",
    "act_clnt = None\n",
    "goal = assignment_2_2022.msg.PlanningGoal() \n",
    "goal.target_pose.pose.position.z = 0.0\n",
    "info = Ngoal()\n",
    "srv_info = None\n",
    "gf = 0 # goal flag to increase the number of goal only the first time the state pass to succeeded\n",
    "pr_goalx = []\n",
    "pr_goaly = []\n",
    "pr_goalf = []\n",
    "x = []\n",
    "y = []\n",
    "i = 0 # counter for fulfill the array of the position in odom_cb"
   ]
  },
  {
   "cell_type": "code",
   "execution_count": 2,
   "id": "94397943",
   "metadata": {
    "ExecuteTime": {
     "end_time": "2023-05-22T13:18:52.235629Z",
     "start_time": "2023-05-22T13:18:52.226405Z"
    }
   },
   "outputs": [],
   "source": [
    "def D_cb(b):\n",
    "    if ((act_clnt.get_state()) == 1):\n",
    "        act_clnt.cancel_goal() # delete the goal\n",
    "        n_deleted = rospy.get_param('n_deleted') # get the actual number of goal deleted\n",
    "        n_deleted = n_deleted + 1 # increase it\n",
    "        rospy.set_param('n_deleted', n_deleted) # load it in the paramserver\n",
    "        pr_goalf[len(pr_goalf) - 1] = True"
   ]
  },
  {
   "cell_type": "code",
   "execution_count": 3,
   "id": "1742a026",
   "metadata": {
    "ExecuteTime": {
     "end_time": "2023-05-22T13:18:52.348647Z",
     "start_time": "2023-05-22T13:18:52.241907Z"
    }
   },
   "outputs": [],
   "source": [
    "def N_cb(b):\n",
    "    if ((Gx.disabled == True) and (Gy.disabled == True)):\n",
    "        Gx.disabled = False\n",
    "        Gy.disabled = False     \n",
    "        N.disabled = True"
   ]
  },
  {
   "cell_type": "code",
   "execution_count": 4,
   "id": "c636fa2e",
   "metadata": {
    "ExecuteTime": {
     "end_time": "2023-05-22T13:18:52.362413Z",
     "start_time": "2023-05-22T13:18:52.351401Z"
    }
   },
   "outputs": [],
   "source": [
    "def I_cb(b):\n",
    "    info = srv_info()\n",
    "    Gr.value = info.n_goal\n",
    "    Gd.value = info.n_deleted"
   ]
  },
  {
   "cell_type": "code",
   "execution_count": 5,
   "id": "4072c0af",
   "metadata": {
    "ExecuteTime": {
     "end_time": "2023-05-22T13:18:52.383199Z",
     "start_time": "2023-05-22T13:18:52.365906Z"
    }
   },
   "outputs": [],
   "source": [
    "def II():\n",
    "    global L1, L2, L3\n",
    "        \n",
    "    # if it's the first time the function is called:\n",
    "    if (len(pr_goalx) == 1):\n",
    "        \n",
    "        # info box for the goal list:\n",
    "        # name:\n",
    "        Gl_n = widgets.Text(value = 'Goal list', disabled = True, layout = L3)\n",
    "        Glx_n = widgets.Text(value = 'x_goal', disabled = True, layout = L2)\n",
    "        Gly_n = widgets.Text(value = 'y_goal', disabled = True, layout = L2)\n",
    "        Glf_n = widgets.Text(value = 'deleted', disabled = True, layout = L2)\n",
    "        Gl1 = HBox([Glx_n, Gly_n, Glf_n])\n",
    "        Gl = VBox([Gl_n, Gl1])\n",
    "        # connect to the already done menu:\n",
    "        display(Gl)\n",
    "               \n",
    "    # data:\n",
    "    Glx = widgets.FloatText(value = pr_goalx[len(pr_goalx) - 1], disabled = True, layout = L2, continuous_update = True)\n",
    "    Gly = widgets.FloatText(value = pr_goaly[len(pr_goaly) - 1], disabled = True, layout = L2, continuous_update = True)\n",
    "    Glf = widgets.Valid(value = pr_goalf[len(pr_goalf) - 1], layout = L2, continuous_update = True)\n",
    "    \n",
    "    # combination:\n",
    "    Gl2 = HBox([Glx, Gly, Glf])\n",
    "    \n",
    "    # connect to the already done menu:\n",
    "    display(Gl2)\n",
    "    \n",
    "    # plot the goals\n",
    "    np_Gx_plot = np.array(pr_goalx)\n",
    "    np_Gy_plot = np.array(pr_goaly)\n",
    "    ax.plot(np_Gx_plot, np_Gy_plot)  "
   ]
  },
  {
   "cell_type": "code",
   "execution_count": 6,
   "id": "160f6114",
   "metadata": {
    "ExecuteTime": {
     "end_time": "2023-05-22T13:18:52.409707Z",
     "start_time": "2023-05-22T13:18:52.386410Z"
    }
   },
   "outputs": [],
   "source": [
    "def NGx_cb(value):   \n",
    "    Gx.disabled = True\n",
    "    goal.target_pose.pose.position.x = float(Gx.value)\n",
    "    if (Gy.disabled):\n",
    "        N.disabled = False\n",
    "        act_clnt.send_goal(goal)\n",
    "        pr_goalx.append(Gx.value)\n",
    "        pr_goaly.append(Gy.value)\n",
    "        pr_goalf.append(False)\n",
    "        II()"
   ]
  },
  {
   "cell_type": "code",
   "execution_count": 7,
   "id": "730f2a21",
   "metadata": {
    "ExecuteTime": {
     "end_time": "2023-05-22T13:18:52.423616Z",
     "start_time": "2023-05-22T13:18:52.412246Z"
    }
   },
   "outputs": [],
   "source": [
    "def NGy_cb(value):    \n",
    "    Gy.disabled = True\n",
    "    goal.target_pose.pose.position.y = float(Gy.value)\n",
    "    if (Gx.disabled):\n",
    "        N.disabled = False  \n",
    "        act_clnt.send_goal(goal)\n",
    "        pr_goalx.append(Gx.value)\n",
    "        pr_goaly.append(Gy.value)\n",
    "        pr_goalf.append(False)\n",
    "        II()"
   ]
  },
  {
   "cell_type": "code",
   "execution_count": 8,
   "id": "2bc9ad89",
   "metadata": {
    "ExecuteTime": {
     "end_time": "2023-05-22T13:18:52.438939Z",
     "start_time": "2023-05-22T13:18:52.427525Z"
    }
   },
   "outputs": [],
   "source": [
    "def grafic_interface():\n",
    "    global v\n",
    "    v = ros3d.Viewer()\n",
    "    rc = ros3d.ROSConnection(url = \"ws://localhost:9090\")\n",
    "    tf_client = ros3d.TFClient(ros = rc, fixed_frame = 'map')\n",
    "    \n",
    "    laser_view = ros3d.LaserScan(topic = \"/scan\", ros = rc, tf_client = tf_client)\n",
    "    urdf = ros3d.URDFModel(ros = rc, tf_client = tf_client)\n",
    "    g = ros3d.GridModel()\n",
    "    v.objects = [g, laser_view, urdf]\n",
    "    v"
   ]
  },
  {
   "cell_type": "code",
   "execution_count": 9,
   "id": "852e71ea",
   "metadata": {
    "ExecuteTime": {
     "end_time": "2023-05-22T13:18:52.656905Z",
     "start_time": "2023-05-22T13:18:52.446746Z"
    }
   },
   "outputs": [
    {
     "data": {
      "application/vnd.jupyter.widget-view+json": {
       "model_id": "57dcb6248b2249f8a3bddfc8c949f6b1",
       "version_major": 2,
       "version_minor": 0
      },
      "text/plain": [
       "HBox(children=(VBox(children=(Button(button_style='danger', description='Delete Goal', layout=Layout(height='1…"
      ]
     },
     "metadata": {},
     "output_type": "display_data"
    },
    {
     "data": {
      "application/vnd.jupyter.widget-view+json": {
       "model_id": "47f0327f0e7546faa73716bc0a027e6f",
       "version_major": 2,
       "version_minor": 0
      },
      "text/plain": [
       "VBox(children=(Text(value='Goal list', disabled=True, layout=Layout(height='5%', max_width='160px', min_height…"
      ]
     },
     "metadata": {},
     "output_type": "display_data"
    },
    {
     "data": {
      "application/vnd.jupyter.widget-view+json": {
       "model_id": "9e7466a600684ce3b8fbf9dc5ceda918",
       "version_major": 2,
       "version_minor": 0
      },
      "text/plain": [
       "HBox(children=(FloatText(value=2.0, continuous_update=True, disabled=True, layout=Layout(height='5%', max_widt…"
      ]
     },
     "metadata": {},
     "output_type": "display_data"
    },
    {
     "data": {
      "application/vnd.jupyter.widget-view+json": {
       "model_id": "92e3c319f6694a7c9c7c0bceaa2630b1",
       "version_major": 2,
       "version_minor": 0
      },
      "text/plain": [
       "HBox(children=(FloatText(value=4.0, continuous_update=True, disabled=True, layout=Layout(height='5%', max_widt…"
      ]
     },
     "metadata": {},
     "output_type": "display_data"
    }
   ],
   "source": [
    "# different layout:\n",
    "L1 = Layout(width = 'auto', height = '10%', min_width = '80px', min_height = '54px', max_width = '160px')\n",
    "L2 = Layout(width = 'auto', height = '5%', min_width = '40px', min_height = '20px', max_width = '80px')\n",
    "L3 = Layout(width = 'auto', height = '5%', min_width = '80px', min_height = '20px', max_width = '160px')\n",
    "\n",
    "# delete goal button:\n",
    "D = widgets.Button(value = False, description = 'Delete Goal', disabled = False, button_style = 'danger', layout = L1, continuous_update = False)\n",
    "\n",
    "# new goal button:\n",
    "N = widgets.Button(value = False, description = 'New Goal', disabled = False, button_style = 'success', layout = L1, continuous_update = False)\n",
    "\n",
    "# information button:\n",
    "I = widgets.Button(value = False, description = 'Information', disabled = False, button_style = 'info', layout = L1, continuous_update = False)\n",
    "\n",
    "\n",
    "# info box for the goal coordinates:\n",
    "# name:\n",
    "Gx_n = widgets.Text(value = 'x_goal', disabled = True, layout = L2)\n",
    "Gy_n = widgets.Text(value = 'y_goal', disabled = True, layout = L2)\n",
    "# data:\n",
    "Gx = widgets.FloatText(value = '0.00', disabled = True, layout = L2, continuous_update = False)\n",
    "Gy = widgets.FloatText(value = '0.00', disabled = True, layout = L2, continuous_update = False)\n",
    "# combination:\n",
    "Gx_c = VBox([Gx_n, Gx])\n",
    "Gy_c = VBox([Gy_n, Gy])\n",
    "Gxy = HBox([Gx_c, Gy_c])\n",
    "\n",
    "# info box for the goal reached and deleted:\n",
    "# name:\n",
    "Gr_n = widgets.Text(value = 'goal_r', disabled = True, layout = L2)\n",
    "Gd_n = widgets.Text(value = 'goal_d', disabled = True, layout = L2)\n",
    "# data:\n",
    "Gr = widgets.FloatText(value = '0.00', disabled = True, layout = L2, continuous_update = False)\n",
    "Gd = widgets.FloatText(value = '0.00', disabled = True, layout = L2, continuous_update = False)\n",
    "# combination:\n",
    "Gr_c = VBox([Gr_n, Gr])\n",
    "Gd_c = VBox([Gd_n, Gd])\n",
    "Grd = HBox([Gr_c, Gd_c])\n",
    "\n",
    "# combine everything\n",
    "UI = VBox([D, HBox([N, Gxy]), HBox([I, Grd])])\n",
    "\n",
    "\n",
    "# second menu with robot position, closer obstacles, goal list:\n",
    "out = widgets.Output(layout={'border': '1px solid black'})\n",
    "\n",
    "# info box for the robot position:\n",
    "# name:\n",
    "Rp_n = widgets.Text(value = 'robot position', disabled = True, layout = L3)\n",
    "Rpx_n = widgets.Text(value = 'x_robot', disabled = True, layout = L2)\n",
    "Rpy_n = widgets.Text(value = 'y_robot', disabled = True, layout = L2)\n",
    "# data:\n",
    "Rpx = widgets.FloatText(value = '0.00', disabled = True, layout = L2, continuous_update = True)\n",
    "Rpy = widgets.FloatText(value = '0.00', disabled = True, layout = L2, continuous_update = True)\n",
    "# combination:\n",
    "Rpx_c = VBox([Rpx_n, Rpx])\n",
    "Rpy_c = VBox([Rpy_n, Rpy])\n",
    "Rpxy_c = HBox([Rpx_c, Rpy_c])\n",
    "Rpxy = VBox([Rp_n, Rpxy_c])\n",
    "\n",
    "# info box for the closer obstacle:\n",
    "# name:\n",
    "Co_n = widgets.Text(value = 'closer obstacle', disabled = True, layout = L3)\n",
    "Cod_n = widgets.Text(value = 'dist', disabled = True, layout = L2)\n",
    "Coa_n = widgets.Text(value = 'angle', disabled = True, layout = L2)\n",
    "# data:\n",
    "Cod = widgets.FloatText(value = '0.00', disabled = True, layout = L2, continuous_update = True)\n",
    "Coa = widgets.FloatText(value = '0.00', disabled = True, layout = L2, continuous_update = True)\n",
    "# combination:\n",
    "Cod_c = VBox([Cod_n, Cod])\n",
    "Coa_c = VBox([Coa_n, Coa])\n",
    "Coda_c = HBox([Cod_c, Coa_c])\n",
    "Coda = VBox([Co_n, Coda_c])\n",
    "\n",
    "# combine everything\n",
    "IM = VBox([Rpxy, Coda])\n",
    "\n",
    "# combine UI and IM and print:\n",
    "CUI = HBox([UI, IM])\n",
    "\n",
    "# plot\n",
    "graph_view()\n",
    "display(CUI)\n",
    "\n",
    "# callbacks:\n",
    "D.on_click(D_cb)\n",
    "N.on_click(N_cb)\n",
    "Gx.observe(NGx_cb, names = 'value')\n",
    "Gy.observe(NGy_cb, names = 'value')\n",
    "I.on_click(I_cb)"
   ]
  },
  {
   "cell_type": "code",
   "execution_count": 10,
   "id": "515c9042",
   "metadata": {
    "ExecuteTime": {
     "end_time": "2023-05-22T13:18:52.688122Z",
     "start_time": "2023-05-22T13:18:52.671719Z"
    }
   },
   "outputs": [],
   "source": [
    "def odom_cb(msg):\n",
    "    global Rpx, Rpy, act_clnt, gf, x, y, i\n",
    "    \n",
    "    # get position valeu and display them in the text window:\n",
    "    Rpx.value = msg.pose.pose.position.x\n",
    "    Rpy.value = msg.pose.pose.position.y\n",
    "    \n",
    "    # add the same data in the position stored:\n",
    "    if (len(x) < 30):\n",
    "        x.append(msg.pose.pose.position.x)\n",
    "        y.append(msg.pose.pose.position.y)\n",
    "    else:\n",
    "        x[i] = msg.pose.pose.position.x\n",
    "        y[i] = msg.pose.pose.position.y\n",
    "        i += i\n",
    "    \n",
    "    # plot:\n",
    "    np_x_plot = np.array(x)\n",
    "    np_y_plot = np.array(y)\n",
    "    ax.plot(np_x_plot, np_y_plot)    \n",
    "    \n",
    "    \n",
    "    if (act_clnt.get_state() == 3 and gf == 0): # if i've reached the goal\n",
    "        n_goal = rospy.get_param('n_goal') # get the actual number of goal\n",
    "        n_goal = n_goal + 1 # increase it\n",
    "        rospy.set_param('n_goal', n_goal) # load it in the paramserver\n",
    "        gf = 1\n",
    "    elif (act_clnt.get_state() != 3):\n",
    "        gf = 0    \n",
    "    "
   ]
  },
  {
   "cell_type": "code",
   "execution_count": 11,
   "id": "afd43544",
   "metadata": {
    "ExecuteTime": {
     "end_time": "2023-05-22T13:18:52.697534Z",
     "start_time": "2023-05-22T13:18:52.691826Z"
    }
   },
   "outputs": [],
   "source": [
    "def scan_cb(msg):\n",
    "    Cod.value = min(min(msg.ranges[0:719]), 10)\n",
    "    Coa.value = (msg.ranges.index(min(min(msg.ranges[0:719]), 10)) + 1)"
   ]
  },
  {
   "cell_type": "code",
   "execution_count": 12,
   "id": "9a13ec16",
   "metadata": {
    "ExecuteTime": {
     "end_time": "2023-05-22T13:18:53.155392Z",
     "start_time": "2023-05-22T13:18:52.708504Z"
    }
   },
   "outputs": [],
   "source": [
    "rospy.init_node('user_interface', anonymous=True) # init the node\n",
    "act_clnt = actionlib.SimpleActionClient('/reaching_goal', assignment_2_2022.msg.PlanningAction)\n",
    "act_clnt.wait_for_server()\n",
    "sub_odom = jr.subscribe('/odom', Odometry, odom_cb)\n",
    "sud_scan = jr.subscribe('/scan',LaserScan, scan_cb )\n",
    "srv_info = rospy.ServiceProxy(\"/info\", Ngoal)\n",
    "rospy.wait_for_service(\"/info\")\n",
    "rospy.set_param('n_goal', 0)\n",
    "rospy.set_param('n_deleted', 0)    "
   ]
  },
  {
   "cell_type": "code",
   "execution_count": 13,
   "id": "2ae14b97",
   "metadata": {
    "ExecuteTime": {
     "end_time": "2023-05-22T13:22:46.739475Z",
     "start_time": "2023-05-22T13:22:46.735261Z"
    }
   },
   "outputs": [
    {
     "ename": "SyntaxError",
     "evalue": "unexpected EOF while parsing (1129930226.py, line 1)",
     "output_type": "error",
     "traceback": [
      "\u001b[0;36m  Cell \u001b[0;32mIn[13], line 1\u001b[0;36m\u001b[0m\n\u001b[0;31m    def graph_view():\u001b[0m\n\u001b[0m                     ^\u001b[0m\n\u001b[0;31mSyntaxError\u001b[0m\u001b[0;31m:\u001b[0m unexpected EOF while parsing\n"
     ]
    }
   ],
   "source": [
    "def graph_view():\n",
    "    np_x_plot = np.array(x)\n",
    "    np_y_plot = np.array(y)\n",
    "    fig = plt.figure()\n",
    "    ax = fig.add_axes([0, 0, 1, 1])\n",
    "    line = ax.plot([], [], 'ro')\n",
    "    ax.set_xlim((-10, 10))\n",
    "    ax.set_ylim((-10, 10))\n",
    "    ax.set_title(\"world rappresentation\")\n",
    "    ax.set_xlable(\"x\")\n",
    "    ax.set_ylabel(\"y\")\n",
    "    np_x_plot = np.array(x)\n",
    "    np_y_plot = np.array(y)\n",
    "    ax.plot(np_x_plot, np_y_plot)"
   ]
  },
  {
   "cell_type": "code",
   "execution_count": null,
   "id": "7a52d643",
   "metadata": {},
   "outputs": [],
   "source": []
  }
 ],
 "metadata": {
  "kernelspec": {
   "display_name": "Python 3 (ipykernel)",
   "language": "python",
   "name": "python3"
  },
  "language_info": {
   "codemirror_mode": {
    "name": "ipython",
    "version": 3
   },
   "file_extension": ".py",
   "mimetype": "text/x-python",
   "name": "python",
   "nbconvert_exporter": "python",
   "pygments_lexer": "ipython3",
   "version": "3.8.10"
  },
  "toc": {
   "base_numbering": 1,
   "nav_menu": {},
   "number_sections": true,
   "sideBar": true,
   "skip_h1_title": false,
   "title_cell": "Table of Contents",
   "title_sidebar": "Contents",
   "toc_cell": false,
   "toc_position": {
    "height": "calc(100% - 180px)",
    "left": "10px",
    "top": "150px",
    "width": "165px"
   },
   "toc_section_display": true,
   "toc_window_display": false
  },
  "varInspector": {
   "cols": {
    "lenName": 16,
    "lenType": 16,
    "lenVar": 40
   },
   "kernels_config": {
    "python": {
     "delete_cmd_postfix": "",
     "delete_cmd_prefix": "del ",
     "library": "var_list.py",
     "varRefreshCmd": "print(var_dic_list())"
    },
    "r": {
     "delete_cmd_postfix": ") ",
     "delete_cmd_prefix": "rm(",
     "library": "var_list.r",
     "varRefreshCmd": "cat(var_dic_list()) "
    }
   },
   "position": {
    "height": "332.85px",
    "left": "554px",
    "right": "20px",
    "top": "120px",
    "width": "350px"
   },
   "types_to_exclude": [
    "module",
    "function",
    "builtin_function_or_method",
    "instance",
    "_Feature"
   ],
   "window_display": false
  }
 },
 "nbformat": 4,
 "nbformat_minor": 5
}

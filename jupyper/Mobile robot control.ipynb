{
 "cells": [
  {
   "cell_type": "markdown",
   "id": "847bb782",
   "metadata": {},
   "source": [
    "# User interface Node #"
   ]
  },
  {
   "cell_type": "code",
   "execution_count": 1,
   "id": "a6c1f861",
   "metadata": {
    "ExecuteTime": {
     "end_time": "2023-05-21T15:35:29.120113Z",
     "start_time": "2023-05-21T15:35:27.416223Z"
    }
   },
   "outputs": [],
   "source": [
    "#! /usr/bin/env python3\n",
    "\n",
    "import rospy\n",
    "import time\n",
    "import sys\n",
    "import select\n",
    "import os   \n",
    "import threading\n",
    "import actionlib\n",
    "import actionlib.msg\n",
    "import assignment_2_2022.msg\n",
    "from nav_msgs.msg import Odometry\n",
    "from assignment_2_2022.srv import Ngoal\n",
    "import ipywidgets as widgets\n",
    "from ipywidgets import VBox, HBox, Layout\n",
    "import logging\n",
    "from IPython.display import display\n",
    "import jupyros as jr\n",
    "#from jupyros import ros3d\n",
    "\n",
    "act_clnt = None\n",
    "goal = assignment_2_2022.msg.PlanningGoal() \n",
    "goal.target_pose.pose.position.z = 0.0\n",
    "info = Ngoal()\n",
    "srv_info = None\n",
    "RI = None\n",
    "Rpxy = None\n",
    "gf = 0 # goal flag to increase the number of goal only the first time the state pass to succeeded\n",
    "pr_goalx = []\n",
    "pr_goaly = []\n",
    "pr_goalf = []\n",
    "Glx = []\n",
    "Gly = []\n",
    "Glf = []"
   ]
  },
  {
   "cell_type": "code",
   "execution_count": 2,
   "id": "94397943",
   "metadata": {
    "ExecuteTime": {
     "end_time": "2023-05-21T15:35:29.146508Z",
     "start_time": "2023-05-21T15:35:29.140250Z"
    }
   },
   "outputs": [],
   "source": [
    "def D_cb(b):\n",
    "    if ((act_clnt.get_state()) == 1):\n",
    "        act_clnt.cancel_goal() # delete the goal\n",
    "        n_deleted = rospy.get_param('n_deleted') # get the actual number of goal deleted\n",
    "        n_deleted = n_deleted + 1 # increase it\n",
    "        rospy.set_param('n_deleted', n_deleted) # load it in the paramserver\n",
    "        pr_goalf[len(pr_goalf) - 1] = True"
   ]
  },
  {
   "cell_type": "code",
   "execution_count": 3,
   "id": "1742a026",
   "metadata": {
    "ExecuteTime": {
     "end_time": "2023-05-21T15:35:29.239731Z",
     "start_time": "2023-05-21T15:35:29.150051Z"
    }
   },
   "outputs": [],
   "source": [
    "def N_cb(b):\n",
    "    if ((Gx.disabled == True) and (Gy.disabled == True)):\n",
    "        Gx.disabled = False\n",
    "        Gy.disabled = False     \n",
    "        N.disabled = True"
   ]
  },
  {
   "cell_type": "code",
   "execution_count": 4,
   "id": "c636fa2e",
   "metadata": {
    "ExecuteTime": {
     "end_time": "2023-05-21T15:35:29.250590Z",
     "start_time": "2023-05-21T15:35:29.245515Z"
    }
   },
   "outputs": [],
   "source": [
    "def I_cb(b):\n",
    "    info = srv_info()\n",
    "    Gr.value = info.n_goal\n",
    "    Gd.value = info.n_deleted"
   ]
  },
  {
   "cell_type": "code",
   "execution_count": 5,
   "id": "4072c0af",
   "metadata": {
    "ExecuteTime": {
     "end_time": "2023-05-21T15:35:29.278752Z",
     "start_time": "2023-05-21T15:35:29.253771Z"
    }
   },
   "outputs": [],
   "source": [
    "def II():\n",
    "    global RI, Rpxy\n",
    "    \n",
    "    # info box for the goal list:\n",
    "    # name:\n",
    "    Glx_n = widgets.Text(value = 'x_goal', disabled = True, layout = L2)\n",
    "    Gly_n = widgets.Text(value = 'y_goal', disabled = True, layout = L2)\n",
    "    Glf_n = widgets.Text(value = 'deleted', disabled = True, layout = L2)\n",
    "    \n",
    "    # data:\n",
    "    Glx = []\n",
    "    Gly = []\n",
    "    Glf = []\n",
    "    print(min(len(pr_goalx), len(pr_goaly), len(pr_goalf)))\n",
    "    for i in range(min(len(pr_goalx), len(pr_goaly), len(pr_goalf))):\n",
    "        print(i)\n",
    "        Glx.append(widgets.FloatText(value = pr_goalx[i], disabled = True, layout = L2, continuous_update = True))\n",
    "        Gly.append(widgets.FloatText(value = pr_goaly[i], disabled = True, layout = L2, continuous_update = True))\n",
    "        Glf.append(widgets.Valid(value = pr_goalf[i], description = 'del', layout = L2, continuous_update = True))\n",
    "        \n",
    "        # combination:\n",
    "        if i == 0:\n",
    "            Glx_c = VBox([Glx_n, Glx[i]])\n",
    "            Gly_c = VBox([Gly_n, Gly[i]])\n",
    "            Glf_c = VBox([Glf_n, Glf[i]])\n",
    "            Glxyf = HBox([Glx_c, Gly_c, Glf_c])\n",
    "        else:\n",
    "            Glx_c = VBox([Glx_c, Glx[i]])\n",
    "            Gly_c = VBox([Gly_c, Gly[i]])\n",
    "            Glf_c = VBox([Glf_c, Glf[i]])\n",
    "            Glxyf = HBox([Glx_c, Gly_c, Glf_c])\n",
    "\n",
    "    # combination \n",
    "    try:\n",
    "        RI = VBox([Rpxy, Glxyf])\n",
    "    except:\n",
    "        RI = Rpxy\n"
   ]
  },
  {
   "cell_type": "code",
   "execution_count": 6,
   "id": "160f6114",
   "metadata": {
    "ExecuteTime": {
     "end_time": "2023-05-21T15:35:29.292924Z",
     "start_time": "2023-05-21T15:35:29.283822Z"
    }
   },
   "outputs": [],
   "source": [
    "def NGx_cb(value):   \n",
    "    Gx.disabled = True\n",
    "    goal.target_pose.pose.position.x = float(Gx.value)\n",
    "    if (Gy.disabled):\n",
    "        N.disabled = False\n",
    "        act_clnt.send_goal(goal)\n",
    "        pr_goalx.append(Gx.value)\n",
    "        pr_goaly.append(Gy.value)\n",
    "        pr_goalf.append(False)\n",
    "        II()"
   ]
  },
  {
   "cell_type": "code",
   "execution_count": 7,
   "id": "730f2a21",
   "metadata": {
    "ExecuteTime": {
     "end_time": "2023-05-21T15:35:29.303434Z",
     "start_time": "2023-05-21T15:35:29.296134Z"
    }
   },
   "outputs": [],
   "source": [
    "def NGy_cb(value):    \n",
    "    Gy.disabled = True\n",
    "    goal.target_pose.pose.position.y = float(Gy.value)\n",
    "    if (Gx.disabled):\n",
    "        N.disabled = False  \n",
    "        act_clnt.send_goal(goal)\n",
    "        pr_goalx.append(Gx.value)\n",
    "        pr_goaly.append(Gy.value)\n",
    "        pr_goalf.append(False)\n",
    "        II()"
   ]
  },
  {
   "cell_type": "code",
   "execution_count": 8,
   "id": "852e71ea",
   "metadata": {
    "ExecuteTime": {
     "end_time": "2023-05-21T15:35:29.490534Z",
     "start_time": "2023-05-21T15:35:29.307868Z"
    }
   },
   "outputs": [
    {
     "name": "stdout",
     "output_type": "stream",
     "text": [
      "0\n"
     ]
    },
    {
     "data": {
      "application/vnd.jupyter.widget-view+json": {
       "model_id": "d13659167c054befaae22a4c61388dd6",
       "version_major": 2,
       "version_minor": 0
      },
      "text/plain": [
       "HBox(children=(VBox(children=(Text(value='x_robot', disabled=True, layout=Layout(height='5%', max_width='80px'…"
      ]
     },
     "metadata": {},
     "output_type": "display_data"
    },
    {
     "data": {
      "application/vnd.jupyter.widget-view+json": {
       "model_id": "4a08364dc20a4cebbdc8021f063b4b40",
       "version_major": 2,
       "version_minor": 0
      },
      "text/plain": [
       "VBox(children=(Button(button_style='danger', description='Delete Goal', layout=Layout(height='10%', max_width=…"
      ]
     },
     "metadata": {},
     "output_type": "display_data"
    },
    {
     "name": "stdout",
     "output_type": "stream",
     "text": [
      "1\n",
      "0\n"
     ]
    }
   ],
   "source": [
    "# different layout:\n",
    "L1 = Layout(width = 'auto', height = '10%', min_width = '80px', min_height = '54px', max_width = '160px')\n",
    "L2 = Layout(width = 'auto', height = '5%', min_width = '40px', min_height = '20px', max_width = '80px')\n",
    "\n",
    "# delete goal button:\n",
    "D = widgets.Button(value = False, description = 'Delete Goal', disabled = False, button_style = 'danger', layout = L1, continuous_update = False)\n",
    "\n",
    "# new goal button:\n",
    "N = widgets.Button(value = False, description = 'New Goal', disabled = False, button_style = 'success', layout = L1, continuous_update = False)\n",
    "\n",
    "# information button:\n",
    "I = widgets.Button(value = False, description = 'Information', disabled = False, button_style = 'info', layout = L1, continuous_update = False)\n",
    "\n",
    "# info box for the goal coordinates:\n",
    "# name:\n",
    "Gx_n = widgets.Text(value = 'x_goal', disabled = True, layout = L2)\n",
    "Gy_n = widgets.Text(value = 'y_goal', disabled = True, layout = L2)\n",
    "# data:\n",
    "Gx = widgets.FloatText(value = '0.00', disabled = True, layout = L2, continuous_update = False)\n",
    "Gy = widgets.FloatText(value = '0.00', disabled = True, layout = L2, continuous_update = False)\n",
    "# combination:\n",
    "Gx_c = VBox([Gx_n, Gx])\n",
    "Gy_c = VBox([Gy_n, Gy])\n",
    "Gxy = HBox([Gx_c, Gy_c])\n",
    "\n",
    "# info box for the goal reached and deleted: FloatText\n",
    "# name:\n",
    "Gr_n = widgets.Text(value = 'goal_r', disabled = True, layout = L2)\n",
    "Gd_n = widgets.Text(value = 'goal_d', disabled = True, layout = L2)\n",
    "# data:\n",
    "Gr = widgets.FloatText(value = '0.00', disabled = True, layout = L2, continuous_update = False)\n",
    "Gd = widgets.FloatText(value = '0.00', disabled = True, layout = L2, continuous_update = False)\n",
    "# combination:\n",
    "Gr_c = VBox([Gr_n, Gr])\n",
    "Gd_c = VBox([Gd_n, Gd])\n",
    "Grd = HBox([Gr_c, Gd_c])\n",
    "\n",
    "# combine everything\n",
    "UI = VBox([D, HBox([N, Gxy]), HBox([I, Grd])])\n",
    "\n",
    "# info box for the robot position:\n",
    "# name:\n",
    "Rpx_n = widgets.Text(value = 'x_robot', disabled = True, layout = L2)\n",
    "Rpy_n = widgets.Text(value = 'y_robot', disabled = True, layout = L2)\n",
    "# data:\n",
    "Rpx = widgets.FloatText(value = '0.00', disabled = True, layout = L2, continuous_update = True)\n",
    "Rpy = widgets.FloatText(value = '0.00', disabled = True, layout = L2, continuous_update = True)\n",
    "# combination:\n",
    "Rpx_c = VBox([Rpx_n, Rpx])\n",
    "Rpy_c = VBox([Rpy_n, Rpy])\n",
    "Rpxy = HBox([Rpx_c, Rpy_c])\n",
    "\n",
    "# info box for the minimum distance obstacle:\n",
    "# name:\n",
    "#Rpx_n = widgets.Text(value = 'x_robot', disabled = True, layout = L2)\n",
    "#Rpy_n = widgets.Text(value = 'y_robot', disabled = True, layout = L2)\n",
    "# data:\n",
    "#Rpx = widgets.FloatText(value = '0.00', disabled = True, layout = L2, continuous_update = True)\n",
    "#Rpy = widgets.FloatText(value = '0.00', disabled = True, layout = L2, continuous_update = True)\n",
    "# combination:\n",
    "#Rpx_c = VBox([Rpx_n, Rpx])\n",
    "#Rpy_c = VBox([Rpy_n, Rpy])\n",
    "#Rpxy = HBox([Rpx_c, Rpy_c])\n",
    "\n",
    "II()\n",
    "\n",
    "# callbacks:\n",
    "D.on_click(D_cb)\n",
    "N.on_click(N_cb)\n",
    "Gx.observe(NGx_cb, names = 'value')\n",
    "Gy.observe(NGy_cb, names = 'value')\n",
    "I.on_click(I_cb)\n",
    "\n",
    "display(RI)\n",
    "display(UI)\n",
    "\n"
   ]
  },
  {
   "cell_type": "code",
   "execution_count": 9,
   "id": "515c9042",
   "metadata": {
    "ExecuteTime": {
     "end_time": "2023-05-21T15:35:29.508825Z",
     "start_time": "2023-05-21T15:35:29.497740Z"
    }
   },
   "outputs": [],
   "source": [
    "def odom_cb(msg):\n",
    "    global Rpx, Rpy, act_clnt, gf\n",
    "    Rpx.value = msg.pose.pose.position.x\n",
    "    Rpy.value = msg.pose.pose.position.y\n",
    "    \n",
    "    if (act_clnt.get_state() == 3 and gf == 0): # if i've reached the goal\n",
    "        n_goal = rospy.get_param('n_goal') # get the actual number of goal\n",
    "        n_goal = n_goal + 1 # increase it\n",
    "        rospy.set_param('n_goal', n_goal) # load it in the paramserver\n",
    "        gf = 1\n",
    "    elif (act_clnt.get_state() != 3):\n",
    "        gf = 0    \n",
    "    "
   ]
  },
  {
   "cell_type": "code",
   "execution_count": 10,
   "id": "9a13ec16",
   "metadata": {
    "ExecuteTime": {
     "end_time": "2023-05-21T15:35:29.910774Z",
     "start_time": "2023-05-21T15:35:29.518482Z"
    }
   },
   "outputs": [],
   "source": [
    "rospy.init_node('user_interface', anonymous=True) # init the node\n",
    "act_clnt = actionlib.SimpleActionClient('/reaching_goal', assignment_2_2022.msg.PlanningAction)\n",
    "act_clnt.wait_for_server()\n",
    "sub_odom = jr.subscribe('/odom', Odometry, odom_cb)\n",
    "srv_info = rospy.ServiceProxy(\"/info\", Ngoal)\n",
    "rospy.wait_for_service(\"/info\")\n",
    "rospy.set_param('n_goal', 0)\n",
    "rospy.set_param('n_deleted', 0)    "
   ]
  },
  {
   "cell_type": "code",
   "execution_count": 11,
   "id": "2bc9ad89",
   "metadata": {
    "ExecuteTime": {
     "end_time": "2023-05-21T15:35:29.941293Z",
     "start_time": "2023-05-21T15:35:29.931541Z"
    }
   },
   "outputs": [],
   "source": [
    "def grafic_interface():\n",
    "    v = ros3d.Viewer()\n",
    "    rc = ros3d.ROSConnection(url = \"ws://localhost:9090\")\n",
    "    tf_client = ros3d.TFClient(ros = rc, fixed_frame = 'map')\n",
    "    \n",
    "    laser_view = ros3d.LaserScan(topic = \"/scan\", ros = rc, tf_client = tf_client)\n",
    "    urdf = ros3d.URDFModel(ros = rc, tf_client = tf_client)\n",
    "    g = ros3d.GridModel()\n",
    "    v.objects = [g, laser_view, urdf]\n",
    "    \n",
    "    display(v)"
   ]
  },
  {
   "cell_type": "code",
   "execution_count": null,
   "id": "2ae14b97",
   "metadata": {},
   "outputs": [],
   "source": []
  },
  {
   "cell_type": "code",
   "execution_count": null,
   "id": "7a52d643",
   "metadata": {},
   "outputs": [],
   "source": []
  }
 ],
 "metadata": {
  "kernelspec": {
   "display_name": "Python 3 (ipykernel)",
   "language": "python",
   "name": "python3"
  },
  "language_info": {
   "codemirror_mode": {
    "name": "ipython",
    "version": 3
   },
   "file_extension": ".py",
   "mimetype": "text/x-python",
   "name": "python",
   "nbconvert_exporter": "python",
   "pygments_lexer": "ipython3",
   "version": "3.8.10"
  },
  "toc": {
   "base_numbering": 1,
   "nav_menu": {},
   "number_sections": true,
   "sideBar": true,
   "skip_h1_title": false,
   "title_cell": "Table of Contents",
   "title_sidebar": "Contents",
   "toc_cell": false,
   "toc_position": {
    "height": "calc(100% - 180px)",
    "left": "10px",
    "top": "150px",
    "width": "165px"
   },
   "toc_section_display": true,
   "toc_window_display": false
  },
  "varInspector": {
   "cols": {
    "lenName": 16,
    "lenType": 16,
    "lenVar": 40
   },
   "kernels_config": {
    "python": {
     "delete_cmd_postfix": "",
     "delete_cmd_prefix": "del ",
     "library": "var_list.py",
     "varRefreshCmd": "print(var_dic_list())"
    },
    "r": {
     "delete_cmd_postfix": ") ",
     "delete_cmd_prefix": "rm(",
     "library": "var_list.r",
     "varRefreshCmd": "cat(var_dic_list()) "
    }
   },
   "position": {
    "height": "332.85px",
    "left": "554px",
    "right": "20px",
    "top": "120px",
    "width": "350px"
   },
   "types_to_exclude": [
    "module",
    "function",
    "builtin_function_or_method",
    "instance",
    "_Feature"
   ],
   "window_display": false
  }
 },
 "nbformat": 4,
 "nbformat_minor": 5
}

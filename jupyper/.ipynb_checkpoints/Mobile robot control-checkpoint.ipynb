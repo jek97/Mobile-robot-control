{
 "cells": [
  {
   "cell_type": "markdown",
   "id": "847bb782",
   "metadata": {},
   "source": [
    "# User interface Node #\n",
    "This node will create a user interface for the Bug0 robot, in it the user will be able to set a new goal, delete the current one or get infromations about the number of goal reached or deleted."
   ]
  },
  {
   "cell_type": "markdown",
   "id": "0e9163b3",
   "metadata": {},
   "source": [
    "### Libraries and global variables ###\n",
    "In this first cell a series of libraries needed for the User interface are imported and the global variables are istantiated."
   ]
  },
  {
   "cell_type": "code",
   "execution_count": 1,
   "id": "a6c1f861",
   "metadata": {
    "ExecuteTime": {
     "end_time": "2023-05-22T15:40:23.049989Z",
     "start_time": "2023-05-22T15:40:20.355841Z"
    }
   },
   "outputs": [],
   "source": [
    "#! /usr/bin/env python3\n",
    "\n",
    "%matplotlib widget\n",
    "import rospy\n",
    "import time\n",
    "import sys\n",
    "import select\n",
    "import os\n",
    "import actionlib\n",
    "import actionlib.msg\n",
    "import assignment_2_2022.msg\n",
    "from nav_msgs.msg import Odometry\n",
    "from sensor_msgs.msg import LaserScan\n",
    "from assignment_2_2022.srv import Ngoal\n",
    "import ipywidgets as widgets\n",
    "from ipywidgets import VBox, HBox, Layout\n",
    "import logging\n",
    "from IPython.display import display\n",
    "import jupyros as jr\n",
    "import numpy as np\n",
    "import matplotlib.pyplot as plt\n",
    "\n",
    "act_clnt = None # istantiate the action client \n",
    "goal = assignment_2_2022.msg.PlanningGoal() # istantiate the goal message to send \n",
    "goal.target_pose.pose.position.z = 0.0 # set its third component equal to 0\n",
    "info = Ngoal() # istantiate the info request for the service (number of goal reached and deleted)\n",
    "srv_info = None # istantiate the responce\n",
    "gf = 0 # goal flag to increase the number of goal only the first time the state pass to succeeded\n",
    "pr_goalx = [] # array to store the x position of the goal\n",
    "pr_goaly = [] # array to store the y position of the goal\n",
    "pr_goalf = [] # array to store the status of the goal (deleted or not)\n",
    "x = [] # array to store the last 30 x position of the robot\n",
    "y = [] # array to store the last 30 y position of the robot\n",
    "i = 0 # counter for fulfill the array of the position in odom_cb\n",
    "ax = None # istantiate the graph (robot)\n",
    "bx = None # istantiate the graph (goal)"
   ]
  },
  {
   "cell_type": "code",
   "execution_count": 2,
   "id": "2ae14b97",
   "metadata": {
    "ExecuteTime": {
     "end_time": "2023-05-22T15:40:23.066711Z",
     "start_time": "2023-05-22T15:40:23.052855Z"
    }
   },
   "outputs": [],
   "source": [
    "def graph_view():\n",
    "    global ax\n",
    "    \n",
    "    np_x_plot = np.array(x)\n",
    "    np_y_plot = np.array(y)\n",
    "    fig = plt.figure()\n",
    "    ax = fig.add_axes([0, 0, 1, 1])\n",
    "    ax.set_xlim((-10, 10))\n",
    "    ax.set_ylim((-10, 10))\n",
    "    ax.set_title(\"world rappresentation\")\n",
    "    ax.set_xlabel(\"x\")\n",
    "    ax.set_ylabel(\"y\")\n",
    "    ax.plot(np_x_plot, np_y_plot, '-', color = 'b')"
   ]
  },
  {
   "cell_type": "code",
   "execution_count": 3,
   "id": "94397943",
   "metadata": {
    "ExecuteTime": {
     "end_time": "2023-05-22T15:40:23.162279Z",
     "start_time": "2023-05-22T15:40:23.071069Z"
    }
   },
   "outputs": [],
   "source": [
    "def D_cb(b):\n",
    "    if ((act_clnt.get_state()) == 1):\n",
    "        act_clnt.cancel_goal() # delete the goal\n",
    "        n_deleted = rospy.get_param('n_deleted') # get the actual number of goal deleted\n",
    "        n_deleted = n_deleted + 1 # increase it\n",
    "        rospy.set_param('n_deleted', n_deleted) # load it in the paramserver\n",
    "        pr_goalf[len(pr_goalf) - 1] = True"
   ]
  },
  {
   "cell_type": "code",
   "execution_count": 4,
   "id": "1742a026",
   "metadata": {
    "ExecuteTime": {
     "end_time": "2023-05-22T15:40:23.178124Z",
     "start_time": "2023-05-22T15:40:23.167986Z"
    }
   },
   "outputs": [],
   "source": [
    "def N_cb(b):\n",
    "    if ((Gx.disabled == True) and (Gy.disabled == True)):\n",
    "        Gx.disabled = False\n",
    "        Gy.disabled = False     \n",
    "        N.disabled = True"
   ]
  },
  {
   "cell_type": "code",
   "execution_count": 5,
   "id": "c636fa2e",
   "metadata": {
    "ExecuteTime": {
     "end_time": "2023-05-22T15:40:23.186006Z",
     "start_time": "2023-05-22T15:40:23.181674Z"
    }
   },
   "outputs": [],
   "source": [
    "def I_cb(b):\n",
    "    info = srv_info()\n",
    "    Gr.value = info.n_goal\n",
    "    Gd.value = info.n_deleted"
   ]
  },
  {
   "cell_type": "code",
   "execution_count": 6,
   "id": "4072c0af",
   "metadata": {
    "ExecuteTime": {
     "end_time": "2023-05-22T15:40:23.209165Z",
     "start_time": "2023-05-22T15:40:23.188685Z"
    }
   },
   "outputs": [],
   "source": [
    "def II():\n",
    "    global bx\n",
    "        \n",
    "    # if it's the first time the function is called:\n",
    "    if (len(pr_goalx) == 1):\n",
    "        \n",
    "        # info box for the goal list:\n",
    "        # name:\n",
    "        Gl_n = widgets.Text(value = 'Goal list', disabled = True, layout = L3)\n",
    "        Glx_n = widgets.Text(value = 'x_goal', disabled = True, layout = L2)\n",
    "        Gly_n = widgets.Text(value = 'y_goal', disabled = True, layout = L2)\n",
    "        Glf_n = widgets.Text(value = 'deleted', disabled = True, layout = L2)\n",
    "        Gl1 = HBox([Glx_n, Gly_n, Glf_n])\n",
    "        Gl = VBox([Gl_n, Gl1])\n",
    "        # connect to the already done menu:\n",
    "        display(Gl)\n",
    "               \n",
    "    # data:\n",
    "    Glx = widgets.FloatText(value = pr_goalx[len(pr_goalx) - 1], disabled = True, layout = L2, continuous_update = True)\n",
    "    Gly = widgets.FloatText(value = pr_goaly[len(pr_goaly) - 1], disabled = True, layout = L2, continuous_update = True)\n",
    "    Glf = widgets.Valid(value = pr_goalf[len(pr_goalf) - 1], layout = L2, continuous_update = True)\n",
    "    \n",
    "    # combination:\n",
    "    Gl2 = HBox([Glx, Gly, Glf])\n",
    "    \n",
    "    # connect to the already done menu:\n",
    "    display(Gl2)\n",
    "    \n",
    "    # plot the goals\n",
    "    np_Gx_plot = np.array(pr_goalx)\n",
    "    np_Gy_plot = np.array(pr_goaly)\n",
    "    bx.plot(np_Gx_plot, np_Gy_plot, '*', color='r')  "
   ]
  },
  {
   "cell_type": "code",
   "execution_count": 7,
   "id": "160f6114",
   "metadata": {
    "ExecuteTime": {
     "end_time": "2023-05-22T15:40:23.226338Z",
     "start_time": "2023-05-22T15:40:23.213623Z"
    }
   },
   "outputs": [],
   "source": [
    "def NGx_cb(value):   \n",
    "    Gx.disabled = True\n",
    "    goal.target_pose.pose.position.x = float(Gx.value)\n",
    "    if (Gy.disabled):\n",
    "        N.disabled = False\n",
    "        act_clnt.send_goal(goal)\n",
    "        pr_goalx.append(Gx.value)\n",
    "        pr_goaly.append(Gy.value)\n",
    "        pr_goalf.append(False)\n",
    "        II()"
   ]
  },
  {
   "cell_type": "code",
   "execution_count": 8,
   "id": "730f2a21",
   "metadata": {
    "ExecuteTime": {
     "end_time": "2023-05-22T15:40:23.235952Z",
     "start_time": "2023-05-22T15:40:23.228712Z"
    }
   },
   "outputs": [],
   "source": [
    "def NGy_cb(value):    \n",
    "    Gy.disabled = True\n",
    "    goal.target_pose.pose.position.y = float(Gy.value)\n",
    "    if (Gx.disabled):\n",
    "        N.disabled = False  \n",
    "        act_clnt.send_goal(goal)\n",
    "        pr_goalx.append(Gx.value)\n",
    "        pr_goaly.append(Gy.value)\n",
    "        pr_goalf.append(False)\n",
    "        II()"
   ]
  },
  {
   "cell_type": "code",
   "execution_count": 9,
   "id": "852e71ea",
   "metadata": {
    "ExecuteTime": {
     "end_time": "2023-05-22T15:40:23.740077Z",
     "start_time": "2023-05-22T15:40:23.239628Z"
    }
   },
   "outputs": [
    {
     "data": {
      "application/vnd.jupyter.widget-view+json": {
       "model_id": "c6974f98f6264f02a7237eb044ec4ccf",
       "version_major": 2,
       "version_minor": 0
      },
      "text/plain": [
       "HBox(children=(VBox(children=(Button(button_style='danger', description='Delete Goal', layout=Layout(height='1…"
      ]
     },
     "metadata": {},
     "output_type": "display_data"
    },
    {
     "data": {
      "application/vnd.jupyter.widget-view+json": {
       "model_id": "86a9ea91920d40eda0b09320c8de787e",
       "version_major": 2,
       "version_minor": 0
      },
      "image/png": "[encoded data removed]",
      "text/html": [
       "\n",
       "            <div style=\"display: inline-block;\">\n",
       "                <div class=\"jupyter-widgets widget-label\" style=\"text-align: center;\">\n",
       "                    Figure\n",
       "                </div>\n",
       "                <img src='data:image/png;base64,iVBORw0KGgoAAAANSUhEUgAAAoAAAAHgCAYAAAA10dzkAAAAOXRFWHRTb2Z0d2FyZQBNYXRwbG90bGliIHZlcnNpb24zLjcuMSwgaHR0cHM6Ly9tYXRwbG90bGliLm9yZy/bCgiHAAAACXBIWXMAAA9hAAAPYQGoP6dpAAAI6ElEQVR4nO3WMRUCURDAwIVH/f37OwdrAAo0wBWZUZAyj5l5DwAAGa+Zmeu65pxzdwsAAD+2u98BPOcYQACAiOfdAQAA/JcBBACIMYAAADEGEAAgxgACAMQYQACAGAMIABBjAAEAYgwgAECMAQQAiDGAAAAxBhAAIMYAAgDEGEAAgBgDCAAQYwABAGIMIABAjAEEAIgxgAAAMQYQACDGAAIAxBhAAIAYAwgAEGMAAQBiDCAAQIwBBACIMYAAADEGEAAgxgACAMQYQACAGAMIABBjAAEAYgwgAECMAQQAiDGAAAAxBhAAIMYAAgDEGEAAgBgDCAAQYwABAGIMIABAjAEEAIgxgAAAMQYQACDGAAIAxBhAAIAYAwgAEGMAAQBiDCAAQIwBBACIMYAAADEGEAAgxgACAMQYQACAGAMIABBjAAEAYgwgAECMAQQAiDGAAAAxBhAAIMYAAgDEGEAAgBgDCAAQYwABAGIMIABAjAEEAIgxgAAAMQYQACDGAAIAxBhAAIAYAwgAEGMAAQBiDCAAQIwBBACIMYAAADEGEAAgxgACAMQYQACAGAMIABBjAAEAYgwgAECMAQQAiDGAAAAxBhAAIMYAAgDEGEAAgBgDCAAQYwABAGIMIABAjAEEAIgxgAAAMQYQACDGAAIAxBhAAIAYAwgAEGMAAQBiDCAAQIwBBACIMYAAADEGEAAgxgACAMQYQACAGAMIABBjAAEAYgwgAECMAQQAiDGAAAAxBhAAIMYAAgDEGEAAgBgDCAAQYwABAGIMIABAjAEEAIgxgAAAMQYQACDGAAIAxBhAAIAYAwgAEGMAAQBiDCAAQIwBBACIMYAAADEGEAAgxgACAMQYQACAGAMIABBjAAEAYgwgAECMAQQAiDGAAAAxBhAAIMYAAgDEGEAAgBgDCAAQYwABAGIMIABAjAEEAIgxgAAAMQYQACDGAAIAxBhAAIAYAwgAEGMAAQBiDCAAQIwBBACIMYAAADEGEAAgxgACAMQYQACAGAMIABBjAAEAYgwgAECMAQQAiDGAAAAxBhAAIMYAAgDEGEAAgBgDCAAQYwABAGIMIABAjAEEAIgxgAAAMQYQACDGAAIAxBhAAIAYAwgAEGMAAQBiDCAAQIwBBACIMYAAADEGEAAgxgACAMQYQACAGAMIABBjAAEAYgwgAECMAQQAiDGAAAAxBhAAIMYAAgDEGEAAgBgDCAAQYwABAGIMIABAjAEEAIgxgAAAMQYQACDGAAIAxBhAAIAYAwgAEGMAAQBiDCAAQIwBBACIMYAAADEGEAAgxgACAMQYQACAGAMIABBjAAEAYgwgAECMAQQAiDGAAAAxBhAAIMYAAgDEGEAAgBgDCAAQYwABAGIMIABAjAEEAIgxgAAAMQYQACDGAAIAxBhAAIAYAwgAEGMAAQBiDCAAQIwBBACIMYAAADEGEAAgxgACAMQYQACAGAMIABBjAAEAYgwgAECMAQQAiDGAAAAxBhAAIMYAAgDEGEAAgBgDCAAQYwABAGIMIABAjAEEAIgxgAAAMQYQACDGAAIAxBhAAIAYAwgAEGMAAQBiDCAAQIwBBACIMYAAADEGEAAgxgACAMQYQACAGAMIABBjAAEAYgwgAECMAQQAiDGAAAAxBhAAIMYAAgDEGEAAgBgDCAAQYwABAGIMIABAjAEEAIgxgAAAMQYQACDGAAIAxBhAAIAYAwgAEGMAAQBiDCAAQIwBBACIMYAAADEGEAAgxgACAMQYQACAGAMIABBjAAEAYgwgAECMAQQAiDGAAAAxBhAAIMYAAgDEGEAAgBgDCAAQYwABAGIMIABAjAEEAIgxgAAAMQYQACDGAAIAxBhAAIAYAwgAEGMAAQBiDCAAQIwBBACIMYAAADEGEAAgxgACAMQYQACAGAMIABBjAAEAYgwgAECMAQQAiDGAAAAxBhAAIMYAAgDEGEAAgBgDCAAQYwABAGIMIABAjAEEAIgxgAAAMQYQACDGAAIAxBhAAIAYAwgAEGMAAQBiDCAAQIwBBACIMYAAADEGEAAgxgACAMQYQACAGAMIABBjAAEAYgwgAECMAQQAiDGAAAAxBhAAIMYAAgDEGEAAgBgDCAAQYwABAGIMIABAjAEEAIgxgAAAMQYQACDGAAIAxBhAAIAYAwgAEGMAAQBiDCAAQIwBBACIMYAAADEGEAAgxgACAMQYQACAGAMIABBjAAEAYgwgAECMAQQAiDGAAAAxBhAAIMYAAgDEGEAAgBgDCAAQYwABAGIMIABAjAEEAIgxgAAAMQYQACDGAAIAxBhAAIAYAwgAEGMAAQBiDCAAQIwBBACIMYAAADEGEAAgxgACAMQYQACAGAMIABBjAAEAYgwgAECMAQQAiDGAAAAxBhAAIMYAAgDEGEAAgBgDCAAQYwABAGIMIABAjAEEAIgxgAAAMQYQACDGAAIAxBhAAIAYAwgAEGMAAQBiDCAAQIwBBACIMYAAADEGEAAgxgACAMQYQACAGAMIABBjAAEAYgwgAECMAQQAiDGAAAAxBhAAIMYAAgDEGEAAgBgDCAAQYwABAGIMIABAjAEEAIgxgAAAMQYQACDGAAIAxBhAAIAYAwgAEGMAAQBiDCAAQIwBBACIMYAAADEGEAAgxgACAMQYQACAGAMIABBjAAEAYgwgAECMAQQAiDGAAAAxBhAAIMYAAgDEGEAAgBgDCAAQYwABAGIMIABAjAEEAIgxgAAAMQYQACDGAAIAxBhAAIAYAwgAEGMAAQBiDCAAQIwBBACIMYAAADEGEAAgxgACAMQYQACAGAMIABBjAAEAYgwgAECMAQQAiDGAAAAxBhAAIMYAAgDEGEAAgBgDCAAQYwABAGIMIABAjAEEAIgxgAAAMQYQACDGAAIAxBhAAIAYAwgAEGMAAQBiDCAAQIwBBACIMYAAADEGEAAgxgACAMQYQACAGAMIABBjAAEAYgwgAECMAQQAiDGAAAAxBhAAIMYAAgDEGEAAgBgDCAAQYwABAGIMIABAjAEEAIgxgAAAMQYQACDmNTOzu3d3AADwB7s7H7RQEG5mp+FJAAAAAElFTkSuQmCC' width=640.0/>\n",
       "            </div>\n",
       "        "
      ],
      "text/plain": [
       "Canvas(toolbar=Toolbar(toolitems=[('Home', 'Reset original view', 'home', 'home'), ('Back', 'Back to previous …"
      ]
     },
     "metadata": {},
     "output_type": "display_data"
    }
   ],
   "source": [
    "# different layout:\n",
    "L1 = Layout(width = 'auto', height = '10%', min_width = '80px', min_height = '54px', max_width = '160px')\n",
    "L2 = Layout(width = 'auto', height = '5%', min_width = '40px', min_height = '20px', max_width = '80px')\n",
    "L3 = Layout(width = 'auto', height = '5%', min_width = '80px', min_height = '20px', max_width = '160px')\n",
    "\n",
    "# delete goal button:\n",
    "D = widgets.Button(value = False, description = 'Delete Goal', disabled = False, button_style = 'danger', layout = L1, continuous_update = False)\n",
    "\n",
    "# new goal button:\n",
    "N = widgets.Button(value = False, description = 'New Goal', disabled = False, button_style = 'success', layout = L1, continuous_update = False)\n",
    "\n",
    "# information button:\n",
    "I = widgets.Button(value = False, description = 'Information', disabled = False, button_style = 'info', layout = L1, continuous_update = False)\n",
    "\n",
    "\n",
    "# info box for the goal coordinates:\n",
    "# name:\n",
    "Gx_n = widgets.Text(value = 'x_goal', disabled = True, layout = L2)\n",
    "Gy_n = widgets.Text(value = 'y_goal', disabled = True, layout = L2)\n",
    "# data:\n",
    "Gx = widgets.FloatText(value = '0.00', disabled = True, layout = L2, continuous_update = False)\n",
    "Gy = widgets.FloatText(value = '0.00', disabled = True, layout = L2, continuous_update = False)\n",
    "# combination:\n",
    "Gx_c = VBox([Gx_n, Gx])\n",
    "Gy_c = VBox([Gy_n, Gy])\n",
    "Gxy = HBox([Gx_c, Gy_c])\n",
    "\n",
    "# info box for the goal reached and deleted:\n",
    "# name:\n",
    "Gr_n = widgets.Text(value = 'goal_r', disabled = True, layout = L2)\n",
    "Gd_n = widgets.Text(value = 'goal_d', disabled = True, layout = L2)\n",
    "# data:\n",
    "Gr = widgets.FloatText(value = '0.00', disabled = True, layout = L2, continuous_update = False)\n",
    "Gd = widgets.FloatText(value = '0.00', disabled = True, layout = L2, continuous_update = False)\n",
    "# combination:\n",
    "Gr_c = VBox([Gr_n, Gr])\n",
    "Gd_c = VBox([Gd_n, Gd])\n",
    "Grd = HBox([Gr_c, Gd_c])\n",
    "\n",
    "# combine everything\n",
    "UI = VBox([D, HBox([N, Gxy]), HBox([I, Grd])])\n",
    "\n",
    "\n",
    "# second menu with robot position, closer obstacles, goal list:\n",
    "out = widgets.Output(layout={'border': '1px solid black'})\n",
    "\n",
    "# info box for the robot position:\n",
    "# name:\n",
    "Rp_n = widgets.Text(value = 'robot position', disabled = True, layout = L3)\n",
    "Rpx_n = widgets.Text(value = 'x_robot', disabled = True, layout = L2)\n",
    "Rpy_n = widgets.Text(value = 'y_robot', disabled = True, layout = L2)\n",
    "# data:\n",
    "Rpx = widgets.FloatText(value = '0.00', disabled = True, layout = L2, continuous_update = True)\n",
    "Rpy = widgets.FloatText(value = '0.00', disabled = True, layout = L2, continuous_update = True)\n",
    "# combination:\n",
    "Rpx_c = VBox([Rpx_n, Rpx])\n",
    "Rpy_c = VBox([Rpy_n, Rpy])\n",
    "Rpxy_c = HBox([Rpx_c, Rpy_c])\n",
    "Rpxy = VBox([Rp_n, Rpxy_c])\n",
    "\n",
    "# info box for the closer obstacle:\n",
    "# name:\n",
    "Co_n = widgets.Text(value = 'closer obstacle', disabled = True, layout = L3)\n",
    "Cod_n = widgets.Text(value = 'dist', disabled = True, layout = L2)\n",
    "Coa_n = widgets.Text(value = 'angle', disabled = True, layout = L2)\n",
    "# data:\n",
    "Cod = widgets.FloatText(value = '0.00', disabled = True, layout = L2, continuous_update = True)\n",
    "Coa = widgets.FloatText(value = '0.00', disabled = True, layout = L2, continuous_update = True)\n",
    "# combination:\n",
    "Cod_c = VBox([Cod_n, Cod])\n",
    "Coa_c = VBox([Coa_n, Coa])\n",
    "Coda_c = HBox([Cod_c, Coa_c])\n",
    "Coda = VBox([Co_n, Coda_c])\n",
    "\n",
    "# combine everything\n",
    "IM = VBox([Rpxy, Coda])\n",
    "\n",
    "# combine UI and IM and print:\n",
    "CUI = HBox([UI, IM])\n",
    "\n",
    "# plot\n",
    "graph_view()\n",
    "\n",
    "display(CUI)\n",
    "\n",
    "# callbacks:\n",
    "D.on_click(D_cb)\n",
    "N.on_click(N_cb)\n",
    "Gx.observe(NGx_cb, names = 'value')\n",
    "Gy.observe(NGy_cb, names = 'value')\n",
    "I.on_click(I_cb)"
   ]
  },
  {
   "cell_type": "code",
   "execution_count": 10,
   "id": "515c9042",
   "metadata": {
    "ExecuteTime": {
     "end_time": "2023-05-22T15:40:23.754958Z",
     "start_time": "2023-05-22T15:40:23.742974Z"
    }
   },
   "outputs": [],
   "source": [
    "def odom_cb(msg):\n",
    "    global Rpx, Rpy, act_clnt, gf, x, y, i, ax\n",
    "    \n",
    "    # get position valeu and display them in the text window:\n",
    "    Rpx.value = msg.pose.pose.position.x\n",
    "    Rpy.value = msg.pose.pose.position.y\n",
    "    \n",
    "    # add the same data in the position stored:\n",
    "    if (len(x) < 30):\n",
    "        x.append(msg.pose.pose.position.x)\n",
    "        y.append(msg.pose.pose.position.y)\n",
    "    else:\n",
    "        x[i] = msg.pose.pose.position.x\n",
    "        y[i] = msg.pose.pose.position.y\n",
    "        i += i\n",
    "    \n",
    "    # plot:\n",
    "    np_x_plot = np.array(x)\n",
    "    np_y_plot = np.array(y)\n",
    "    ax.plot(np_x_plot, np_y_plot)    \n",
    "    \n",
    "    \n",
    "    if (act_clnt.get_state() == 3 and gf == 0): # if i've reached the goal\n",
    "        n_goal = rospy.get_param('n_goal') # get the actual number of goal\n",
    "        n_goal = n_goal + 1 # increase it\n",
    "        rospy.set_param('n_goal', n_goal) # load it in the paramserver\n",
    "        gf = 1\n",
    "    elif (act_clnt.get_state() != 3):\n",
    "        gf = 0    \n",
    "    "
   ]
  },
  {
   "cell_type": "code",
   "execution_count": 11,
   "id": "afd43544",
   "metadata": {
    "ExecuteTime": {
     "end_time": "2023-05-22T15:40:23.768177Z",
     "start_time": "2023-05-22T15:40:23.758087Z"
    }
   },
   "outputs": [],
   "source": [
    "def scan_cb(msg):\n",
    "    Cod.value = min(min(msg.ranges[0:719]), 10)\n",
    "    Coa.value = (msg.ranges.index(min(min(msg.ranges[0:719]), 10)) + 1)"
   ]
  },
  {
   "cell_type": "code",
   "execution_count": 12,
   "id": "9a13ec16",
   "metadata": {
    "ExecuteTime": {
     "end_time": "2023-05-22T15:40:24.227069Z",
     "start_time": "2023-05-22T15:40:23.772377Z"
    }
   },
   "outputs": [],
   "source": [
    "rospy.init_node('user_interface', anonymous=True) # init the node\n",
    "act_clnt = actionlib.SimpleActionClient('/reaching_goal', assignment_2_2022.msg.PlanningAction)\n",
    "act_clnt.wait_for_server()\n",
    "sub_odom = jr.subscribe('/odom', Odometry, odom_cb)\n",
    "sud_scan = jr.subscribe('/scan',LaserScan, scan_cb)\n",
    "srv_info = rospy.ServiceProxy(\"/info\", Ngoal)\n",
    "rospy.wait_for_service(\"/info\")\n",
    "rospy.set_param('n_goal', 0)\n",
    "rospy.set_param('n_deleted', 0) "
   ]
  },
  {
   "cell_type": "code",
   "execution_count": null,
   "id": "a3cfde9a",
   "metadata": {},
   "outputs": [],
   "source": []
  },
  {
   "cell_type": "code",
   "execution_count": null,
   "id": "e98e0e51",
   "metadata": {},
   "outputs": [],
   "source": []
  }
 ],
 "metadata": {
  "kernelspec": {
   "display_name": "Python 3 (ipykernel)",
   "language": "python",
   "name": "python3"
  },
  "language_info": {
   "codemirror_mode": {
    "name": "ipython",
    "version": 3
   },
   "file_extension": ".py",
   "mimetype": "text/x-python",
   "name": "python",
   "nbconvert_exporter": "python",
   "pygments_lexer": "ipython3",
   "version": "3.8.10"
  },
  "toc": {
   "base_numbering": 1,
   "nav_menu": {},
   "number_sections": true,
   "sideBar": true,
   "skip_h1_title": false,
   "title_cell": "Table of Contents",
   "title_sidebar": "Contents",
   "toc_cell": false,
   "toc_position": {
    "height": "calc(100% - 180px)",
    "left": "10px",
    "top": "150px",
    "width": "165px"
   },
   "toc_section_display": true,
   "toc_window_display": false
  },
  "varInspector": {
   "cols": {
    "lenName": 16,
    "lenType": 16,
    "lenVar": 40
   },
   "kernels_config": {
    "python": {
     "delete_cmd_postfix": "",
     "delete_cmd_prefix": "del ",
     "library": "var_list.py",
     "varRefreshCmd": "print(var_dic_list())"
    },
    "r": {
     "delete_cmd_postfix": ") ",
     "delete_cmd_prefix": "rm(",
     "library": "var_list.r",
     "varRefreshCmd": "cat(var_dic_list()) "
    }
   },
   "position": {
    "height": "332.85px",
    "left": "554px",
    "right": "20px",
    "top": "120px",
    "width": "350px"
   },
   "types_to_exclude": [
    "module",
    "function",
    "builtin_function_or_method",
    "instance",
    "_Feature"
   ],
   "window_display": false
  }
 },
 "nbformat": 4,
 "nbformat_minor": 5
}

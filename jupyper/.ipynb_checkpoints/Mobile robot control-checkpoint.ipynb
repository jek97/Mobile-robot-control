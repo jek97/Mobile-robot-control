{
 "cells": [
  {
   "cell_type": "markdown",
   "id": "847bb782",
   "metadata": {},
   "source": [
    "# User interface Node #"
   ]
  },
  {
   "cell_type": "code",
   "execution_count": 1,
   "id": "a6c1f861",
   "metadata": {
    "ExecuteTime": {
     "end_time": "2023-05-18T21:25:21.129962Z",
     "start_time": "2023-05-18T21:25:20.434552Z"
    }
   },
   "outputs": [],
   "source": [
    "#! /usr/bin/env python3\n",
    "\n",
    "import rospy\n",
    "import actionlib\n",
    "import actionlib.msg\n",
    "from assignment_2_2022.srv import Ngoal\n",
    "import assignment_2_2022.msg\n",
    "import time\n",
    "import sys\n",
    "import select\n",
    "import os   \n",
    "import ipywidgets as widgets\n",
    "from ipywidgets import VBox, HBox, Layout\n",
    "import logging\n",
    "from IPython.display import display"
   ]
  },
  {
   "cell_type": "code",
   "execution_count": 2,
   "id": "94397943",
   "metadata": {
    "ExecuteTime": {
     "end_time": "2023-05-18T21:25:21.144792Z",
     "start_time": "2023-05-18T21:25:21.133247Z"
    }
   },
   "outputs": [],
   "source": [
    "def D_cb(b):\n",
    "    if ((act_clnt.get_state()) == 1):\n",
    "        act_clnt.cancel_goal() # delete the goal\n",
    "        n_deleted = rospy.get_param('n_deleted') # get the actual number of goal deleted\n",
    "        n_deleted = n_deleted + 1 # increase it\n",
    "        rospy.set_param('n_deleted', n_deleted) # load it in the paramserver"
   ]
  },
  {
   "cell_type": "code",
   "execution_count": 3,
   "id": "1742a026",
   "metadata": {
    "ExecuteTime": {
     "end_time": "2023-05-18T21:25:21.160002Z",
     "start_time": "2023-05-18T21:25:21.151923Z"
    }
   },
   "outputs": [],
   "source": [
    "def N_cb(Gx, Gy):\n",
    "    if (Gx.disabled and Gy.disabled):\n",
    "        Gx.disabled = False\n",
    "        Gy.disabled = False     \n",
    "        N.disabled = True"
   ]
  },
  {
   "cell_type": "code",
   "execution_count": 4,
   "id": "160f6114",
   "metadata": {
    "ExecuteTime": {
     "end_time": "2023-05-18T21:25:21.171402Z",
     "start_time": "2023-05-18T21:25:21.163365Z"
    }
   },
   "outputs": [],
   "source": [
    "def NG_cb(b):\n",
    "    \n",
    "    logger = logging.getLogger()\n",
    "    logger.setLevel(logging.DEBUG)\n",
    "    logging.debug(\"NG_CB\")\n",
    "    \n",
    "    Gx.disabled = True\n",
    "    Gy.disabled = True\n",
    "    N.disabled = False  \n",
    "    goal.target_pose.pose.position.x = float(Gx.value)\n",
    "    goal.target_pose.pose.position.y = float(Gy.value)\n",
    "    act_clnt.send_goal(goal)\n",
    "    "
   ]
  },
  {
   "cell_type": "code",
   "execution_count": 5,
   "id": "c636fa2e",
   "metadata": {
    "ExecuteTime": {
     "end_time": "2023-05-18T21:25:21.192059Z",
     "start_time": "2023-05-18T21:25:21.183727Z"
    }
   },
   "outputs": [],
   "source": [
    "def I_cb(b):\n",
    "    info = srv_info()\n",
    "    Gr.value = info.n_goal\n",
    "    Gd.value = info.n_deleted"
   ]
  },
  {
   "cell_type": "code",
   "execution_count": 6,
   "id": "852e71ea",
   "metadata": {
    "ExecuteTime": {
     "end_time": "2023-05-18T21:25:21.218934Z",
     "start_time": "2023-05-18T21:25:21.195128Z"
    }
   },
   "outputs": [],
   "source": [
    "def UI(): \n",
    "    # different layout:\n",
    "    L1 = Layout(width = 'auto', height = '10%', min_width = '80px', min_height = '54px', max_width = '160px')\n",
    "    L2 = Layout(width = 'auto', height = '5%', min_width = '40px', min_height = '20px', max_width = '80px')\n",
    "    \n",
    "    # delete goal button:\n",
    "    D = widgets.Button(value = False, description = 'Delete Goal', disabled = False, button_style = 'danger', layout = L1, continuous_update = False)\n",
    "    \n",
    "    # new goal button:\n",
    "    N = widgets.Button(value = False, description = 'New Goal', disabled = False, button_style = 'success', layout = L1, continuous_update = False)\n",
    "    \n",
    "    # information button:\n",
    "    I = widgets.Button(value = False, description = 'Information', disabled = False, button_style = 'info', layout = L1, continuous_update = False)\n",
    "    \n",
    "    # info box for the goal coordinates:\n",
    "    # name:\n",
    "    Gx_n = widgets.Text(value = 'x_goal', disabled = True, layout = L2)\n",
    "    Gy_n = widgets.Text(value = 'y_goal', disabled = True, layout = L2)\n",
    "    # data:\n",
    "    Gx = widgets.FloatText(value = '0.00', disabled = True, layout = L2, continuous_update = False)\n",
    "    Gy = widgets.FloatText(value = '0.00', disabled = True, layout = L2, continuous_update = False)\n",
    "    # combination:\n",
    "    Gx_c = VBox([Gx_n, Gx])\n",
    "    Gy_c = VBox([Gy_n, Gy])\n",
    "    Gxy = HBox([Gx_c, Gy_c])\n",
    "    \n",
    "    \n",
    "    # info box for the goal reached and deleted: FloatText\n",
    "    # name:\n",
    "    Gr_n = widgets.Text(value = 'goal_r', disabled = True, layout = L2)\n",
    "    Gd_n = widgets.Text(value = 'goal_d', disabled = True, layout = L2)\n",
    "    # data:\n",
    "    Gr = widgets.FloatText(value = '0.00', disabled = True, layout = L2, continuous_update = False)\n",
    "    Gd = widgets.FloatText(value = '0.00', disabled = True, layout = L2, continuous_update = False)\n",
    "    # combination:\n",
    "    Gr_c = VBox([Gr_n, Gr])\n",
    "    Gd_c = VBox([Gd_n, Gd])\n",
    "    Grd = HBox([Gr_c, Gd_c])\n",
    "    \n",
    "    # constraints on the dimensions: 0.00\n",
    "    \n",
    "    # button callbacks:\n",
    "    D.on_click(D_cb)\n",
    "    N.on_click(N_cb)\n",
    "    # when i've typed what needed in the text boxes call the cb NG_cb()\n",
    "    #Gx.observe(NG_cb)\n",
    "    #Gy.observe(NG_cb, names = 'value')\n",
    "    I.on_click(I_cb)\n",
    "    \n",
    "    \n",
    "        \n",
    "    # combine everything\n",
    "    UI = VBox([D, HBox([N, Gxy]), HBox([I, Grd])])\n",
    "    \n",
    "    \n",
    "    logger = logging.getLogger()\n",
    "    logger.setLevel(logging.DEBUG)\n",
    "    logging.debug(\"display\")\n",
    "\n",
    "    display(UI)"
   ]
  },
  {
   "cell_type": "code",
   "execution_count": null,
   "id": "9a13ec16",
   "metadata": {
    "ExecuteTime": {
     "start_time": "2023-05-18T21:25:52.524Z"
    }
   },
   "outputs": [],
   "source": [
    "def main():\n",
    "    # ROS node\n",
    "    gf = 0 # goal flag to increase the number of goal only the first time the state pass to succeeded\n",
    "    goal = assignment_2_2022.msg.PlanningGoal() \n",
    "    goal.target_pose.pose.position.z = 0.0\n",
    "    info = Ngoal()\n",
    "    n_goal = 0 # number of goal reached\n",
    "    n_deleted = 0 # number of goal deleted\n",
    "    \n",
    "    rospy.init_node('user_interface', anonymous=True) # init the node\n",
    "    act_clnt = actionlib.SimpleActionClient('/reaching_goal', assignment_2_2022.msg.PlanningAction)\n",
    "    act_clnt.wait_for_server()\n",
    "    srv_info = rospy.ServiceProxy(\"/info\", Ngoal)\n",
    "    rospy.wait_for_service(\"/info\")\n",
    "    \n",
    "    rospy.set_param('n_goal', n_goal) # setting the parameters in the paramserver\n",
    "    rospy.set_param('n_deleted', n_deleted) # setting the parameters in the paramserver\n",
    "    \n",
    "    logger = logging.getLogger()\n",
    "    logger.setLevel(logging.DEBUG)\n",
    "    logging.debug(\"befui\")\n",
    "\n",
    "    UI()\n",
    "        \n",
    "    while True:\n",
    "        \n",
    "        logger = logging.getLogger()\n",
    "        logger.setLevel(logging.DEBUG)\n",
    "        logging.debug(\"befui\")\n",
    "        \n",
    "        \n",
    "        \n",
    "        logger = logging.getLogger()\n",
    "        logger.setLevel(logging.DEBUG)\n",
    "        logging.debug(\"afui\")\n",
    "        \n",
    "        if (act_clnt.get_state() == 3 and gf == 0): # if i've reached the goal\n",
    "            n_goal = rospy.get_param('n_goal') # get the actual number of goal\n",
    "            n_goal = n_goal + 1 # increase it\n",
    "            rospy.set_param('n_goal', n_goal) # load it in the paramserver\n",
    "            gf = 1\n",
    "        elif (act_clnt.get_state() != 3):\n",
    "            gf = 0\n",
    "        else:\n",
    "            continue\n",
    "        \n",
    "main()\n",
    "    "
   ]
  },
  {
   "cell_type": "code",
   "execution_count": null,
   "id": "b39e97c4",
   "metadata": {},
   "outputs": [],
   "source": []
  },
  {
   "cell_type": "code",
   "execution_count": null,
   "id": "b07d56e8",
   "metadata": {},
   "outputs": [],
   "source": []
  }
 ],
 "metadata": {
  "kernelspec": {
   "display_name": "Python 3 (ipykernel)",
   "language": "python",
   "name": "python3"
  },
  "language_info": {
   "codemirror_mode": {
    "name": "ipython",
    "version": 3
   },
   "file_extension": ".py",
   "mimetype": "text/x-python",
   "name": "python",
   "nbconvert_exporter": "python",
   "pygments_lexer": "ipython3",
   "version": "3.8.10"
  },
  "toc": {
   "base_numbering": 1,
   "nav_menu": {},
   "number_sections": true,
   "sideBar": true,
   "skip_h1_title": false,
   "title_cell": "Table of Contents",
   "title_sidebar": "Contents",
   "toc_cell": false,
   "toc_position": {},
   "toc_section_display": true,
   "toc_window_display": false
  },
  "varInspector": {
   "cols": {
    "lenName": 16,
    "lenType": 16,
    "lenVar": 40
   },
   "kernels_config": {
    "python": {
     "delete_cmd_postfix": "",
     "delete_cmd_prefix": "del ",
     "library": "var_list.py",
     "varRefreshCmd": "print(var_dic_list())"
    },
    "r": {
     "delete_cmd_postfix": ") ",
     "delete_cmd_prefix": "rm(",
     "library": "var_list.r",
     "varRefreshCmd": "cat(var_dic_list()) "
    }
   },
   "types_to_exclude": [
    "module",
    "function",
    "builtin_function_or_method",
    "instance",
    "_Feature"
   ],
   "window_display": false
  }
 },
 "nbformat": 4,
 "nbformat_minor": 5
}

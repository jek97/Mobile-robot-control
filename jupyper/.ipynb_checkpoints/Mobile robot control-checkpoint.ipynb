{
 "cells": [
  {
   "cell_type": "markdown",
   "id": "847bb782",
   "metadata": {},
   "source": [
    "# User interface Node #\n",
    "This node will create a user interface for the Bug0 robot, in it the user will be able to set a new goal, delete the current one or get infromations about the number of goal reached or deleted."
   ]
  },
  {
   "cell_type": "markdown",
   "id": "0e9163b3",
   "metadata": {},
   "source": [
    "### Libraries and global variables: ###\n",
    "In this first cell a series of libraries needed for the User interface are imported and the global variables are istantiated."
   ]
  },
  {
   "cell_type": "code",
   "execution_count": null,
   "id": "a6c1f861",
   "metadata": {
    "ExecuteTime": {
     "end_time": "2023-05-30T14:29:13.381304Z",
     "start_time": "2023-05-30T14:29:10.210474Z"
    }
   },
   "outputs": [],
   "source": [
    "#! /usr/bin/env python3\n",
    "\n",
    "%matplotlib widget\n",
    "import rospy\n",
    "import time\n",
    "import sys\n",
    "import select\n",
    "import os\n",
    "import tf\n",
    "import actionlib\n",
    "import actionlib.msg\n",
    "import assignment_2_2022.msg\n",
    "from nav_msgs.msg import Odometry\n",
    "from sensor_msgs.msg import LaserScan\n",
    "from assignment_2_2022.srv import Ngoal\n",
    "import ipywidgets as widgets\n",
    "from ipywidgets import VBox, HBox, Layout\n",
    "import logging\n",
    "from IPython.display import display\n",
    "import jupyros as jr\n",
    "import numpy as np\n",
    "import matplotlib.pyplot as plt\n",
    "from matplotlib.animation import FuncAnimation\n",
    "\n",
    "act_clnt = None # istantiate the action client \n",
    "goal = assignment_2_2022.msg.PlanningGoal() # istantiate the goal message to send \n",
    "goal.target_pose.pose.position.z = 0.0 # set its third component equal to 0\n",
    "info = Ngoal() # istantiate the info request for the service (number of goal reached and deleted)\n",
    "srv_info = None # istantiate the responce\n",
    "gf = 0 # goal flag to increase the number of goal only the first time the state pass to succeeded\n",
    "count_scan = 0 # counter used to optimize the scan callback"
   ]
  },
  {
   "cell_type": "markdown",
   "id": "efcda627",
   "metadata": {},
   "source": [
    "### Visualizer class: ###\n",
    "This class is used to create and then plot a graph in which represent the world.\n",
    "first the `__init__` function initialize the figure and its graph, then the arrays in which the position of the robot and the goals will be stored are initialized, both for the single components 'x' and 'y' and for the one containing both like `ln_r` and `ln_g`, after that the title is set as the label of the axes, the legend and the counter used in the `odom_cb` to plot one position of the robot over ten.\n",
    "secondly in the `plot_init`the limit for both the axes is set.\n",
    "after that the `odom_cb` is defined, in it the method will check if it's the tenth time the method is called, in this case the position of the robot will be stored in the arrays `x_data` and `y_data` and the counter `odom_count` will be resetted, in all the cases the counter will be increased by one.\n",
    "the `goal_update` function follow the same reasoning but will store the goal location under in the arrays `x_goal` and `y_goal` all the times the function is called.\n",
    "finally the `refresh_plot` will be used to update the plot setting the data of the two lists `ln_r` for the position of the robot and `ln_g` for the one of the goal."
   ]
  },
  {
   "cell_type": "code",
   "execution_count": null,
   "id": "2ea1c453",
   "metadata": {
    "ExecuteTime": {
     "end_time": "2023-05-30T14:29:13.404567Z",
     "start_time": "2023-05-30T14:29:13.386461Z"
    }
   },
   "outputs": [],
   "source": [
    "class Visualizer:\n",
    "\n",
    "    def __init__(self): # method to initialize the figure\n",
    "        self.fig, self.ax = plt.subplots() # init the figure and the graph\n",
    "        self.x_data, self.y_data = [], [] # init the arrays to store the robot position\n",
    "        self.x_goal, self.y_goal = [], [] # init the arrays to store the goal positions\n",
    "        self.ln_r, = plt.plot([], [], label = 'robot position', color = 'blue') # init the array in which store the final positions of the robot, with the line style\n",
    "        self.ln_g, = plt.plot([], [], marker = 'X', label = 'goals', color = 'red', linestyle = 'None') # init the array in which store the final positions of the goals, with the markers style\n",
    "        self.ax.set_title('World Representation') # set the graph title\n",
    "        self.ax.set_xlabel('x') # set the x axis label\n",
    "        self.ax.set_ylabel('y') # set the y axis label\n",
    "        self.ax.legend() # add a legend\n",
    "        self.odom_count = 0 # initialize the counter to 0\n",
    "        \n",
    "    def plot_init(self): # method to initilize the graph\n",
    "        self.ax.set_xlim(-10, 10) # set the x axis bounds\n",
    "        self.ax.set_ylim(-10, 10) # set the y axis bounds\n",
    "        return self.ln_r, self.ln_g\n",
    "     \n",
    "    def odom_cb(self, msg): # callback of the /odom subscription\n",
    "        if (self.odom_count == 10): # if it's the tenth time the method is called\n",
    "            self.x_data.append(round(msg.pose.pose.position.x, 2)) # add the new robot x position to the array\n",
    "            self.y_data.append(round(msg.pose.pose.position.y, 2)) # add the new robot y position to the array\n",
    "            \n",
    "            self.odom_count = 0 # reset the counter\n",
    "        \n",
    "        self.odom_count += 1 # in all the case increase the counter\n",
    "            \n",
    "    def goal_update(self, ngoal_x, ngoal_y): # method to store the goals position\n",
    "        self.x_goal.append(ngoal_x) # add the x coordinate of the goal to the array\n",
    "        self.y_goal.append(ngoal_y)# add the y coordinate of the goal to the array\n",
    "\n",
    "    def refresh_plot(self, frame): # method to update the graph \n",
    "        self.ln_r.set_data(self.x_data, self.y_data) # set the robot position data to plot to the new ones\n",
    "        self.ln_g.set_data(self.x_goal, self.y_goal) # set the goals position data to plot to the new ones\n",
    "        return self.ln_r, self.ln_g"
   ]
  },
  {
   "cell_type": "markdown",
   "id": "f7d9809e",
   "metadata": {},
   "source": [
    "### scan_cb function: ###\n",
    "This is the callback of the `/scan` subscriber, each time a new scan detection is acquired this method will be called, in detail one time over fifty the distance to the closer obstacle and the angle to it will be displayed in the relative text box. (note the Lidar of the robot scan the space in front of the robot in 720 partitions, the formula used below move the result in degree between -90 and 90)"
   ]
  },
  {
   "cell_type": "code",
   "execution_count": null,
   "id": "afd43544",
   "metadata": {
    "ExecuteTime": {
     "end_time": "2023-05-30T14:29:13.512888Z",
     "start_time": "2023-05-30T14:29:13.423022Z"
    }
   },
   "outputs": [],
   "source": [
    "def scan_cb(msg):\n",
    "    global count_scan, gf\n",
    "    \n",
    "    if (count_scan == 50): # one time over fifty\n",
    "        Cod.value = round(min(msg.ranges), 2) # set the distance to the closer obstacle in the text box\n",
    "        Coa.value = ((msg.ranges.index(min(msg.ranges)) + 1) / 4) - 90 # set the angle to it\n",
    "        count_scan = -1 # reset the counter\n",
    "    \n",
    "    count_scan += 1 # increase the counter\n",
    "    \n",
    "    # keep track if the robot reach the goal:\n",
    "    if (act_clnt.get_state() == 3 and gf == 0): # if i've reached the goal\n",
    "        n_goal = rospy.get_param('n_goal') # get the actual number of goal\n",
    "        n_goal = n_goal + 1 # increase it\n",
    "        rospy.set_param('n_goal', n_goal) # load it in the paramserver\n",
    "        gf = 1\n",
    "    elif (act_clnt.get_state() != 3):\n",
    "        gf = 0"
   ]
  },
  {
   "cell_type": "markdown",
   "id": "d4caf1ed",
   "metadata": {},
   "source": [
    "### Node cell: ###\n",
    "This cell will create the actual node, initially it will initialize it and will call the visualizer class under the name `vis` then will create an action client and wait for its existence, done that the node will subscribe to the `/odom` topic, to get the position of the robot, and the `/scan` topic to get the Lidar data.\n",
    "Done that it will connect as service client to the service `/info` which will return the number of goal reached and deleted, wait for its existence and then initialize the parameters of the number of goals reached and deleted to zero."
   ]
  },
  {
   "cell_type": "code",
   "execution_count": null,
   "id": "9a13ec16",
   "metadata": {
    "ExecuteTime": {
     "end_time": "2023-05-30T14:29:14.436001Z",
     "start_time": "2023-05-30T14:29:13.515526Z"
    }
   },
   "outputs": [],
   "source": [
    "rospy.init_node('user_interface', anonymous=True) # init the node\n",
    "vis = Visualizer() # istantiate the visualizer\n",
    "act_clnt = actionlib.SimpleActionClient('/reaching_goal', assignment_2_2022.msg.PlanningAction) # connect to the action server\n",
    "act_clnt.wait_for_server() # wait for the action server existence\n",
    "sub_odom = jr.subscribe('/odom', Odometry, vis.odom_cb) # subscribe to the /odom topic\n",
    "sud_scan = jr.subscribe('/scan',LaserScan, scan_cb) # subscribe to the /scan topic\n",
    "srv_info = rospy.ServiceProxy(\"/info\", Ngoal) # connect to the service server\n",
    "rospy.wait_for_service(\"/info\") # wait for the service server existance\n",
    "rospy.set_param('n_goal', 0) # init the param n_goal (reached)\n",
    "rospy.set_param('n_deleted', 0) # init the param n_deleted"
   ]
  },
  {
   "cell_type": "markdown",
   "id": "6b7a77ac",
   "metadata": {},
   "source": [
    "### D_cb function: ###\n",
    "This is the callback of the `D` button, used to delete the current goal, once the button is pressed it will check if there is an active goal, will delete it, will recover the actual number of goal deleted from the ros parameter server, increase it and then set it back in the ros parameter server."
   ]
  },
  {
   "cell_type": "code",
   "execution_count": null,
   "id": "94397943",
   "metadata": {
    "ExecuteTime": {
     "end_time": "2023-05-30T14:29:14.483546Z",
     "start_time": "2023-05-30T14:29:14.460701Z"
    }
   },
   "outputs": [],
   "source": [
    "def D_cb(b):\n",
    "    if ((act_clnt.get_state()) == 1): # in this case there is an active goal\n",
    "        act_clnt.cancel_goal() # delete the goal\n",
    "        n_deleted = rospy.get_param('n_deleted') # get the actual number of goal deleted\n",
    "        n_deleted = n_deleted + 1 # increase it\n",
    "        rospy.set_param('n_deleted', n_deleted) # load it in the paramserver"
   ]
  },
  {
   "cell_type": "markdown",
   "id": "e80cb1d2",
   "metadata": {},
   "source": [
    "### N_cb function: ###\n",
    "This is the callback of the `N` button, used to set a new goal, once pressed it will first check that the user finished to insert the previous goal, done that it activate the texts boxes to put the coordinate of the goal and deactivate itself.  "
   ]
  },
  {
   "cell_type": "code",
   "execution_count": null,
   "id": "1742a026",
   "metadata": {
    "ExecuteTime": {
     "end_time": "2023-05-30T14:29:14.524196Z",
     "start_time": "2023-05-30T14:29:14.496066Z"
    }
   },
   "outputs": [],
   "source": [
    "def N_cb(b):\n",
    "    if ((Gx.disabled == True) and (Gy.disabled == True)): # check if the previous goal insertion is finished\n",
    "        Gx.disabled = False # unlock the x goal text box\n",
    "        Gy.disabled = False # unlock the y goal text box\n",
    "        N.disabled = True # lock the N button till the insertion of the goal is finshed"
   ]
  },
  {
   "cell_type": "markdown",
   "id": "37505ac1",
   "metadata": {},
   "source": [
    "### I_cb function: ###\n",
    "This is the callback of the `I` button, used to obtain information about the number of goal reached and deleted, it will first call the service `srv_info`, provided by an external node, obtained the data from it it will set the two value of the text boxes with the relative value."
   ]
  },
  {
   "cell_type": "code",
   "execution_count": null,
   "id": "c636fa2e",
   "metadata": {
    "ExecuteTime": {
     "end_time": "2023-05-30T14:29:14.558694Z",
     "start_time": "2023-05-30T14:29:14.539931Z"
    }
   },
   "outputs": [],
   "source": [
    "def I_cb(b):\n",
    "    info = srv_info() # obtain the number of goal reached and deleted\n",
    "    Gr.value = info.n_goal # set the number of goal reached in the right text box\n",
    "    Gd.value = info.n_deleted # set the number of goal deleted in the right text box"
   ]
  },
  {
   "cell_type": "markdown",
   "id": "98a39ded",
   "metadata": {},
   "source": [
    "### NGx_cb function: ###\n",
    "This is the callback of the text box in which the x coordinate of the goal will be set, it will be called once the user press enter or once written something different from the previous value it click away from it.\n",
    "the function will first disable the text box, meaning the user will no longer be able to type anything in it, then it will set the x coordinate in the goal message that then will be send to the action server.\n",
    "done that the function will check if the user as putted also the other coordinate, and if so it will enable again the `N` button, send the goal, moreover it will call the visualizer method `vis.goal_update` to display the new goal on the graph passing its coordinates."
   ]
  },
  {
   "cell_type": "code",
   "execution_count": null,
   "id": "160f6114",
   "metadata": {
    "ExecuteTime": {
     "end_time": "2023-05-30T14:29:14.594943Z",
     "start_time": "2023-05-30T14:29:14.572818Z"
    }
   },
   "outputs": [],
   "source": [
    "def NGx_cb(value):   \n",
    "    Gx.disabled = True # disable text box\n",
    "    goal.target_pose.pose.position.x = float(Gx.value) # set the x coordinates of the goal\n",
    "    if (Gy.disabled): # if the user has already set the other coordinate\n",
    "        N.disabled = False # enable again the N button\n",
    "        act_clnt.send_goal(goal) # send the goal\n",
    "        vis.goal_update(Gx.value, Gy.value) # pass the coordinates of the goal to the visualizer"
   ]
  },
  {
   "cell_type": "markdown",
   "id": "1101774d",
   "metadata": {},
   "source": [
    "### NGy_cb function: ###\n",
    "This is the callback of the text box in which the y coordinate of the goal will be set, it will work exactly as the `NGy_cb` function."
   ]
  },
  {
   "cell_type": "code",
   "execution_count": null,
   "id": "730f2a21",
   "metadata": {
    "ExecuteTime": {
     "end_time": "2023-05-30T14:29:14.633237Z",
     "start_time": "2023-05-30T14:29:14.621587Z"
    }
   },
   "outputs": [],
   "source": [
    "def NGy_cb(value):    \n",
    "    Gy.disabled = True # disable text box\n",
    "    goal.target_pose.pose.position.y = float(Gy.value) # set the x coordinates of the goal\n",
    "    if (Gx.disabled): # if the user has already set the other coordinate\n",
    "        N.disabled = False # enable again the N button\n",
    "        act_clnt.send_goal(goal) # send the goal\n",
    "        vis.goal_update(Gx.value, Gy.value) # pass the coordinates of the goal to the visualizer"
   ]
  },
  {
   "cell_type": "markdown",
   "id": "9a80f8bf",
   "metadata": {},
   "source": [
    "### User interface: ###\n",
    "This cell will create the user interface that the user will use to control the behavior of the robot, in detail it will display three buttons, one for deleting the goal `D`, one for set a new goal `N` and the relative text boxes with the title to insert the coordinates and one last button `I` to recover the number of goal reached and deleted and display those information in two text boxes with the relative labels.\n",
    "More over this cell will display the world representation, thanks to the `FuncAnimation` function and the `Visualizer` class, display the above mentioned user interface and create the callback for the buttons and text boxes."
   ]
  },
  {
   "cell_type": "code",
   "execution_count": null,
   "id": "852e71ea",
   "metadata": {
    "ExecuteTime": {
     "end_time": "2023-05-30T14:29:15.081120Z",
     "start_time": "2023-05-30T14:29:14.642639Z"
    }
   },
   "outputs": [],
   "source": [
    "# different layout:\n",
    "L1 = Layout(width = 'auto', height = '10%', min_width = '80px', min_height = '54px', max_width = '160px') \n",
    "L2 = Layout(width = 'auto', height = '5%', min_width = '40px', min_height = '20px', max_width = '80px')\n",
    "L3 = Layout(width = 'auto', height = '5%', min_width = '80px', min_height = '20px', max_width = '160px')\n",
    "\n",
    "# delete goal button:\n",
    "D = widgets.Button(value = False, description = 'Delete Goal', disabled = False, button_style = 'danger', layout = L1, continuous_update = False)\n",
    "\n",
    "# new goal button:\n",
    "N = widgets.Button(value = False, description = 'New Goal', disabled = False, button_style = 'success', layout = L1, continuous_update = False)\n",
    "\n",
    "# information button:\n",
    "I = widgets.Button(value = False, description = 'Information', disabled = False, button_style = 'info', layout = L1, continuous_update = False)\n",
    "\n",
    "\n",
    "# info box for the goal coordinates:\n",
    "# name:\n",
    "Gx_n = widgets.Text(value = 'x_goal', disabled = True, layout = L2)\n",
    "Gy_n = widgets.Text(value = 'y_goal', disabled = True, layout = L2)\n",
    "# data:\n",
    "Gx = widgets.FloatText(value = '0.00', disabled = True, layout = L2, continuous_update = False)\n",
    "Gy = widgets.FloatText(value = '0.00', disabled = True, layout = L2, continuous_update = False)\n",
    "# combination:\n",
    "Gx_c = VBox([Gx_n, Gx])\n",
    "Gy_c = VBox([Gy_n, Gy])\n",
    "Gxy = HBox([Gx_c, Gy_c])\n",
    "\n",
    "# info box for the goal reached and deleted:\n",
    "# name:\n",
    "Gr_n = widgets.Text(value = 'goal_r', disabled = True, layout = L2)\n",
    "Gd_n = widgets.Text(value = 'goal_d', disabled = True, layout = L2)\n",
    "# data:\n",
    "Gr = widgets.FloatText(value = '0.00', disabled = True, layout = L2, continuous_update = False)\n",
    "Gd = widgets.FloatText(value = '0.00', disabled = True, layout = L2, continuous_update = False)\n",
    "# combination:\n",
    "Gr_c = VBox([Gr_n, Gr])\n",
    "Gd_c = VBox([Gd_n, Gd])\n",
    "Grd = HBox([Gr_c, Gd_c])\n",
    "\n",
    "# combine everything\n",
    "UI = VBox([D, HBox([N, Gxy]), HBox([I, Grd])])\n",
    "\n",
    "# info box for the closer obstacle:\n",
    "# name:\n",
    "Co_n = widgets.Text(value = 'closer obstacle', disabled = True, layout = L3)\n",
    "Cod_n = widgets.Text(value = 'dist', disabled = True, layout = L2)\n",
    "Coa_n = widgets.Text(value = 'angle', disabled = True, layout = L2)\n",
    "# data:\n",
    "Cod = widgets.FloatText(value = '0.00', disabled = True, layout = L2, continuous_update = True)\n",
    "Coa = widgets.FloatText(value = '0.00', disabled = True, layout = L2, continuous_update = True)\n",
    "# combination:\n",
    "Cod_c = VBox([Cod_n, Cod])\n",
    "Coa_c = VBox([Coa_n, Coa])\n",
    "Coda_c = HBox([Cod_c, Coa_c])\n",
    "Coda = VBox([Co_n, Coda_c])\n",
    "\n",
    "# combine UI and IM and print:\n",
    "CUI = HBox([UI, Coda])\n",
    "\n",
    "# plot:\n",
    "ani = FuncAnimation(vis.fig, vis.refresh_plot, init_func=vis.plot_init, cache_frame_data=False)\n",
    "plt.show(block = True)\n",
    "\n",
    "display(CUI)\n",
    "\n",
    "# callbacks:\n",
    "D.on_click(D_cb) \n",
    "N.on_click(N_cb)\n",
    "Gx.observe(NGx_cb, names = 'value')\n",
    "Gy.observe(NGy_cb, names = 'value')\n",
    "I.on_click(I_cb)"
   ]
  }
 ],
 "metadata": {
  "kernelspec": {
   "display_name": "Python 3 (ipykernel)",
   "language": "python",
   "name": "python3"
  },
  "language_info": {
   "codemirror_mode": {
    "name": "ipython",
    "version": 3
   },
   "file_extension": ".py",
   "mimetype": "text/x-python",
   "name": "python",
   "nbconvert_exporter": "python",
   "pygments_lexer": "ipython3",
   "version": "3.8.10"
  },
  "toc": {
   "base_numbering": 1,
   "nav_menu": {},
   "number_sections": true,
   "sideBar": true,
   "skip_h1_title": false,
   "title_cell": "Table of Contents",
   "title_sidebar": "Contents",
   "toc_cell": false,
   "toc_position": {
    "height": "calc(100% - 180px)",
    "left": "10px",
    "top": "150px",
    "width": "165px"
   },
   "toc_section_display": true,
   "toc_window_display": false
  },
  "varInspector": {
   "cols": {
    "lenName": 16,
    "lenType": 16,
    "lenVar": 40
   },
   "kernels_config": {
    "python": {
     "delete_cmd_postfix": "",
     "delete_cmd_prefix": "del ",
     "library": "var_list.py",
     "varRefreshCmd": "print(var_dic_list())"
    },
    "r": {
     "delete_cmd_postfix": ") ",
     "delete_cmd_prefix": "rm(",
     "library": "var_list.r",
     "varRefreshCmd": "cat(var_dic_list()) "
    }
   },
   "position": {
    "height": "332.85px",
    "left": "554px",
    "right": "20px",
    "top": "120px",
    "width": "350px"
   },
   "types_to_exclude": [
    "module",
    "function",
    "builtin_function_or_method",
    "instance",
    "_Feature"
   ],
   "window_display": false
  }
 },
 "nbformat": 4,
 "nbformat_minor": 5
}
